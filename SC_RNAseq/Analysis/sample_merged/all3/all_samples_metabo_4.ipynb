{
    "cells": [
        {
            "cell_type": "markdown",
            "metadata": {},
            "source": [
                "# Seurat object\n",
                "\n",
                "## Load required packages\n"
            ]
        },
        {
            "cell_type": "code",
            "execution_count": null,
            "metadata": {},
            "outputs": [],
            "source": [
                "library(Seurat)\n",
                "library(tidyverse)\n",
                "library(ggplot2)\n",
                "library('enrichR')\n",
                "\n",
                "## annotation\n",
                "library(\"SCINA\")\n",
                "library(clustree)\n",
                "\n",
                "library(\"viridis\")\n"
            ]
        },
        {
            "cell_type": "markdown",
            "metadata": {},
            "source": [
                "## Load seurat object (ALL GENES)\n",
                "\n"
            ]
        },
        {
            "cell_type": "code",
            "execution_count": null,
            "metadata": {},
            "outputs": [],
            "source": [
                "seurat_obj <- readRDS(file = './results/rds/all_samples_Clusters.rds')\n",
                "\n",
                "seurat_obj\n",
                "table(seurat_obj$orig.ident)\n"
            ]
        },
        {
            "cell_type": "markdown",
            "metadata": {},
            "source": [
                "\n",
                "## Load seurat object (METABO)\n"
            ]
        },
        {
            "cell_type": "code",
            "execution_count": null,
            "metadata": {},
            "outputs": [],
            "source": [
                "metabo_obj <- readRDS(file = './results/rds/all_samples_Mca_metabo.rds')\n",
                "\n",
                "metabo_obj\n",
                "table(metabo_obj$orig.ident)\n"
            ]
        },
        {
            "cell_type": "markdown",
            "metadata": {},
            "source": [
                "## [ Parameters ]{style=\"color:#296d98;\"}\n",
                "\n"
            ]
        },
        {
            "cell_type": "code",
            "execution_count": null,
            "metadata": {},
            "outputs": [],
            "source": [
                "enrichR_db = \"KEGG_2021_Human\"\n",
                "nb_maxgenes = 200\n",
                "pc = 50\n"
            ]
        },
        {
            "cell_type": "markdown",
            "metadata": {},
            "source": [
                "# Comparison with all genes\n",
                "Coloring metabo clusters on all genes plots (to see in which cluster the cells are going to be associated with the metabo genes only)  \n"
            ]
        },
        {
            "cell_type": "code",
            "execution_count": null,
            "metadata": {},
            "outputs": [],
            "source": [
                "table(rownames(seurat_obj[[]]) == rownames(metabo_obj[[]]))\n",
                "\n"
            ]
        },
        {
            "cell_type": "markdown",
            "metadata": {},
            "source": "\n"
        },
        {
            "cell_type": "code",
            "execution_count": null,
            "metadata": {},
            "outputs": [],
            "source": [
                "levels(metabo_obj$seurat_clusters)\n",
                "levels(seurat_obj$seurat_clusters)\n"
            ]
        },
        {
            "cell_type": "markdown",
            "metadata": {},
            "source": "\n"
        },
        {
            "cell_type": "code",
            "execution_count": null,
            "metadata": {},
            "outputs": [],
            "source": [
                "## change all_genes clusters to metabo ones\n",
                "seurat_obj$metabo_clusters = metabo_obj$seurat_clusters\n",
                "\n",
                "DimPlot(seurat_obj, reduction = \"umap\", group.by= 'metabo_clusters')\n",
                "DimPlot(seurat_obj, reduction = \"umap\", group.by= 'metabo_clusters', label.size = 4, label = TRUE)+ NoLegend()\n",
                "\n",
                "DimPlot(seurat_obj, reduction = \"tsne\", group.by= 'metabo_clusters')\n",
                "DimPlot(seurat_obj, reduction = \"tsne\", group.by= 'metabo_clusters', label.size = 4, label = TRUE)+ NoLegend()\n"
            ]
        },
        {
            "cell_type": "markdown",
            "metadata": {},
            "source": "\n"
        },
        {
            "cell_type": "code",
            "execution_count": null,
            "metadata": {},
            "outputs": [],
            "source": [
                "seurat_obj$cluster.1 <- seurat_obj$seurat_clusters\n",
                "seurat_obj$cluster.2 = metabo_obj$seurat_clusters\n",
                "\n",
                "clustree(seurat_obj, prefix = \"cluster.\")\n"
            ]
        },
        {
            "cell_type": "markdown",
            "metadata": {},
            "source": "\n"
        },
        {
            "cell_type": "code",
            "execution_count": null,
            "metadata": {},
            "outputs": [],
            "source": [
                "seurat_obj$cluster.2 <- seurat_obj$seurat_clusters\n",
                "seurat_obj$cluster.1 = metabo_obj$seurat_clusters\n",
                "\n",
                "clustree(seurat_obj, prefix = \"cluster.\")\n"
            ]
        },
        {
            "cell_type": "markdown",
            "metadata": {},
            "source": [
                "\n",
                "## Split by condition\n"
            ]
        },
        {
            "cell_type": "code",
            "execution_count": null,
            "metadata": {},
            "outputs": [],
            "source": [
                "DimPlot(seurat_obj, reduction = \"umap\", group.by=\"metabo_clusters\", split.by = \"condition\")\n",
                "DimPlot(seurat_obj, reduction = \"umap\", group.by = \"metabo_clusters\", split.by = \"condition\", label.size = 4, label = TRUE)+ NoLegend()\n",
                "DimPlot(seurat_obj, reduction = \"umap\", group.by=\"metabo_clusters\", split.by = \"condition\")+ NoLegend()\n"
            ]
        },
        {
            "cell_type": "markdown",
            "metadata": {},
            "source": "\n"
        },
        {
            "cell_type": "code",
            "execution_count": null,
            "metadata": {},
            "outputs": [],
            "source": [
                "DimPlot(seurat_obj, reduction = \"tsne\", group.by=\"metabo_clusters\", split.by = \"condition\")\n",
                "DimPlot(seurat_obj, reduction = \"tsne\", group.by = \"metabo_clusters\", split.by = \"condition\", label.size = 4, label = TRUE)+ NoLegend()\n",
                "DimPlot(seurat_obj, reduction = \"tsne\", group.by=\"metabo_clusters\", split.by = \"condition\")+ NoLegend()\n"
            ]
        },
        {
            "cell_type": "markdown",
            "metadata": {},
            "source": [
                "\n",
                "## Percentage\n"
            ]
        },
        {
            "cell_type": "code",
            "execution_count": null,
            "metadata": {},
            "outputs": [],
            "source": [
                "tibble(\n",
                "  cluster = seurat_obj$seurat_clusters,\n",
                "  metabo_cluster = seurat_obj$metabo_clusters,\n",
                ") %>%\n",
                "  group_by(cluster,metabo_cluster) %>%\n",
                "  count() %>%\n",
                "  group_by(cluster) %>%\n",
                "  mutate(\n",
                "    percent=(100*n)/sum(n)\n",
                "  ) %>%\n",
                "  ungroup() %>%\n",
                "  mutate(\n",
                "    cluster=paste(\"Cluster\",cluster)\n",
                "  ) %>%\n",
                "  ggplot(aes(x=\"\",y=percent, fill=metabo_cluster)) +\n",
                "  geom_col(width=1) +\n",
                "  coord_polar(\"y\", start=0) +\n",
                "  facet_wrap(vars(cluster)) +  \n",
                "  theme(axis.text.x=element_blank()) +\n",
                "  xlab(NULL) +\n",
                "  ylab(NULL)+ \n",
                "  NoLegend()\n"
            ]
        },
        {
            "cell_type": "markdown",
            "metadata": {},
            "source": "\n"
        },
        {
            "cell_type": "code",
            "execution_count": null,
            "metadata": {},
            "outputs": [],
            "source": [
                "tibble(\n",
                "  cluster = seurat_obj$seurat_clusters,\n",
                "  metabo_cluster = seurat_obj$metabo_clusters,\n",
                ") %>%\n",
                "  group_by(cluster,metabo_cluster) %>%\n",
                "  count() %>%\n",
                "  group_by(cluster) %>%\n",
                "  mutate(\n",
                "    percent=(100*n)/sum(n)\n",
                "  ) %>%\n",
                "  ungroup() %>%\n",
                "  mutate(\n",
                "    cluster=paste(\"Cluster\",cluster)\n",
                "  ) %>%\n",
                "  ggplot(aes(x=\"\",y=percent, fill=metabo_cluster)) +\n",
                "  geom_col(width=1) +\n",
                "  coord_polar(\"y\", start=0) +\n",
                "  facet_wrap(vars(cluster)) +  \n",
                "  theme(axis.text.x=element_blank()) +\n",
                "  xlab(NULL) +\n",
                "  ylab(NULL)\n"
            ]
        },
        {
            "cell_type": "markdown",
            "metadata": {},
            "source": [
                "# Automated Cell type Annotation\n",
                "\n"
            ]
        },
        {
            "cell_type": "code",
            "execution_count": null,
            "metadata": {},
            "outputs": [],
            "source": [
                "as.data.frame(metabo_obj@assays$RNA[,]) -> scina.data\n",
                "\n"
            ]
        },
        {
            "cell_type": "markdown",
            "metadata": {},
            "source": [
                "## Oligo/Astro\n",
                "\n"
            ]
        },
        {
            "cell_type": "code",
            "execution_count": null,
            "metadata": {},
            "outputs": [],
            "source": [
                "## Some markers of oligo/astro cells\n",
                "mature_oligo <- c(\"CNP\", \"UGT8\")\n",
                "astro <- c(\"SLC1A3\",\"APOE\", \"AQP4\",\"ALDH1L1\", \"FABP7\")\n",
                "\n",
                "markers_astro_oligo <- list(\"astro\"=astro, \"mature_oligo\"=mature_oligo)\n"
            ]
        },
        {
            "cell_type": "markdown",
            "metadata": {},
            "source": "\n"
        },
        {
            "cell_type": "code",
            "execution_count": null,
            "metadata": {},
            "outputs": [],
            "source": [
                "SCINA(\n",
                "  scina.data,\n",
                "  markers_astro_oligo, \n",
                "  max_iter = 100, \n",
                "  convergence_n = 10, \n",
                "  convergence_rate = 0.999, \n",
                "  sensitivity_cutoff = 0.9, \n",
                "  rm_overlap=TRUE, \n",
                "  allow_unknown=TRUE\n",
                ") -> scina.results\n",
                "\n",
                "metabo_obj$scina_labels <- scina.results$cell_labels\n"
            ]
        },
        {
            "cell_type": "markdown",
            "metadata": {},
            "source": "\n"
        },
        {
            "cell_type": "code",
            "execution_count": null,
            "metadata": {},
            "outputs": [],
            "source": [
                "colors <- c(astro='seagreen4', mature_oligo='orangered3', unknown=\"lightgray\")\n",
                "\n",
                "DimPlot(metabo_obj,reduction = \"umap\", group.by = \"scina_labels\", cols = colors)\n",
                "DimPlot(metabo_obj,reduction = \"tsne\", group.by = \"scina_labels\", cols = colors)\n"
            ]
        }
    ],
    "metadata": {
        "anaconda-cloud": "",
        "kernelspec": {
            "display_name": "R",
            "langauge": "R",
            "name": "ir"
        },
        "language_info": {
            "codemirror_mode": "r",
            "file_extension": ".r",
            "mimetype": "text/x-r-source",
            "name": "R",
            "pygments_lexer": "r",
            "version": "3.4.1"
        }
    },
    "nbformat": 4,
    "nbformat_minor": 1
}
