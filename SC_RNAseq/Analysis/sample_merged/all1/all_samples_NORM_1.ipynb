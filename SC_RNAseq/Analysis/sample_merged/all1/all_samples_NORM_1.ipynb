{
    "cells": [
        {
            "cell_type": "markdown",
            "metadata": {},
            "source": [
                "# Seurat object  \n",
                "## Load required packages\n"
            ]
        },
        {
            "cell_type": "code",
            "execution_count": null,
            "metadata": {},
            "outputs": [],
            "source": [
                "library(Seurat)\n",
                "library(tidyverse)\n",
                "library(ggplot2)\n",
                "library(\"scales\")\n",
                "library(harmony)\n"
            ]
        },
        {
            "cell_type": "markdown",
            "metadata": {},
            "source": [
                "## Load seurat objects (RAW)\n",
                "\n"
            ]
        },
        {
            "cell_type": "code",
            "execution_count": null,
            "metadata": {},
            "outputs": [],
            "source": [
                "BT1.diff <- readRDS(file = './results/rds/samples/Filtered_BT1_diff.rds')\n",
                "BT1.prolif <- readRDS(file = './results/rds/samples/Filtered_BT1_prolif.rds')\n",
                "BT1.diff@meta.data$line <- \"BT1\"     \n",
                "BT1.prolif@meta.data$line <- \"BT1\"     \n",
                "\n",
                "BT2.diff <- readRDS(file = './results/rds/samples/Filtered_BT2_diff.rds')\n",
                "BT2.prolif <- readRDS(file = './results/rds/samples/Filtered_BT2_prolif.rds')\n",
                "BT2.diff@meta.data$line <- \"BT2\"     \n",
                "BT2.prolif@meta.data$line <- \"BT2\"  \n",
                "\n",
                "BT54.diff <- readRDS(file = './results/rds/samples/Filtered_BT54_diff.rds')\n",
                "BT54.prolif <- readRDS(file = './results/rds/samples/Filtered_BT54_prolif.rds')\n",
                "BT54.diff@meta.data$line <- \"BT54\"     \n",
                "BT54.prolif@meta.data$line <- \"BT54\"  \n",
                "\n",
                "BT88.diff <- readRDS(file = './results/rds/samples/Filtered_BT88_diff.rds')\n",
                "BT88.prolif <- readRDS(file = './results/rds/samples/Filtered_BT88_prolif.rds')\n",
                "BT88.diff@meta.data$line <- \"BT88\"     \n",
                "BT88.prolif@meta.data$line <- \"BT88\"  \n",
                "\n",
                "LGG85.diff <- readRDS(file = './results/rds/samples/Filtered_LGG85_diff.rds')\n",
                "LGG85.prolif <- readRDS(file = './results/rds/samples/Filtered_LGG85_prolif.rds')\n",
                "LGG85.diff@meta.data$line <- \"LGG85\"     \n",
                "LGG85.prolif@meta.data$line <- \"LGG85\"  \n",
                "\n",
                "LGG275.diff <- readRDS(file = './results/rds/samples/Filtered_LGG275_diff.rds')\n",
                "LGG275.prolif <- readRDS(file = './results/rds/samples/Filtered_LGG275_prolif.rds')\n",
                "LGG275.diff@meta.data$line <- \"LGG275\"     \n",
                "LGG275.prolif@meta.data$line <- \"LGG275\" \n",
                "\n",
                "LGG336.diff <- readRDS(file = './results/rds/samples/Filtered_LGG336_diff.rds')\n",
                "LGG336.prolif <- readRDS(file = './results/rds/samples/Filtered_LGG336_prolif.rds')\n",
                "LGG336.diff@meta.data$line <- \"LGG336\"     \n",
                "LGG336.prolif@meta.data$line <- \"LGG336\" \n",
                "\n",
                "LGG349.diff <- readRDS(file = './results/rds/samples/Filtered_LGG349_diff.rds')\n",
                "LGG349.prolif <- readRDS(file = './results/rds/samples/Filtered_LGG349_prolif.rds')\n",
                "LGG349.diff@meta.data$line <- \"LGG349\"     \n",
                "LGG349.prolif@meta.data$line <- \"LGG349\" \n"
            ]
        },
        {
            "cell_type": "markdown",
            "metadata": {},
            "source": [
                "\n",
                "## merge raw samples\n"
            ]
        },
        {
            "cell_type": "code",
            "execution_count": null,
            "metadata": {},
            "outputs": [],
            "source": [
                "seurat_obj <- merge( BT1.prolif, y = c(BT1.diff, BT2.prolif, BT2.diff ,\n",
                "    BT54.prolif, BT54.diff, BT88.prolif, BT88.diff, LGG85.prolif, \n",
                "    LGG85.diff, LGG275.prolif, LGG275.diff, LGG336.prolif, \n",
                "    LGG336.diff, LGG349.prolif, LGG349.diff), \n",
                "  add.cell.ids = c(\"BT1.prolif\",\"BT1.diff\", \"BT2.prolif\", \"BT2.diff\", \"BT54.prolif\", \n",
                "    \"BT54.diff\", \"BT88.prolif\", \"BT88.diff\", \"LGG85.prolif\", \"LGG85.diff\", \"LGG275.prolif\", \n",
                "    \"LGG275.diff\", \"LGG336.prolif\", \"LGG336.diff\", \"LGG349.prolif\", \"LGG349.diff\"), \n",
                "  merge.data = TRUE)\n",
                "\n",
                "seurat_obj\n"
            ]
        },
        {
            "cell_type": "markdown",
            "metadata": {},
            "source": "\n"
        },
        {
            "cell_type": "code",
            "execution_count": null,
            "metadata": {},
            "outputs": [],
            "source": [
                "rm(BT1.prolif, BT1.diff, BT2.prolif, BT2.diff ,\n",
                "    BT54.prolif, BT54.diff, BT88.prolif, BT88.diff, LGG85.prolif, \n",
                "    LGG85.diff, LGG275.prolif, LGG275.diff, LGG336.prolif, \n",
                "    LGG336.diff, LGG349.prolif, LGG349.diff)\n"
            ]
        },
        {
            "cell_type": "markdown",
            "metadata": {},
            "source": [
                "\n",
                "##  <span style=\"color:#296d98;\"> Parameters <\/span>  \n"
            ]
        },
        {
            "cell_type": "code",
            "execution_count": null,
            "metadata": {},
            "outputs": [],
            "source": [
                "pc = 60\n",
                "\n"
            ]
        },
        {
            "cell_type": "markdown",
            "metadata": {},
            "source": [
                "\n",
                "# QC metrics (before norm)\n"
            ]
        },
        {
            "cell_type": "code",
            "execution_count": null,
            "metadata": {},
            "outputs": [],
            "source": [
                "metadata <- seurat_obj@meta.data\n",
                "\n"
            ]
        },
        {
            "cell_type": "markdown",
            "metadata": {},
            "source": [
                "\n",
                "## Nb of reads  \n"
            ]
        },
        {
            "cell_type": "code",
            "execution_count": null,
            "metadata": {},
            "outputs": [],
            "source": [
                "VlnPlot(seurat_obj,features=\"nCount_RNA\", group.by = \"orig.ident\", pt.size = 0)\n",
                "RidgePlot(seurat_obj, features = \"nCount_RNA\", group.by = \"orig.ident\")\n",
                "\n",
                "metadata %>% \n",
                "  ggplot(aes( x=nCount_RNA,y=orig.ident, fill= orig.ident)) + \n",
                "\tgeom_boxplot() + \n",
                "\ttheme_classic()+\n",
                "  scale_x_log10()\n"
            ]
        },
        {
            "cell_type": "markdown",
            "metadata": {},
            "source": [
                "\n",
                "## Nb of genes  \n"
            ]
        },
        {
            "cell_type": "code",
            "execution_count": null,
            "metadata": {},
            "outputs": [],
            "source": [
                "VlnPlot(seurat_obj,features=\"nFeature_RNA\", group.by = \"orig.ident\", pt.size = 0)\n",
                "RidgePlot(seurat_obj, features = \"nFeature_RNA\", group.by = \"orig.ident\")\n",
                "\n",
                "metadata %>% \n",
                "  ggplot(aes( x=nFeature_RNA,y=orig.ident, fill= orig.ident)) + \n",
                "\tgeom_boxplot() + \n",
                "\ttheme_classic()+\n",
                "  scale_x_log10()\n",
                "    \n"
            ]
        },
        {
            "cell_type": "markdown",
            "metadata": {},
            "source": "\n"
        },
        {
            "cell_type": "code",
            "execution_count": null,
            "metadata": {},
            "outputs": [],
            "source": [
                "ggplot(seurat_obj[[]]) + \n",
                "   geom_histogram(aes(nFeature_RNA), \n",
                "                  color = \"#558bdc\", fill= \"#173664\",\n",
                "                  binwidth = 50) + \n",
                "  ggtitle(\"Distribution of nFeature_RNA \") + NoLegend()\n"
            ]
        },
        {
            "cell_type": "markdown",
            "metadata": {},
            "source": [
                "## Gene expression  \n",
                "We can pick the first 100 cells and look at the distributions of their expression values.\n"
            ]
        },
        {
            "cell_type": "code",
            "execution_count": null,
            "metadata": {},
            "outputs": [],
            "source": [
                "apply(seurat_obj@assays$RNA@data,1,mean) -> gene.expression\n",
                "sort(gene.expression, decreasing = TRUE) -> gene.expression\n",
                "\n",
                "as.tibble(\n",
                "  seurat_obj@assays$RNA@data[,1:100]\n",
                ") %>%\n",
                "  pivot_longer(\n",
                "    cols=everything(),\n",
                "    names_to=\"cell\",\n",
                "    values_to=\"expression\"\n",
                "  ) %>%\n",
                "  ggplot(aes(x=expression, group=cell)) +\n",
                "  geom_density() +\n",
                "  coord_cartesian(ylim=c(0,0.6), xlim=c(0,3))\n"
            ]
        },
        {
            "cell_type": "markdown",
            "metadata": {},
            "source": [
                "\n",
                "## MT genes  \n"
            ]
        },
        {
            "cell_type": "code",
            "execution_count": null,
            "metadata": {},
            "outputs": [],
            "source": [
                "seurat_obj[[\"percent.mt\"]] <- PercentageFeatureSet(seurat_obj, pattern = \"^MT-\")\n",
                "VlnPlot(seurat_obj, features = \"percent.mt\", group.by = \"orig.ident\", pt.size = 0)\n",
                "RidgePlot(seurat_obj, features = \"percent.mt\", group.by = \"orig.ident\")\n"
            ]
        },
        {
            "cell_type": "markdown",
            "metadata": {},
            "source": "\n"
        },
        {
            "cell_type": "code",
            "execution_count": null,
            "metadata": {},
            "outputs": [],
            "source": [
                "ggplot(seurat_obj[[]]) + \n",
                "   geom_histogram(aes(percent.mt), \n",
                "                  color = \"#558bdc\", fill= \"#173664\",\n",
                "                  binwidth = 0.5) + \n",
                "  ggtitle(\"Distribution of Percentage Mitochondrion\") + NoLegend()\n"
            ]
        },
        {
            "cell_type": "markdown",
            "metadata": {},
            "source": [
                "\n",
                "## Ribosomal genes  \n"
            ]
        },
        {
            "cell_type": "code",
            "execution_count": null,
            "metadata": {},
            "outputs": [],
            "source": [
                "PercentageFeatureSet(seurat_obj,pattern=\"^RP[LS]\") -> seurat_obj[[\"percent.ribosomal\"]] \n",
                "VlnPlot(seurat_obj, features = \"percent.ribosomal\", group.by = \"orig.ident\", pt.size = 0)\n",
                "RidgePlot(seurat_obj, features = \"percent.ribosomal\", group.by = \"orig.ident\")\n"
            ]
        },
        {
            "cell_type": "markdown",
            "metadata": {},
            "source": "\n"
        },
        {
            "cell_type": "code",
            "execution_count": null,
            "metadata": {},
            "outputs": [],
            "source": [
                "ggplot(seurat_obj[[]]) + \n",
                "   geom_histogram(aes(percent.ribosomal), \n",
                "                  color = \"#558bdc\", fill= \"#173664\",\n",
                "                  binwidth = 0.7) + \n",
                "  ggtitle(\"Distribution of Percentage Ribosomal\") + NoLegend()\n"
            ]
        },
        {
            "cell_type": "markdown",
            "metadata": {},
            "source": [
                "\n",
                "## Largest gene  \n"
            ]
        },
        {
            "cell_type": "code",
            "execution_count": null,
            "metadata": {},
            "outputs": [],
            "source": [
                "apply(\n",
                "  seurat_obj@assays$RNA@counts,\n",
                "  2,\n",
                "  max\n",
                ") -> largest_count\n",
                "\n",
                "apply(\n",
                "  seurat_obj@assays$RNA@counts,\n",
                "  2,\n",
                "  which.max\n",
                ") -> largest_index\n",
                "\n",
                "rownames(seurat_obj)[largest_index] -> seurat_obj$largest_gene\n",
                "\n",
                "100 * largest_count / seurat_obj$nCount_RNA -> seurat_obj$percent.largest_gene\n",
                "\n",
                "VlnPlot(seurat_obj,features=\"percent.largest_gene\", group.by = \"orig.ident\", pt.size = 0)\n",
                "RidgePlot(seurat_obj, features = \"percent.largest_gene\", group.by = \"orig.ident\")\n"
            ]
        },
        {
            "cell_type": "markdown",
            "metadata": {},
            "source": "\n"
        },
        {
            "cell_type": "code",
            "execution_count": null,
            "metadata": {},
            "outputs": [],
            "source": [
                "ggplot(seurat_obj[[]]) + \n",
                "   geom_histogram(aes(percent.largest_gene), \n",
                "                  color = \"#558bdc\", fill= \"#173664\",\n",
                "                  binwidth = 0.7) + \n",
                "  ggtitle(\"Distribution of Percentage Largest Gene\") + NoLegend()\n"
            ]
        },
        {
            "cell_type": "markdown",
            "metadata": {},
            "source": [
                "\n",
                "## FeatureScatter  \n"
            ]
        },
        {
            "cell_type": "code",
            "execution_count": null,
            "metadata": {},
            "outputs": [],
            "source": [
                "FeatureScatter(seurat_obj, feature1 = \"nCount_RNA\", feature2 = \"percent.mt\", group.by =\"orig.ident\")\n",
                "FeatureScatter(seurat_obj,feature1 = \"nCount_RNA\", feature2 = \"percent.largest_gene\",group.by =\"orig.ident\")\n",
                "\n",
                "FeatureScatter(seurat_obj, feature1 = \"nCount_RNA\", feature2 = \"nFeature_RNA\",group.by =\"orig.ident\") + geom_smooth(method = 'lm')\n"
            ]
        },
        {
            "cell_type": "markdown",
            "metadata": {},
            "source": [
                "\n",
                "## Cell cycle scoring  \n"
            ]
        },
        {
            "cell_type": "code",
            "execution_count": null,
            "metadata": {},
            "outputs": [],
            "source": [
                "seurat_obj <- CellCycleScoring(seurat_obj, s.features = cc.genes.updated.2019$s.genes, g2m.features = cc.genes.updated.2019$g2m.genes, set.ident = TRUE)\n",
                "\n",
                "as_tibble(seurat_obj[[]]) %>%\n",
                "  ggplot(aes(Phase, fill=Phase)) +\n",
                "  scale_fill_manual( values=c(G1='azure4',G2M='dodgerblue',S='tomato3'))+ geom_bar()\n",
                "\n",
                "\n",
                "as_tibble(seurat_obj[[]]) %>%\n",
                "  ggplot(aes(x=S.Score, y=G2M.Score, color=Phase)) + \n",
                "  scale_color_manual( values=c(G1='azure4',G2M='dodgerblue',S='tomato3')) +\n",
                "  geom_point() +\n",
                "  coord_cartesian(xlim=c(-0.15,0.15), ylim=c(-0.15,0.15))\n"
            ]
        },
        {
            "cell_type": "markdown",
            "metadata": {},
            "source": [
                "# Normalization  \n",
                "## Zero counts   \n",
                "See features without any counts left after the filtering.\n"
            ]
        },
        {
            "cell_type": "code",
            "execution_count": null,
            "metadata": {},
            "outputs": [],
            "source": [
                "counts <- GetAssayData(seurat_obj, assay = \"RNA\")\n",
                "zero <- which(rowSums(counts) == 0 )\n",
                "length(zero)\n",
                "\n",
                "keep.genes <- which(rowSums(counts) != 0 )\n",
                "seurat_obj <- subset(seurat_obj, features = keep.genes)\n",
                "seurat_obj\n"
            ]
        },
        {
            "cell_type": "markdown",
            "metadata": {},
            "source": [
                "## Normalize\n",
                "1: Normalizes the feature expression measurements for each cell by the total expression, multiplies this by a scale factor (10,000 by default), and log-transforms the result.  \n",
                "\n",
                "This simplistic normalisation doesn’t actually normalise the quantitative data very well because it’s so biased by the proportion of zero values in the dataset. This simplistic normalisation therefore doesn’t do a great job in this instance.\n",
                "\n",
                "2: With a centered log ratio transformation - more similar to the sort of size factor based normalisation which is used for many RNA-Seq experiments.\n"
            ]
        },
        {
            "cell_type": "code",
            "execution_count": null,
            "metadata": {},
            "outputs": [],
            "source": [
                "seurat_obj <- NormalizeData(seurat_obj, normalization.method = \"LogNormalize\", scale.factor = 10000)\n",
                "\n"
            ]
        },
        {
            "cell_type": "markdown",
            "metadata": {},
            "source": [
                "\n",
                "# QC metrics (after norm) \n"
            ]
        },
        {
            "cell_type": "code",
            "execution_count": null,
            "metadata": {},
            "outputs": [],
            "source": [
                "metadata <- seurat_obj@meta.data\n",
                "\n"
            ]
        },
        {
            "cell_type": "markdown",
            "metadata": {},
            "source": [
                "\n",
                "## Nb of reads  \n"
            ]
        },
        {
            "cell_type": "code",
            "execution_count": null,
            "metadata": {},
            "outputs": [],
            "source": [
                "VlnPlot(seurat_obj,features=\"nCount_RNA\", group.by = \"orig.ident\", pt.size = 0)\n",
                "RidgePlot(seurat_obj, features = \"nCount_RNA\", group.by = \"orig.ident\")\n",
                "\n",
                "metadata %>% \n",
                "  ggplot(aes( x=nCount_RNA,y=orig.ident, fill= orig.ident)) + \n",
                "\tgeom_boxplot() + \n",
                "\ttheme_classic()+\n",
                "  scale_x_log10()\n"
            ]
        },
        {
            "cell_type": "markdown",
            "metadata": {},
            "source": "\n"
        },
        {
            "cell_type": "code",
            "execution_count": null,
            "metadata": {},
            "outputs": [],
            "source": [
                "nCount_metabo <- as.data.frame(rowSums(seurat_obj[[\"nCount_RNA\"]]))\n",
                "nCount_metabo$Genes <- \"metabo\"\n",
                "colnames(nCount_metabo)[1] <- \"nCount\"\n",
                "\n",
                "nCount_all <- as.data.frame(rowSums(seurat_obj[[\"nCount_RNA\"]]))\n",
                "nCount_all$Genes <- \"all\"\n",
                "colnames(nCount_all)[1] <- \"nCount\"\n",
                "\n",
                "other <- nCount_all\n",
                "other$Genes <- \"others\"\n",
                "dim(other)\n",
                "other <- other[!(rownames(other) %in% rownames(seurat_obj$RNA)),]\n",
                "\n",
                "expr <- rbind(nCount_all, nCount_metabo, other)\n",
                "head(expr)\n",
                "ggplot(expr, aes(x=Genes,y=nCount)) + geom_boxplot()\n"
            ]
        },
        {
            "cell_type": "markdown",
            "metadata": {},
            "source": [
                "\n",
                "## Nb of genes  \n"
            ]
        },
        {
            "cell_type": "code",
            "execution_count": null,
            "metadata": {},
            "outputs": [],
            "source": [
                "VlnPlot(seurat_obj,features=\"nFeature_RNA\", group.by = \"orig.ident\", pt.size = 0)\n",
                "RidgePlot(seurat_obj, features = \"nFeature_RNA\", group.by = \"orig.ident\")\n",
                "\n",
                "metadata %>% \n",
                "  ggplot(aes( x=nFeature_RNA,y=orig.ident, fill= orig.ident)) + \n",
                "\tgeom_boxplot() + \n",
                "\ttheme_classic()+\n",
                "    scale_x_log10()\n",
                "    scale_x_log10()\n",
                "    \n",
                "  scale_x_log10()\n",
                "    \n"
            ]
        },
        {
            "cell_type": "markdown",
            "metadata": {},
            "source": "\n"
        },
        {
            "cell_type": "code",
            "execution_count": null,
            "metadata": {},
            "outputs": [],
            "source": [
                "ggplot(seurat_obj[[]]) + \n",
                "   geom_histogram(aes(nFeature_RNA), \n",
                "                  color = \"#558bdc\", fill= \"#173664\",\n",
                "                  binwidth = 50) + \n",
                "  ggtitle(\"Distribution of nFeature_RNA \") + NoLegend()\n"
            ]
        },
        {
            "cell_type": "markdown",
            "metadata": {},
            "source": [
                "## Gene expression  \n",
                "We can pick the first 100 cells and look at the distributions of their expression values.\n"
            ]
        },
        {
            "cell_type": "code",
            "execution_count": null,
            "metadata": {},
            "outputs": [],
            "source": [
                "as.tibble(\n",
                "  seurat_obj@assays$RNA@data[,1:100]\n",
                ") %>%\n",
                "  pivot_longer(\n",
                "    cols=everything(),\n",
                "    names_to=\"cell\",\n",
                "    values_to=\"expression\"\n",
                "  ) %>%\n",
                "  ggplot(aes(x=expression, group=cell)) +\n",
                "  geom_density() +\n",
                "  coord_cartesian(ylim=c(0,0.6), xlim=c(0,3))\n"
            ]
        },
        {
            "cell_type": "markdown",
            "metadata": {},
            "source": "\n"
        },
        {
            "cell_type": "code",
            "execution_count": null,
            "metadata": {},
            "outputs": [],
            "source": [
                "expression_metabo <- as.data.frame(rowSums(seurat_obj@assays$RNA@data))\n",
                "expression_metabo$Genes <- \"metabo\"\n",
                "colnames(expression_metabo)[1] <- \"expression\"\n",
                "\n",
                "expression_all <- as.data.frame(rowSums(seurat_obj@assays$RNA@data))\n",
                "expression_all$Genes <- \"all\"\n",
                "colnames(expression_all)[1] <- \"expression\"\n",
                "\n",
                "other <- expression_all\n",
                "other$Genes <- \"others\"\n",
                "dim(other)\n",
                "other <- other[!(rownames(other) %in% rownames(seurat_obj$RNA)),]\n",
                "\n",
                "expr <- rbind(expression_all, expression_metabo, other)\n",
                "head(expr)\n",
                "ggplot(expr, aes(x=Genes,y=log(expression+1))) + geom_boxplot()\n"
            ]
        },
        {
            "cell_type": "markdown",
            "metadata": {},
            "source": [
                "## MT genes  \n",
                "### All genes\n"
            ]
        },
        {
            "cell_type": "code",
            "execution_count": null,
            "metadata": {},
            "outputs": [],
            "source": [
                "VlnPlot(seurat_obj, features = \"percent.mt\", group.by = \"orig.ident\", pt.size = 0)\n",
                "RidgePlot(seurat_obj, features = \"percent.mt\", group.by = \"orig.ident\")\n"
            ]
        },
        {
            "cell_type": "markdown",
            "metadata": {},
            "source": "\n"
        },
        {
            "cell_type": "code",
            "execution_count": null,
            "metadata": {},
            "outputs": [],
            "source": [
                "ggplot(seurat_obj[[]]) + \n",
                "   geom_histogram(aes(percent.mt), \n",
                "                  color = \"#558bdc\", fill= \"#173664\",\n",
                "                  binwidth = 0.5) + \n",
                "  ggtitle(\"Distribution of Percentage Mitochondrion\") + NoLegend()\n"
            ]
        },
        {
            "cell_type": "markdown",
            "metadata": {},
            "source": [
                "\n",
                "### Metabo only\n"
            ]
        },
        {
            "cell_type": "code",
            "execution_count": null,
            "metadata": {},
            "outputs": [],
            "source": [
                "seurat_obj[[\"percent.mt\"]] <- PercentageFeatureSet(seurat_obj, pattern = \"^MT-\", assay = 'RNA')\n",
                "VlnPlot(seurat_obj, features = \"percent.mt\", group.by = \"orig.ident\", pt.size = 0)\n",
                "RidgePlot(seurat_obj, features = \"percent.mt\", group.by = \"orig.ident\")\n"
            ]
        },
        {
            "cell_type": "markdown",
            "metadata": {},
            "source": "\n"
        },
        {
            "cell_type": "code",
            "execution_count": null,
            "metadata": {},
            "outputs": [],
            "source": [
                "ggplot(seurat_obj[[]]) + \n",
                "   geom_histogram(aes(percent.mt), \n",
                "                  color = \"#558bdc\", fill= \"#173664\",\n",
                "                  binwidth = 0.5) + \n",
                "  ggtitle(\"Distribution of Percentage Mitochondrion\") + NoLegend()\n"
            ]
        },
        {
            "cell_type": "markdown",
            "metadata": {},
            "source": [
                "## Ribosomal genes  \n",
                "### All genes  \n"
            ]
        },
        {
            "cell_type": "code",
            "execution_count": null,
            "metadata": {},
            "outputs": [],
            "source": [
                "VlnPlot(seurat_obj, features = \"percent.ribosomal\", group.by = \"orig.ident\", pt.size = 0)\n",
                "RidgePlot(seurat_obj, features = \"percent.ribosomal\", group.by = \"orig.ident\")\n"
            ]
        },
        {
            "cell_type": "markdown",
            "metadata": {},
            "source": "\n"
        },
        {
            "cell_type": "code",
            "execution_count": null,
            "metadata": {},
            "outputs": [],
            "source": [
                "ggplot(seurat_obj[[]]) + \n",
                "   geom_histogram(aes(percent.ribosomal), \n",
                "                  color = \"#558bdc\", fill= \"#173664\",\n",
                "                  binwidth = 0.7) + \n",
                "  ggtitle(\"Distribution of Percentage Ribosomal\") + NoLegend()\n"
            ]
        },
        {
            "cell_type": "markdown",
            "metadata": {},
            "source": [
                "\n",
                "### Metabo only  \n"
            ]
        },
        {
            "cell_type": "code",
            "execution_count": null,
            "metadata": {},
            "outputs": [],
            "source": [
                "PercentageFeatureSet(seurat_obj,pattern=\"^RP[LS]\", assay = 'RNA') -> seurat_obj[[\"percent.ribosomal\"]] \n",
                "VlnPlot(seurat_obj, features = \"percent.ribosomal\", group.by = \"orig.ident\", pt.size = 0)\n",
                "RidgePlot(seurat_obj, features = \"percent.ribosomal\", group.by = \"orig.ident\")\n"
            ]
        },
        {
            "cell_type": "markdown",
            "metadata": {},
            "source": "\n"
        },
        {
            "cell_type": "code",
            "execution_count": null,
            "metadata": {},
            "outputs": [],
            "source": [
                "ggplot(seurat_obj[[]]) + \n",
                "   geom_histogram(aes(percent.ribosomal), \n",
                "                  color = \"#558bdc\", fill= \"#173664\",\n",
                "                  binwidth = 0.7) + \n",
                "  ggtitle(\"Distribution of Percentage Ribosomal\") + NoLegend()\n"
            ]
        },
        {
            "cell_type": "markdown",
            "metadata": {},
            "source": [
                "\n",
                "## Largest gene  (All genes)\n"
            ]
        },
        {
            "cell_type": "code",
            "execution_count": null,
            "metadata": {},
            "outputs": [],
            "source": [
                "VlnPlot(seurat_obj, features = \"percent.largest_gene\", group.by = \"orig.ident\", pt.size = 0)\n",
                "RidgePlot(seurat_obj, features = \"percent.largest_gene\", group.by = \"orig.ident\")\n"
            ]
        },
        {
            "cell_type": "markdown",
            "metadata": {},
            "source": "\n"
        },
        {
            "cell_type": "code",
            "execution_count": null,
            "metadata": {},
            "outputs": [],
            "source": [
                "ggplot(seurat_obj[[]]) + \n",
                "   geom_histogram(aes(percent.largest_gene), \n",
                "                  color = \"#558bdc\", fill= \"#173664\",\n",
                "                  binwidth = 0.7) + \n",
                "  ggtitle(\"Distribution of Percentage Largest Gene\") + NoLegend()\n"
            ]
        },
        {
            "cell_type": "markdown",
            "metadata": {},
            "source": [
                "\n",
                "## FeatureScatter  \n"
            ]
        },
        {
            "cell_type": "code",
            "execution_count": null,
            "metadata": {},
            "outputs": [],
            "source": [
                "FeatureScatter(seurat_obj, feature1 = \"nCount_RNA\", feature2 = \"percent.mt\", group.by =\"orig.ident\")\n",
                "\n",
                "FeatureScatter(seurat_obj, feature1 = \"nCount_RNA\", feature2 = \"nFeature_RNA\",group.by =\"orig.ident\") + geom_smooth(method = 'lm')\n"
            ]
        },
        {
            "cell_type": "markdown",
            "metadata": {},
            "source": [
                "\n",
                "## Cell cycle scoring  \n"
            ]
        },
        {
            "cell_type": "code",
            "execution_count": null,
            "metadata": {},
            "outputs": [],
            "source": [
                "seurat_obj@meta.data %>%\n",
                "  group_by(orig.ident,Phase) %>%\n",
                "  count() %>%\n",
                "  group_by(orig.ident) %>%\n",
                "  mutate(percent=100*n/sum(n)) %>%\n",
                "  ungroup() %>%\n",
                "  ggplot(aes(x=orig.ident,y=percent, fill=Phase)) +\n",
                "  scale_fill_manual( values=c(G1='azure4',G2M='dodgerblue',S='tomato3' )) +\n",
                "  geom_col() +\n",
                "  ggtitle(\"Percentage of cell cycle phases per sample\")\n",
                "\n",
                "as_tibble(seurat_obj[[]]) %>%\n",
                "  ggplot(aes(Phase, fill=Phase)) +\n",
                "  scale_fill_manual( values=c(G1='azure4',G2M='dodgerblue',S='tomato3' ))+ geom_bar()\n",
                "\n",
                "\n",
                "as_tibble(seurat_obj[[]]) %>%\n",
                "  ggplot(aes(x=S.Score, y=G2M.Score, color=Phase)) + \n",
                "  scale_color_manual( values=c(G1='azure4',G2M='dodgerblue',S='tomato3' )) +\n",
                "  geom_point() +\n",
                "  coord_cartesian(xlim=c(-0.15,0.15), ylim=c(-0.15,0.15))\n"
            ]
        },
        {
            "cell_type": "markdown",
            "metadata": {},
            "source": [
                "\n",
                "# Identify high variable features  \n"
            ]
        },
        {
            "cell_type": "code",
            "execution_count": null,
            "metadata": {},
            "outputs": [],
            "source": [
                "seurat_obj <- FindVariableFeatures(seurat_obj, selection.method = \"vst\", nfeatures = 3000)\n",
                "\n"
            ]
        },
        {
            "cell_type": "markdown",
            "metadata": {},
            "source": "\n"
        },
        {
            "cell_type": "code",
            "execution_count": null,
            "metadata": {},
            "outputs": [],
            "source": [
                "# identify the 10 most highly variable genes\n",
                "top10 <- head(VariableFeatures(seurat_obj), 10)\n",
                "\n",
                "# plot the variable features \n",
                "plot <- VariableFeaturePlot(seurat_obj)\n",
                "LabelPoints(plot = plot, points = head(top10,10), repel = TRUE)\n"
            ]
        },
        {
            "cell_type": "markdown",
            "metadata": {},
            "source": [
                "We can plot out a graph of the variance vs mean and highlight the selected genes so we can see whether we think we’re likely to capture what we need.    \n",
                "\n"
            ]
        },
        {
            "cell_type": "code",
            "execution_count": null,
            "metadata": {},
            "outputs": [],
            "source": [
                "as_tibble(HVFInfo(seurat_obj),rownames = \"Gene\") -> variance.data\n",
                "\n",
                "variance.data %>% \n",
                "  mutate(hypervariable=Gene %in% VariableFeatures(seurat_obj)\n",
                ") -> variance.data\n",
                "\n",
                "variance.data %>% \n",
                "  ggplot(aes(log(mean),log(variance),color=hypervariable)) + \n",
                "  geom_point() + \n",
                "  scale_color_manual(values=c(\"black\",\"red\"))\n"
            ]
        },
        {
            "cell_type": "markdown",
            "metadata": {},
            "source": [
                "# Scaling the data  \n",
                "\n",
                "**ScaleData** :\n",
                "\n",
                "* Shifts the expression of each gene, so that the mean expression across cells is 0\n",
                "* Scales the expression of each gene, so that the variance across cells is 1 \n",
                "    + This step gives equal weight in downstream analyses, so that highly-expressed genes do not dominate\n",
                "\n",
                "\n",
                "Signals separating non-cycling cells and cycling cells will be maintained, but differences in cell cycle phase among proliferating cells (which are often uninteresting), will be regressed out of the data.  \n"
            ]
        },
        {
            "cell_type": "code",
            "execution_count": null,
            "metadata": {},
            "outputs": [],
            "source": [
                "seurat_obj$CC.Difference <- seurat_obj$S.Score - seurat_obj$G2M.Score\n",
                "\n",
                "all.genes <- rownames(seurat_obj)\n",
                "seurat_obj <- ScaleData(seurat_obj, vars.to.regress = \"CC.Difference\", features = all.genes)\n"
            ]
        },
        {
            "cell_type": "markdown",
            "metadata": {},
            "source": [
                "# Linear dimensional reduction  \n",
                "## PCA  \n"
            ]
        },
        {
            "cell_type": "code",
            "execution_count": null,
            "metadata": {},
            "outputs": [],
            "source": [
                "seurat_obj <- RunPCA(seurat_obj, verbose = FALSE)\n",
                "VizDimLoadings(seurat_obj, dims = 1:2, reduction = \"pca\")\n"
            ]
        },
        {
            "cell_type": "markdown",
            "metadata": {},
            "source": "\n"
        },
        {
            "cell_type": "code",
            "execution_count": null,
            "metadata": {},
            "outputs": [],
            "source": [
                "mat <- Seurat::GetAssayData(seurat_obj, assay = \"RNA\", slot = \"scale.data\") ## instead of RNA\n",
                "pca <- seurat_obj[[\"pca\"]]\n",
                "\n",
                "# Get the total variance:\n",
                "total_variance <- sum(matrixStats::rowVars(mat))\n",
                "eigValues = (pca@stdev)^2  ## EigenValues\n",
                "\n",
                "varExplained = eigValues / total_variance\n",
                "\n",
                "pc1 = percent(varExplained[1], accuracy = 0.01)\n",
                "pc2 = percent(varExplained[2], accuracy = 0.01)\n"
            ]
        },
        {
            "cell_type": "markdown",
            "metadata": {},
            "source": "\n"
        },
        {
            "cell_type": "code",
            "execution_count": null,
            "metadata": {},
            "outputs": [],
            "source": [
                "DimPlot(seurat_obj, reduction = \"pca\", group.by = \"orig.ident\") + xlab(paste0(\"PC_1 : \", pc1)) + ylab(paste0(\"PC_2 :\", pc2 ))\n",
                "DimPlot(seurat_obj, reduction = \"pca\", group.by = \"line\") + xlab(paste0(\"PC_1 : \", pc1)) + ylab(paste0(\"PC_2 :\", pc2 ))\n",
                "DimPlot(seurat_obj, reduction = \"pca\", group.by = \"Phase\", cols = c(G1='azure4',G2M='dodgerblue',S='tomato3'))\n",
                "\n",
                "DimPlot(seurat_obj, reduction = \"pca\", group.by = \"orig.ident\", label.size = 4, label = TRUE)\n",
                "DimPlot(seurat_obj, reduction = \"pca\", group.by = \"line\", label.size = 4, label = TRUE)\n"
            ]
        },
        {
            "cell_type": "markdown",
            "metadata": {},
            "source": [
                "\n",
                "### Split by condition\n"
            ]
        },
        {
            "cell_type": "code",
            "execution_count": null,
            "metadata": {},
            "outputs": [],
            "source": [
                "DimPlot(seurat_obj, reduction = \"pca\", group.by=\"orig.ident\", split.by = \"condition\")\n",
                "DimPlot(seurat_obj, reduction = \"pca\", group.by = \"orig.ident\", split.by = \"condition\", label.size = 4, label = TRUE)+ NoLegend()\n",
                "DimPlot(seurat_obj, reduction = \"pca\", group.by=\"orig.ident\", split.by = \"condition\")+ NoLegend()\n"
            ]
        },
        {
            "cell_type": "markdown",
            "metadata": {},
            "source": "\n"
        },
        {
            "cell_type": "code",
            "execution_count": null,
            "metadata": {},
            "outputs": [],
            "source": [
                "DimPlot(seurat_obj, reduction = \"pca\", group.by=\"line\", split.by = \"condition\")\n",
                "DimPlot(seurat_obj, reduction = \"pca\", group.by = \"line\", split.by = \"condition\", label.size = 4, label = TRUE)+ NoLegend()\n",
                "DimPlot(seurat_obj, reduction = \"pca\", group.by=\"line\", split.by = \"condition\")+ NoLegend()\n"
            ]
        },
        {
            "cell_type": "markdown",
            "metadata": {},
            "source": [
                "# Harmony  \n",
                "By default, Harmony accepts a normalized gene expression matrix and performs PCA.\n",
                "*do_pca=FALSE if PCA already done*\n"
            ]
        },
        {
            "cell_type": "code",
            "execution_count": null,
            "metadata": {},
            "outputs": [],
            "source": [
                "seurat_obj <- RunHarmony(seurat_obj, group.by.vars =c(\"line\", \"condition\"), reduction = \"pca\", plot_convergence = TRUE)\n",
                "\n"
            ]
        },
        {
            "cell_type": "markdown",
            "metadata": {},
            "source": [
                "\n",
                "## plots  \n"
            ]
        },
        {
            "cell_type": "code",
            "execution_count": null,
            "metadata": {},
            "outputs": [],
            "source": [
                "mat <- Seurat::GetAssayData(seurat_obj, assay = \"RNA\", slot = \"scale.data\")\n",
                "harmony <- seurat_obj[[\"harmony\"]]\n",
                "\n",
                "# Get the total variance:\n",
                "total_variance <- sum(matrixStats::rowVars(mat))\n",
                "eigValues = (harmony@stdev)^2  ## EigenValues\n",
                "\n",
                "varExplained = eigValues / total_variance\n",
                "\n",
                "pc1 = percent(varExplained[1], accuracy = 0.01)\n",
                "pc2 = percent(varExplained[2], accuracy = 0.01)\n",
                "\n",
                "DimPlot(seurat_obj, reduction = \"harmony\", group.by = \"orig.ident\") + xlab(paste0(\"PC_1 : \", pc1)) + ylab(paste0(\"PC_2 :\", pc2 ))\n"
            ]
        },
        {
            "cell_type": "markdown",
            "metadata": {},
            "source": "\n"
        },
        {
            "cell_type": "code",
            "execution_count": null,
            "metadata": {},
            "outputs": [],
            "source": [
                "DimPlot(seurat_obj, reduction = \"harmony\", group.by = \"orig.ident\")\n",
                "DimPlot(seurat_obj, reduction = \"harmony\", group.by = \"line\")\n",
                "DimPlot(seurat_obj, reduction = \"harmony\", group.by = \"Phase\", cols = c(G1='azure4',G2M='dodgerblue',S='tomato3'))\n",
                "\n",
                "DimPlot(seurat_obj, reduction = \"harmony\", group.by = \"orig.ident\", label.size = 4, label = TRUE)\n",
                "DimPlot(seurat_obj, reduction = \"harmony\", group.by = \"line\", label.size = 4, label = TRUE)\n"
            ]
        },
        {
            "cell_type": "markdown",
            "metadata": {},
            "source": [
                "\n",
                "### Split by condition\n"
            ]
        },
        {
            "cell_type": "code",
            "execution_count": null,
            "metadata": {},
            "outputs": [],
            "source": [
                "DimPlot(seurat_obj, reduction = \"harmony\", group.by=\"orig.ident\", split.by = \"condition\")\n",
                "DimPlot(seurat_obj, reduction = \"harmony\", group.by = \"orig.ident\", split.by = \"condition\", label.size = 4, label = TRUE)+ NoLegend()\n",
                "DimPlot(seurat_obj, reduction = \"harmony\", group.by=\"orig.ident\", split.by = \"condition\")+ NoLegend()\n"
            ]
        },
        {
            "cell_type": "markdown",
            "metadata": {},
            "source": "\n"
        },
        {
            "cell_type": "code",
            "execution_count": null,
            "metadata": {},
            "outputs": [],
            "source": [
                "DimPlot(seurat_obj, reduction = \"harmony\", group.by=\"line\", split.by = \"condition\")\n",
                "DimPlot(seurat_obj, reduction = \"harmony\", group.by = \"line\", split.by = \"condition\", label.size = 4, label = TRUE)+ NoLegend()\n",
                "DimPlot(seurat_obj, reduction = \"harmony\", group.by=\"line\", split.by = \"condition\")+ NoLegend()\n"
            ]
        },
        {
            "cell_type": "markdown",
            "metadata": {},
            "source": [
                "\n",
                "## Save seurat object  \n"
            ]
        },
        {
            "cell_type": "code",
            "execution_count": null,
            "metadata": {},
            "outputs": [],
            "source": [
                "saveRDS(seurat_obj, file = \"./results/rds/Norm_all_samples.rds\")\n",
                "\n"
            ]
        },
        {
            "cell_type": "markdown",
            "metadata": {},
            "source": [
                "# Determine the dimensionality of the dataset  \n",
                "how many components should we choose to include?  \n",
                "\n",
                "**JackStrawPlot**  \n",
                "*significant* PCs as those who have a strong enrichment of **low p-value**\n",
                "\n",
                "* dashed line : uniform distribution\n",
                "* solid curve above dash line : strong enrichments of features with low p-values  \n",
                "\n",
                "*Cannot run Jackstraw plot on SCT data*  \n"
            ]
        },
        {
            "cell_type": "code",
            "execution_count": null,
            "metadata": {},
            "outputs": [],
            "source": [
                "seurat_obj <- JackStraw(seurat_obj, num.replicate = 100, dims = pc)\n",
                "jack.data <- seurat_obj \n",
                "\n",
                "seurat_obj <- ScoreJackStraw(seurat_obj, dims = 1:pc)\n",
                "\n",
                "JackStrawPlot(seurat_obj, dims = 1:pc)\n"
            ]
        },
        {
            "cell_type": "markdown",
            "metadata": {},
            "source": [
                "**ElbowPlot**  \n",
                "ranking of principle components based on the percentage of variance explained by each one \n"
            ]
        },
        {
            "cell_type": "code",
            "execution_count": null,
            "metadata": {},
            "outputs": [],
            "source": [
                "DimPlot(seurat_obj, reduction = \"pca\", group.by = \"orig.ident\")\n",
                "ElbowPlot(seurat_obj, ndims = pc)\n"
            ]
        }
    ],
    "metadata": {
        "anaconda-cloud": "",
        "kernelspec": {
            "display_name": "R",
            "langauge": "R",
            "name": "ir"
        },
        "language_info": {
            "codemirror_mode": "r",
            "file_extension": ".r",
            "mimetype": "text/x-r-source",
            "name": "R",
            "pygments_lexer": "r",
            "version": "3.4.1"
        }
    },
    "nbformat": 4,
    "nbformat_minor": 1
}
