{
    "cells": [
        {
            "cell_type": "markdown",
            "metadata": {},
            "source": [
                "# Seurat object  \n",
                "## Load required packages\n"
            ]
        },
        {
            "cell_type": "code",
            "execution_count": null,
            "metadata": {},
            "outputs": [],
            "source": [
                "library(Seurat)\n",
                "library(tidyverse)\n",
                "library(ggplot2)\n",
                "library(clustree)\n",
                "library(\"future\")\n"
            ]
        },
        {
            "cell_type": "markdown",
            "metadata": {},
            "source": [
                "\n",
                "## Load seurat object (NORM)\n"
            ]
        },
        {
            "cell_type": "code",
            "execution_count": null,
            "metadata": {},
            "outputs": [],
            "source": [
                "line <- params$line\n",
                "\n"
            ]
        },
        {
            "cell_type": "markdown",
            "metadata": {},
            "source": "\n"
        },
        {
            "cell_type": "code",
            "execution_count": null,
            "metadata": {},
            "outputs": [],
            "source": [
                "seurat_obj <- readRDS(file = paste0('./results/rds/samples/Norm_', line, '.rds'))\n",
                "\n",
                "seurat_obj\n",
                "table(seurat_obj$orig.ident)\n"
            ]
        },
        {
            "cell_type": "markdown",
            "metadata": {},
            "source": [
                "# Non linear reduction  \n",
                "##  <span style=\"color:#296d98;\"> Parameters <\/span>  \n"
            ]
        },
        {
            "cell_type": "code",
            "execution_count": null,
            "metadata": {},
            "outputs": [],
            "source": [
                "pc = 50\n",
                "8482 -> saved.seed\n",
                "set.seed(saved.seed)\n",
                "thread = 8\n"
            ]
        },
        {
            "cell_type": "markdown",
            "metadata": {},
            "source": [
                "\n",
                "## UMAP\n"
            ]
        },
        {
            "cell_type": "code",
            "execution_count": null,
            "metadata": {},
            "outputs": [],
            "source": [
                "seurat_obj <- RunUMAP(seurat_obj, reduction = \"pca\", dims = 1:pc, seed.use = saved.seed,verbose = FALSE )\n",
                "\n",
                "DimPlot(seurat_obj, reduction = \"umap\", group.by = \"orig.ident\")\n",
                "DimPlot(seurat_obj, reduction = \"umap\", group.by = \"orig.ident\", label.size = 4, label = TRUE)+ NoLegend()\n",
                "\n",
                "DimPlot(seurat_obj, reduction = \"umap\", group.by = \"Phase\", cols = c(G1='azure4',G2M='dodgerblue', S='tomato3' ) )\n"
            ]
        },
        {
            "cell_type": "markdown",
            "metadata": {},
            "source": [
                "\n",
                "### Split by condition\n"
            ]
        },
        {
            "cell_type": "code",
            "execution_count": null,
            "metadata": {},
            "outputs": [],
            "source": [
                "DimPlot(seurat_obj, reduction = \"umap\", group.by=\"orig.ident\", split.by = \"condition\")\n",
                "DimPlot(seurat_obj, reduction = \"umap\", group.by = \"orig.ident\", split.by = \"condition\", label.size = 4, label = TRUE)+ NoLegend()\n",
                "DimPlot(seurat_obj, reduction = \"umap\", group.by=\"orig.ident\", split.by = \"condition\")+ NoLegend()\n"
            ]
        },
        {
            "cell_type": "markdown",
            "metadata": {},
            "source": [
                "## tSNE\n",
                "tSNE with default Perplexity 30 :\n"
            ]
        },
        {
            "cell_type": "code",
            "execution_count": null,
            "metadata": {},
            "outputs": [],
            "source": [
                "seurat_obj <- RunTSNE(seurat_obj, reduction = \"pca\", dims=1:pc,seed.use = saved.seed, verbose = FALSE)\n",
                "\n",
                "DimPlot(seurat_obj, reduction = \"tsne\", group.by = \"orig.ident\")\n",
                "DimPlot(seurat_obj, reduction = \"tsne\", group.by = \"orig.ident\", label.size = 4, label = TRUE)+ NoLegend()\n",
                "\n",
                "DimPlot(seurat_obj, reduction = \"tsne\", group.by = \"Phase\", cols = c(G1='azure4',G2M='dodgerblue', S='tomato3' ))\n"
            ]
        },
        {
            "cell_type": "markdown",
            "metadata": {},
            "source": [
                "\n",
                "### Split by condition\n"
            ]
        },
        {
            "cell_type": "code",
            "execution_count": null,
            "metadata": {},
            "outputs": [],
            "source": [
                "DimPlot(seurat_obj, reduction = \"tsne\", group.by=\"orig.ident\", split.by = \"condition\")\n",
                "DimPlot(seurat_obj, reduction = \"tsne\", group.by = \"orig.ident\", split.by = \"condition\", label.size = 4, label = TRUE)+ NoLegend()\n",
                "DimPlot(seurat_obj, reduction = \"tsne\", group.by=\"orig.ident\", split.by = \"condition\")+ NoLegend()\n"
            ]
        },
        {
            "cell_type": "markdown",
            "metadata": {},
            "source": [
                "# Defining cell clusters  \n",
                "`FindNeighbors`:    \n",
                "\n",
                "* construction of a KNN graph based on the euclidean distance in PCA space, and refine the edge weights between any two cells based on the shared overlap in their local neighborhoods (Jaccard similarity).\n",
                "* *input* : the previously defined dimensionality of the dataset.\n",
                "\n",
                "`FindClusters`:   \n",
                "\n",
                "* default : Louvain algorithm  \n",
                "* iteratively group cells together, with the goal of optimizing the standard modularity function.  \n",
                "* *Resolution* : setting this parameter between 0.4-1.2 typically returns good results for single-cell datasets of around 3K cells\n"
            ]
        },
        {
            "cell_type": "code",
            "execution_count": null,
            "metadata": {},
            "outputs": [],
            "source": [
                "seurat_obj <- FindNeighbors(seurat_obj, reduction = \"pca\", dims = 1:pc)\n",
                "\n"
            ]
        },
        {
            "cell_type": "markdown",
            "metadata": {},
            "source": [
                "\n",
                "## Save seurat object  \n"
            ]
        },
        {
            "cell_type": "code",
            "execution_count": null,
            "metadata": {},
            "outputs": [],
            "source": [
                "saveRDS(seurat_obj, file = paste0(\"./results/rds/samples/\", line, \"_FindNeighbors.rds\"))\n",
                "\n"
            ]
        },
        {
            "cell_type": "markdown",
            "metadata": {},
            "source": [
                "\n",
                "## Optimize resolution  \n"
            ]
        },
        {
            "cell_type": "code",
            "execution_count": null,
            "metadata": {},
            "outputs": [],
            "source": [
                "res.seurat <- seurat_obj\n",
                "\n",
                "plan(\"multisession\", workers = thread)\n",
                "res.seurat <- FindClusters(res.seurat, resolution = 0.2)\n",
                "\n",
                "plan(\"multisession\", workers = thread)\n",
                "res.seurat <- FindClusters(res.seurat, resolution = 0.3)\n",
                "\n",
                "plan(\"multisession\", workers = thread)\n",
                "res.seurat <- FindClusters(res.seurat, resolution = 0.4)\n",
                "\n",
                "plan(\"multisession\", workers = thread)\n",
                "res.seurat <- FindClusters(res.seurat, resolution = 0.5)\n",
                "\n",
                "plan(\"multisession\", workers = thread)\n",
                "res.seurat <- FindClusters(res.seurat, resolution = 0.6)\n",
                "\n",
                "plan(\"multisession\", workers = thread)\n",
                "res.seurat <- FindClusters(res.seurat, resolution = 0.7)\n",
                "\n",
                "plan(\"multisession\", workers = thread)\n",
                "res.seurat <- FindClusters(res.seurat, resolution = 0.8)\n"
            ]
        },
        {
            "cell_type": "markdown",
            "metadata": {},
            "source": "\n"
        },
        {
            "cell_type": "code",
            "execution_count": null,
            "metadata": {},
            "outputs": [],
            "source": [
                "clustree(res.seurat, prefix = \"integrated_snn_res.\")\n",
                "\n"
            ]
        },
        {
            "cell_type": "markdown",
            "metadata": {},
            "source": "\n"
        },
        {
            "cell_type": "code",
            "execution_count": null,
            "metadata": {},
            "outputs": [],
            "source": [
                "plan(\"multisession\", workers = thread)\n",
                "seurat_obj <- FindClusters(seurat_obj, resolution = 0.8)\n",
                "\n",
                "plan(\"multisession\", workers = thread)\n",
                "seurat_obj <- FindClusters(seurat_obj, resolution = 0.9)\n",
                "\n",
                "plan(\"multisession\", workers = thread)\n",
                "seurat_obj <- FindClusters(seurat_obj, resolution = 1)\n",
                "\n",
                "plan(\"multisession\", workers = thread)\n",
                "seurat_obj <- FindClusters(seurat_obj, resolution = 1.1)\n",
                "\n",
                "plan(\"multisession\", workers = thread)\n",
                "seurat_obj <- FindClusters(seurat_obj, resolution = 1.2)\n",
                "\n",
                "plan(\"multisession\", workers = thread)\n",
                "seurat_obj <- FindClusters(seurat_obj, resolution = 1.3)\n",
                "\n",
                "plan(\"multisession\", workers = thread)\n",
                "seurat_obj <- FindClusters(seurat_obj, resolution = 1.4)\n"
            ]
        },
        {
            "cell_type": "markdown",
            "metadata": {},
            "source": "\n"
        },
        {
            "cell_type": "code",
            "execution_count": null,
            "metadata": {},
            "outputs": [],
            "source": [
                "clustree(seurat_obj, prefix = \"integrated_snn_res.\")\n",
                "\n"
            ]
        }
    ],
    "metadata": {
        "anaconda-cloud": "",
        "kernelspec": {
            "display_name": "R",
            "langauge": "R",
            "name": "ir"
        },
        "language_info": {
            "codemirror_mode": "r",
            "file_extension": ".r",
            "mimetype": "text/x-r-source",
            "name": "R",
            "pygments_lexer": "r",
            "version": "3.4.1"
        }
    },
    "nbformat": 4,
    "nbformat_minor": 1
}
