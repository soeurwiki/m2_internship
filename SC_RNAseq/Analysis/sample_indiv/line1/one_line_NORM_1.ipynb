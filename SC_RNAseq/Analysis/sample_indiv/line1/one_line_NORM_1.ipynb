{
    "cells": [
        {
            "cell_type": "markdown",
            "metadata": {},
            "source": [
                "# Seurat object  \n",
                "## Load required packages\n"
            ]
        },
        {
            "cell_type": "code",
            "execution_count": null,
            "metadata": {},
            "outputs": [],
            "source": [
                "library(Seurat)\n",
                "library(tidyverse)\n",
                "library(ggplot2)\n",
                "library(\"scales\")\n"
            ]
        },
        {
            "cell_type": "markdown",
            "metadata": {},
            "source": [
                "\n",
                "## Load seurat objects (RAW)\n"
            ]
        },
        {
            "cell_type": "code",
            "execution_count": null,
            "metadata": {},
            "outputs": [],
            "source": [
                "line <- params$line\n",
                "\n"
            ]
        },
        {
            "cell_type": "markdown",
            "metadata": {},
            "source": "\n"
        },
        {
            "cell_type": "code",
            "execution_count": null,
            "metadata": {},
            "outputs": [],
            "source": [
                "diff_obj <- readRDS(file = paste0('./results/rds/samples/Filtered_', line, '_diff.rds'))\n",
                "diff_obj\n"
            ]
        },
        {
            "cell_type": "markdown",
            "metadata": {},
            "source": "\n"
        },
        {
            "cell_type": "code",
            "execution_count": null,
            "metadata": {},
            "outputs": [],
            "source": [
                "prolif_obj <- readRDS(file = paste0('./results/rds/samples/Filtered_', line, '_prolif.rds'))\n",
                "prolif_obj\n"
            ]
        },
        {
            "cell_type": "markdown",
            "metadata": {},
            "source": [
                "\n",
                "##  <span style=\"color:#296d98;\"> Parameters <\/span>  \n"
            ]
        },
        {
            "cell_type": "code",
            "execution_count": null,
            "metadata": {},
            "outputs": [],
            "source": [
                "pc = 60\n",
                "\n"
            ]
        },
        {
            "cell_type": "markdown",
            "metadata": {},
            "source": [
                "# Cell cycle scoring  \n",
                "## Condition : differenciation \n"
            ]
        },
        {
            "cell_type": "code",
            "execution_count": null,
            "metadata": {},
            "outputs": [],
            "source": [
                "diff_obj.cellcycle <- NormalizeData(diff_obj)\n",
                "diff_obj <- CellCycleScoring(diff_obj.cellcycle, s.features = cc.genes.updated.2019$s.genes, g2m.features = cc.genes.updated.2019$g2m.genes, set.ident = TRUE)\n"
            ]
        },
        {
            "cell_type": "markdown",
            "metadata": {},
            "source": "\n"
        },
        {
            "cell_type": "code",
            "execution_count": null,
            "metadata": {},
            "outputs": [],
            "source": [
                "as_tibble(diff_obj[[]]) %>%\n",
                "  ggplot(aes(Phase, fill=Phase)) +\n",
                "  scale_fill_manual( values=c(G1='azure4',G2M='dodgerblue',S='tomato3'))+ geom_bar()\n",
                "\n",
                "\n",
                "as_tibble(diff_obj[[]]) %>%\n",
                "  ggplot(aes(x=S.Score, y=G2M.Score, color=Phase)) + \n",
                "  scale_color_manual( values=c(G1='azure4',G2M='dodgerblue',S='tomato3')) +\n",
                "  geom_point() +\n",
                "  coord_cartesian(xlim=c(-0.15,0.15), ylim=c(-0.15,0.15))\n"
            ]
        },
        {
            "cell_type": "markdown",
            "metadata": {},
            "source": [
                "\n",
                "## Condition : proliferation  \n"
            ]
        },
        {
            "cell_type": "code",
            "execution_count": null,
            "metadata": {},
            "outputs": [],
            "source": [
                "prolif_obj.cellcycle <- NormalizeData(prolif_obj)\n",
                "prolif_obj <- CellCycleScoring(prolif_obj.cellcycle, s.features = cc.genes.updated.2019$s.genes, g2m.features = cc.genes.updated.2019$g2m.genes, set.ident = TRUE)\n"
            ]
        },
        {
            "cell_type": "markdown",
            "metadata": {},
            "source": "\n"
        },
        {
            "cell_type": "code",
            "execution_count": null,
            "metadata": {},
            "outputs": [],
            "source": [
                "as_tibble(prolif_obj[[]]) %>%\n",
                "  ggplot(aes(Phase, fill=Phase)) +\n",
                "  scale_fill_manual( values=c(G1='azure4',G2M='dodgerblue',S='tomato3'))+ geom_bar()\n",
                "\n",
                "\n",
                "as_tibble(prolif_obj[[]]) %>%\n",
                "  ggplot(aes(x=S.Score, y=G2M.Score, color=Phase)) + \n",
                "  scale_color_manual( values=c(G1='azure4',G2M='dodgerblue',S='tomato3')) +\n",
                "  geom_point() +\n",
                "  coord_cartesian(xlim=c(-0.15,0.15), ylim=c(-0.15,0.15))\n"
            ]
        },
        {
            "cell_type": "markdown",
            "metadata": {},
            "source": [
                "# Normalization    \n",
                "## Condition : differentiation\n",
                "### Zero counts  \n",
                "See features without any counts left after the filtering.\n"
            ]
        },
        {
            "cell_type": "code",
            "execution_count": null,
            "metadata": {},
            "outputs": [],
            "source": [
                "counts <- GetAssayData(diff_obj, assay = \"RNA\")\n",
                "zero <- which(rowSums(counts) == 0 )\n",
                "length(zero)\n",
                "\n",
                "keep.genes <- which(rowSums(counts) != 0 )\n",
                "diff_obj <- subset(diff_obj, features = keep.genes)\n",
                "diff_obj\n"
            ]
        },
        {
            "cell_type": "markdown",
            "metadata": {},
            "source": [
                "### SCTransform  \n",
                "**SCTransform** : replace  `NormalizeData()`, `ScaleData()`, and `FindVariableFeatures()`.This procedure omits the need for heuristic steps including *pseudocount addition* or *log-transformation* and improves common downstream analytical tasks such as variable gene selection, dimensional reduction, and differential expression.  \n",
                "During normalization, we can also remove confounding sources of variation, for example, mitochondrial mapping percentage. (not done here)\n",
                "\n",
                "Corrected counts are obtained by setting the sequencing depth for all the cells to a fixed value and reversing the learned regularized negative-binomial regression model. \n"
            ]
        },
        {
            "cell_type": "code",
            "execution_count": null,
            "metadata": {},
            "outputs": [],
            "source": [
                "diff_obj <- SCTransform(diff_obj, vst.flavor = \"v2\", verbose = FALSE)\n",
                "\n"
            ]
        },
        {
            "cell_type": "markdown",
            "metadata": {},
            "source": "\n"
        },
        {
            "cell_type": "code",
            "execution_count": null,
            "metadata": {},
            "outputs": [],
            "source": [
                "tibble(\n",
                "  pc95 = apply(diff_obj[[\"SCT\"]]@data,2,quantile,0.95),\n",
                "  measured = apply(diff_obj[[\"SCT\"]]@data,2,function(x)(100*sum(x!=0))/length(x))\n",
                ") -> normalisation.qc\n",
                "\n",
                "normalisation.qc %>% \n",
                "  ggplot(aes(x=measured,y=pc95))+\n",
                "  geom_point()+\n",
                "  ggtitle(\"Normalisation of data\")\n"
            ]
        },
        {
            "cell_type": "markdown",
            "metadata": {},
            "source": [
                "\n",
                "### Save norm object  \n"
            ]
        },
        {
            "cell_type": "code",
            "execution_count": null,
            "metadata": {},
            "outputs": [],
            "source": [
                "saveRDS(diff_obj, file = paste0(\"./results/rds/samples/Norm_\", line,\"_diff.rds\"))\n",
                "\n"
            ]
        },
        {
            "cell_type": "markdown",
            "metadata": {},
            "source": [
                "## Condition : proliferation\n",
                "### Zero counts  \n",
                "See features without any counts left after the filtering.\n"
            ]
        },
        {
            "cell_type": "code",
            "execution_count": null,
            "metadata": {},
            "outputs": [],
            "source": [
                "counts <- GetAssayData(prolif_obj, assay = \"RNA\")\n",
                "zero <- which(rowSums(counts) == 0 )\n",
                "length(zero)\n",
                "\n",
                "keep.genes <- which(rowSums(counts) != 0 )\n",
                "prolif_obj <- subset(prolif_obj, features = keep.genes)\n",
                "prolif_obj\n"
            ]
        },
        {
            "cell_type": "markdown",
            "metadata": {},
            "source": [
                "\n",
                "### SCTransform  \n"
            ]
        },
        {
            "cell_type": "code",
            "execution_count": null,
            "metadata": {},
            "outputs": [],
            "source": [
                "prolif_obj <- SCTransform(prolif_obj, vst.flavor = \"v2\", verbose = FALSE)\n",
                "\n"
            ]
        },
        {
            "cell_type": "markdown",
            "metadata": {},
            "source": "\n"
        },
        {
            "cell_type": "code",
            "execution_count": null,
            "metadata": {},
            "outputs": [],
            "source": [
                "tibble(\n",
                "  pc95 = apply(prolif_obj[[\"SCT\"]]@data,2,quantile,0.95),\n",
                "  measured = apply(prolif_obj[[\"SCT\"]]@data,2,function(x)(100*sum(x!=0))/length(x))\n",
                ") -> normalisation.qc\n",
                "\n",
                "normalisation.qc %>% \n",
                "  ggplot(aes(x=measured,y=pc95))+\n",
                "  geom_point()+\n",
                "  ggtitle(\"Normalisation of data\")\n"
            ]
        },
        {
            "cell_type": "markdown",
            "metadata": {},
            "source": [
                "\n",
                "### Save norm object  \n"
            ]
        },
        {
            "cell_type": "code",
            "execution_count": null,
            "metadata": {},
            "outputs": [],
            "source": [
                "saveRDS(prolif_obj, file = paste0(\"./results/rds/samples/Norm_\", line,\"_prolif.rds\"))\n",
                "\n"
            ]
        },
        {
            "cell_type": "markdown",
            "metadata": {},
            "source": [
                "\n",
                "# QC metrics (differentiation)\n"
            ]
        },
        {
            "cell_type": "code",
            "execution_count": null,
            "metadata": {},
            "outputs": [],
            "source": [
                "metadata <- diff_obj@meta.data\n",
                "\n"
            ]
        },
        {
            "cell_type": "markdown",
            "metadata": {},
            "source": [
                "\n",
                "## Nb of reads  \n"
            ]
        },
        {
            "cell_type": "code",
            "execution_count": null,
            "metadata": {},
            "outputs": [],
            "source": [
                "VlnPlot(diff_obj,features=\"nCount_RNA\", group.by = \"orig.ident\", pt.size = 0)\n",
                "RidgePlot(diff_obj, features = \"nCount_RNA\", group.by = \"orig.ident\")\n",
                "\n",
                "metadata %>% \n",
                "  ggplot(aes( x=nCount_RNA,y=orig.ident, fill= orig.ident)) + \n",
                "\tgeom_boxplot() + \n",
                "\ttheme_classic()+\n",
                "  scale_x_log10()\n"
            ]
        },
        {
            "cell_type": "markdown",
            "metadata": {},
            "source": [
                "\n",
                "## Nb of genes  \n"
            ]
        },
        {
            "cell_type": "code",
            "execution_count": null,
            "metadata": {},
            "outputs": [],
            "source": [
                "VlnPlot(diff_obj,features=\"nFeature_RNA\", group.by = \"orig.ident\", pt.size = 0)\n",
                "RidgePlot(diff_obj, features = \"nFeature_RNA\", group.by = \"orig.ident\")\n",
                "\n",
                "metadata %>% \n",
                "  ggplot(aes( x=nFeature_RNA,y=orig.ident, fill= orig.ident)) + \n",
                "\tgeom_boxplot() + \n",
                "\ttheme_classic()+\n",
                "  scale_x_log10()\n",
                "    \n"
            ]
        },
        {
            "cell_type": "markdown",
            "metadata": {},
            "source": "\n"
        },
        {
            "cell_type": "code",
            "execution_count": null,
            "metadata": {},
            "outputs": [],
            "source": [
                "ggplot(diff_obj[[]]) + \n",
                "   geom_histogram(aes(nFeature_RNA), \n",
                "                  color = \"#558bdc\", fill= \"#173664\",\n",
                "                  binwidth = 50) + \n",
                "  ggtitle(\"Distribution of nFeature_RNA \") + NoLegend()\n"
            ]
        },
        {
            "cell_type": "markdown",
            "metadata": {},
            "source": [
                "## Gene expression  \n",
                "We can pick the first 100 cells and look at the distributions of their expression values.\n"
            ]
        },
        {
            "cell_type": "code",
            "execution_count": null,
            "metadata": {},
            "outputs": [],
            "source": [
                "apply(diff_obj@assays$SCT@data,1,mean) -> gene.expression\n",
                "sort(gene.expression, decreasing = TRUE) -> gene.expression\n",
                "\n",
                "as.tibble(\n",
                "  diff_obj@assays$SCT@data[,1:100]\n",
                ") %>%\n",
                "  pivot_longer(\n",
                "    cols=everything(),\n",
                "    names_to=\"cell\",\n",
                "    values_to=\"expression\"\n",
                "  ) %>%\n",
                "  ggplot(aes(x=expression, group=cell)) +\n",
                "  geom_density() +\n",
                "  coord_cartesian(ylim=c(0,0.6), xlim=c(0,3))\n"
            ]
        },
        {
            "cell_type": "markdown",
            "metadata": {},
            "source": [
                "\n",
                "## MT genes  \n"
            ]
        },
        {
            "cell_type": "code",
            "execution_count": null,
            "metadata": {},
            "outputs": [],
            "source": [
                "diff_obj[[\"percent.mt\"]] <- PercentageFeatureSet(diff_obj, pattern = \"^MT-\")\n",
                "VlnPlot(diff_obj, features = \"percent.mt\", group.by = \"orig.ident\", pt.size = 0)\n",
                "RidgePlot(diff_obj, features = \"percent.mt\", group.by = \"orig.ident\")\n"
            ]
        },
        {
            "cell_type": "markdown",
            "metadata": {},
            "source": "\n"
        },
        {
            "cell_type": "code",
            "execution_count": null,
            "metadata": {},
            "outputs": [],
            "source": [
                "ggplot(diff_obj[[]]) + \n",
                "   geom_histogram(aes(percent.mt), \n",
                "                  color = \"#558bdc\", fill= \"#173664\",\n",
                "                  binwidth = 0.5) + \n",
                "  ggtitle(\"Distribution of Percentage Mitochondrion\") + NoLegend()\n"
            ]
        },
        {
            "cell_type": "markdown",
            "metadata": {},
            "source": [
                "\n",
                "## Ribosomal genes  \n"
            ]
        },
        {
            "cell_type": "code",
            "execution_count": null,
            "metadata": {},
            "outputs": [],
            "source": [
                "PercentageFeatureSet(diff_obj,pattern=\"^RP[LS]\") -> diff_obj[[\"percent.ribosomal\"]] \n",
                "VlnPlot(diff_obj, features = \"percent.ribosomal\", group.by = \"orig.ident\", pt.size = 0)\n",
                "RidgePlot(diff_obj, features = \"percent.ribosomal\", group.by = \"orig.ident\")\n"
            ]
        },
        {
            "cell_type": "markdown",
            "metadata": {},
            "source": "\n"
        },
        {
            "cell_type": "code",
            "execution_count": null,
            "metadata": {},
            "outputs": [],
            "source": [
                "ggplot(diff_obj[[]]) + \n",
                "   geom_histogram(aes(percent.ribosomal), \n",
                "                  color = \"#558bdc\", fill= \"#173664\",\n",
                "                  binwidth = 0.7) + \n",
                "  ggtitle(\"Distribution of Percentage Ribosomal\") + NoLegend()\n"
            ]
        },
        {
            "cell_type": "markdown",
            "metadata": {},
            "source": [
                "\n",
                "## Largest gene  \n"
            ]
        },
        {
            "cell_type": "code",
            "execution_count": null,
            "metadata": {},
            "outputs": [],
            "source": [
                "apply(\n",
                "  diff_obj@assays$SCT@counts,\n",
                "  2,\n",
                "  max\n",
                ") -> largest_count\n",
                "\n",
                "apply(\n",
                "  diff_obj@assays$SCT@counts,\n",
                "  2,\n",
                "  which.max\n",
                ") -> largest_index\n",
                "\n",
                "rownames(diff_obj)[largest_index] -> diff_obj$largest_gene\n",
                "\n",
                "100 * largest_count / diff_obj$nCount_RNA -> diff_obj$percent.largest_gene\n",
                "\n",
                "VlnPlot(diff_obj,features=\"percent.largest_gene\", group.by = \"orig.ident\", pt.size = 0)\n",
                "RidgePlot(diff_obj, features = \"percent.largest_gene\", group.by = \"orig.ident\")\n"
            ]
        },
        {
            "cell_type": "markdown",
            "metadata": {},
            "source": "\n"
        },
        {
            "cell_type": "code",
            "execution_count": null,
            "metadata": {},
            "outputs": [],
            "source": [
                "ggplot(diff_obj[[]]) + \n",
                "   geom_histogram(aes(percent.largest_gene), \n",
                "                  color = \"#558bdc\", fill= \"#173664\",\n",
                "                  binwidth = 0.7) + \n",
                "  ggtitle(\"Distribution of Percentage Largest Gene\") + NoLegend()\n"
            ]
        },
        {
            "cell_type": "markdown",
            "metadata": {},
            "source": [
                "\n",
                "## FeatureScatter  \n"
            ]
        },
        {
            "cell_type": "code",
            "execution_count": null,
            "metadata": {},
            "outputs": [],
            "source": [
                "FeatureScatter(diff_obj, feature1 = \"nCount_RNA\", feature2 = \"percent.mt\", group.by =\"orig.ident\")\n",
                "FeatureScatter(diff_obj,feature1 = \"nCount_RNA\", feature2 = \"percent.largest_gene\",group.by =\"orig.ident\")\n",
                "\n",
                "FeatureScatter(diff_obj, feature1 = \"nCount_RNA\", feature2 = \"nFeature_RNA\",group.by =\"orig.ident\") + geom_smooth(method = 'lm')\n"
            ]
        },
        {
            "cell_type": "markdown",
            "metadata": {},
            "source": [
                "\n",
                "## Cell cycle scoring  \n"
            ]
        },
        {
            "cell_type": "code",
            "execution_count": null,
            "metadata": {},
            "outputs": [],
            "source": [
                "diff_obj <- CellCycleScoring(diff_obj, s.features = cc.genes.updated.2019$s.genes, g2m.features = cc.genes.updated.2019$g2m.genes, set.ident = TRUE)\n",
                "\n",
                "as_tibble(diff_obj[[]]) %>%\n",
                "  ggplot(aes(Phase, fill=Phase)) +\n",
                "  scale_fill_manual( values=c(G1='azure4',G2M='dodgerblue',S='tomato3'))+ geom_bar()\n",
                "\n",
                "\n",
                "as_tibble(diff_obj[[]]) %>%\n",
                "  ggplot(aes(x=S.Score, y=G2M.Score, color=Phase)) + \n",
                "  scale_color_manual( values=c(G1='azure4',G2M='dodgerblue',S='tomato3')) +\n",
                "  geom_point() +\n",
                "  coord_cartesian(xlim=c(-0.15,0.15), ylim=c(-0.15,0.15))\n"
            ]
        },
        {
            "cell_type": "markdown",
            "metadata": {},
            "source": [
                "\n",
                "# QC metrics (proliferation)\n"
            ]
        },
        {
            "cell_type": "code",
            "execution_count": null,
            "metadata": {},
            "outputs": [],
            "source": [
                "metadata <- prolif_obj@meta.data\n",
                "\n"
            ]
        },
        {
            "cell_type": "markdown",
            "metadata": {},
            "source": [
                "\n",
                "## Nb of reads  \n"
            ]
        },
        {
            "cell_type": "code",
            "execution_count": null,
            "metadata": {},
            "outputs": [],
            "source": [
                "VlnPlot(prolif_obj,features=\"nCount_RNA\", group.by = \"orig.ident\", pt.size = 0)\n",
                "RidgePlot(prolif_obj, features = \"nCount_RNA\", group.by = \"orig.ident\")\n",
                "\n",
                "metadata %>% \n",
                "  ggplot(aes( x=nCount_RNA,y=orig.ident, fill= orig.ident)) + \n",
                "\tgeom_boxplot() + \n",
                "\ttheme_classic()+\n",
                "  scale_x_log10()\n"
            ]
        },
        {
            "cell_type": "markdown",
            "metadata": {},
            "source": [
                "\n",
                "## Nb of genes  \n"
            ]
        },
        {
            "cell_type": "code",
            "execution_count": null,
            "metadata": {},
            "outputs": [],
            "source": [
                "VlnPlot(prolif_obj,features=\"nFeature_RNA\", group.by = \"orig.ident\", pt.size = 0)\n",
                "RidgePlot(prolif_obj, features = \"nFeature_RNA\", group.by = \"orig.ident\")\n",
                "\n",
                "metadata %>% \n",
                "  ggplot(aes( x=nFeature_RNA,y=orig.ident, fill= orig.ident)) + \n",
                "\tgeom_boxplot() + \n",
                "\ttheme_classic()+\n",
                "  scale_x_log10()\n",
                "    \n"
            ]
        },
        {
            "cell_type": "markdown",
            "metadata": {},
            "source": "\n"
        },
        {
            "cell_type": "code",
            "execution_count": null,
            "metadata": {},
            "outputs": [],
            "source": [
                "ggplot(prolif_obj[[]]) + \n",
                "   geom_histogram(aes(nFeature_RNA), \n",
                "                  color = \"#558bdc\", fill= \"#173664\",\n",
                "                  binwidth = 50) + \n",
                "  ggtitle(\"Distribution of nFeature_RNA \") + NoLegend()\n"
            ]
        },
        {
            "cell_type": "markdown",
            "metadata": {},
            "source": [
                "## Gene expression  \n",
                "We can pick the first 100 cells and look at the distributions of their expression values.\n"
            ]
        },
        {
            "cell_type": "code",
            "execution_count": null,
            "metadata": {},
            "outputs": [],
            "source": [
                "apply(prolif_obj@assays$SCT@data,1,mean) -> gene.expression\n",
                "sort(gene.expression, decreasing = TRUE) -> gene.expression\n",
                "\n",
                "as.tibble(\n",
                "  prolif_obj@assays$SCT@data[,1:100]\n",
                ") %>%\n",
                "  pivot_longer(\n",
                "    cols=everything(),\n",
                "    names_to=\"cell\",\n",
                "    values_to=\"expression\"\n",
                "  ) %>%\n",
                "  ggplot(aes(x=expression, group=cell)) +\n",
                "  geom_density() +\n",
                "  coord_cartesian(ylim=c(0,0.6), xlim=c(0,3))\n"
            ]
        },
        {
            "cell_type": "markdown",
            "metadata": {},
            "source": [
                "\n",
                "## MT genes  \n"
            ]
        },
        {
            "cell_type": "code",
            "execution_count": null,
            "metadata": {},
            "outputs": [],
            "source": [
                "prolif_obj[[\"percent.mt\"]] <- PercentageFeatureSet(prolif_obj, pattern = \"^MT-\")\n",
                "VlnPlot(prolif_obj, features = \"percent.mt\", group.by = \"orig.ident\", pt.size = 0)\n",
                "RidgePlot(prolif_obj, features = \"percent.mt\", group.by = \"orig.ident\")\n"
            ]
        },
        {
            "cell_type": "markdown",
            "metadata": {},
            "source": "\n"
        },
        {
            "cell_type": "code",
            "execution_count": null,
            "metadata": {},
            "outputs": [],
            "source": [
                "ggplot(prolif_obj[[]]) + \n",
                "   geom_histogram(aes(percent.mt), \n",
                "                  color = \"#558bdc\", fill= \"#173664\",\n",
                "                  binwidth = 0.5) + \n",
                "  ggtitle(\"Distribution of Percentage Mitochondrion\") + NoLegend()\n"
            ]
        },
        {
            "cell_type": "markdown",
            "metadata": {},
            "source": [
                "\n",
                "## Ribosomal genes  \n"
            ]
        },
        {
            "cell_type": "code",
            "execution_count": null,
            "metadata": {},
            "outputs": [],
            "source": [
                "PercentageFeatureSet(prolif_obj,pattern=\"^RP[LS]\") -> prolif_obj[[\"percent.ribosomal\"]] \n",
                "VlnPlot(prolif_obj, features = \"percent.ribosomal\", group.by = \"orig.ident\", pt.size = 0)\n",
                "RidgePlot(prolif_obj, features = \"percent.ribosomal\", group.by = \"orig.ident\")\n"
            ]
        },
        {
            "cell_type": "markdown",
            "metadata": {},
            "source": "\n"
        },
        {
            "cell_type": "code",
            "execution_count": null,
            "metadata": {},
            "outputs": [],
            "source": [
                "ggplot(prolif_obj[[]]) + \n",
                "   geom_histogram(aes(percent.ribosomal), \n",
                "                  color = \"#558bdc\", fill= \"#173664\",\n",
                "                  binwidth = 0.7) + \n",
                "  ggtitle(\"Distribution of Percentage Ribosomal\") + NoLegend()\n"
            ]
        },
        {
            "cell_type": "markdown",
            "metadata": {},
            "source": [
                "\n",
                "## Largest gene  \n"
            ]
        },
        {
            "cell_type": "code",
            "execution_count": null,
            "metadata": {},
            "outputs": [],
            "source": [
                "apply(\n",
                "  prolif_obj@assays$SCT@counts,\n",
                "  2,\n",
                "  max\n",
                ") -> largest_count\n",
                "\n",
                "apply(\n",
                "  prolif_obj@assays$SCT@counts,\n",
                "  2,\n",
                "  which.max\n",
                ") -> largest_index\n",
                "\n",
                "rownames(prolif_obj)[largest_index] -> prolif_obj$largest_gene\n",
                "\n",
                "100 * largest_count / prolif_obj$nCount_RNA -> prolif_obj$percent.largest_gene\n",
                "\n",
                "VlnPlot(prolif_obj,features=\"percent.largest_gene\", group.by = \"orig.ident\", pt.size = 0)\n",
                "RidgePlot(prolif_obj, features = \"percent.largest_gene\", group.by = \"orig.ident\")\n"
            ]
        },
        {
            "cell_type": "markdown",
            "metadata": {},
            "source": "\n"
        },
        {
            "cell_type": "code",
            "execution_count": null,
            "metadata": {},
            "outputs": [],
            "source": [
                "ggplot(prolif_obj[[]]) + \n",
                "   geom_histogram(aes(percent.largest_gene), \n",
                "                  color = \"#558bdc\", fill= \"#173664\",\n",
                "                  binwidth = 0.7) + \n",
                "  ggtitle(\"Distribution of Percentage Largest Gene\") + NoLegend()\n"
            ]
        },
        {
            "cell_type": "markdown",
            "metadata": {},
            "source": [
                "\n",
                "## FeatureScatter  \n"
            ]
        },
        {
            "cell_type": "code",
            "execution_count": null,
            "metadata": {},
            "outputs": [],
            "source": [
                "FeatureScatter(prolif_obj, feature1 = \"nCount_RNA\", feature2 = \"percent.mt\", group.by =\"orig.ident\")\n",
                "FeatureScatter(prolif_obj,feature1 = \"nCount_RNA\", feature2 = \"percent.largest_gene\",group.by =\"orig.ident\")\n",
                "\n",
                "FeatureScatter(prolif_obj, feature1 = \"nCount_RNA\", feature2 = \"nFeature_RNA\",group.by =\"orig.ident\") + geom_smooth(method = 'lm')\n"
            ]
        },
        {
            "cell_type": "markdown",
            "metadata": {},
            "source": [
                "\n",
                "## Cell cycle scoring  \n"
            ]
        },
        {
            "cell_type": "code",
            "execution_count": null,
            "metadata": {},
            "outputs": [],
            "source": [
                "prolif_obj <- CellCycleScoring(prolif_obj, s.features = cc.genes.updated.2019$s.genes, g2m.features = cc.genes.updated.2019$g2m.genes, set.ident = TRUE)\n",
                "\n",
                "as_tibble(prolif_obj[[]]) %>%\n",
                "  ggplot(aes(Phase, fill=Phase)) +\n",
                "  scale_fill_manual( values=c(G1='azure4',G2M='dodgerblue',S='tomato3'))+ geom_bar()\n",
                "\n",
                "\n",
                "as_tibble(prolif_obj[[]]) %>%\n",
                "  ggplot(aes(x=S.Score, y=G2M.Score, color=Phase)) + \n",
                "  scale_color_manual( values=c(G1='azure4',G2M='dodgerblue',S='tomato3')) +\n",
                "  geom_point() +\n",
                "  coord_cartesian(xlim=c(-0.15,0.15), ylim=c(-0.15,0.15))\n"
            ]
        },
        {
            "cell_type": "markdown",
            "metadata": {},
            "source": [
                "# Identify high variable features  \n",
                "*Included in the `SCTransform` function.*\n",
                "\n",
                "## Condition : differenciation   \n"
            ]
        },
        {
            "cell_type": "code",
            "execution_count": null,
            "metadata": {},
            "outputs": [],
            "source": [
                "# identify the 10 most highly variable genes\n",
                "top10 <- head(VariableFeatures(diff_obj), 10)\n",
                "\n",
                "# plot the variable features \n",
                "plot <- VariableFeaturePlot(diff_obj)\n",
                "LabelPoints(plot = plot, points = head(top10,10), repel = TRUE)\n"
            ]
        },
        {
            "cell_type": "markdown",
            "metadata": {},
            "source": "\n"
        },
        {
            "cell_type": "code",
            "execution_count": null,
            "metadata": {},
            "outputs": [],
            "source": [
                "as_tibble(HVFInfo(diff_obj),rownames = \"Gene\") -> variance.data\n",
                "\n",
                "variance.data %>% \n",
                "  mutate(hypervariable=Gene %in% VariableFeatures(diff_obj)\n",
                ") -> variance.data\n",
                "\n",
                "variance.data %>% \n",
                "  ggplot(aes(log(mean),log(variance),color=hypervariable)) + \n",
                "  geom_point() + \n",
                "  scale_color_manual(values=c(\"black\",\"red\"))\n"
            ]
        },
        {
            "cell_type": "markdown",
            "metadata": {},
            "source": [
                "\n",
                "## Condition : proliferation  \n"
            ]
        },
        {
            "cell_type": "code",
            "execution_count": null,
            "metadata": {},
            "outputs": [],
            "source": [
                "# identify the 10 most highly variable genes\n",
                "top10 <- head(VariableFeatures(prolif_obj), 10)\n",
                "\n",
                "# plot the variable features \n",
                "plot <- VariableFeaturePlot(prolif_obj)\n",
                "LabelPoints(plot = plot, points = head(top10,10), repel = TRUE)\n"
            ]
        },
        {
            "cell_type": "markdown",
            "metadata": {},
            "source": [
                "We can plot out a graph of the variance vs mean and highlight the selected genes so we can see whether we think we’re likely to capture what we need.    \n",
                "\n"
            ]
        },
        {
            "cell_type": "code",
            "execution_count": null,
            "metadata": {},
            "outputs": [],
            "source": [
                "as_tibble(HVFInfo(prolif_obj),rownames = \"Gene\") -> variance.data\n",
                "\n",
                "variance.data %>% \n",
                "  mutate(hypervariable=Gene %in% VariableFeatures(prolif_obj)\n",
                ") -> variance.data\n",
                "\n",
                "variance.data %>% \n",
                "  ggplot(aes(log(mean),log(variance),color=hypervariable)) + \n",
                "  geom_point() + \n",
                "  scale_color_manual(values=c(\"black\",\"red\"))\n"
            ]
        },
        {
            "cell_type": "markdown",
            "metadata": {},
            "source": [
                "# Scaling the data  \n",
                "*Included in the `SCTransform` function.*\n",
                "\n",
                "**ScaleData** :\n",
                "\n",
                "* Shifts the expression of each gene, so that the mean expression across cells is 0\n",
                "* Scales the expression of each gene, so that the variance across cells is 1 \n",
                "    + This step gives equal weight in downstream analyses, so that highly-expressed genes do not \n",
                "\n",
                "# Integrate data\n",
                "Pearson residuals are used for identifying variable features, PCA, dimensionality reduction and integration.\n",
                "The corrected counts should be used for DE/visualization of marker genes.\n"
            ]
        },
        {
            "cell_type": "code",
            "execution_count": null,
            "metadata": {},
            "outputs": [],
            "source": [
                "seurat.list <-list(diff_obj, prolif_obj)\n",
                "\n",
                "# select features that are repeatedly variable across datasets for integration\n",
                "features <- SelectIntegrationFeatures(object.list = seurat.list, nfeatures = 3000)\n",
                "seurat.list <- PrepSCTIntegration(object.list = seurat.list, anchor.features = features)\n",
                "\n",
                "anchors <- FindIntegrationAnchors(object.list = seurat.list, normalization.method = \"SCT\", anchor.features = features)\n"
            ]
        },
        {
            "cell_type": "markdown",
            "metadata": {},
            "source": "\n"
        },
        {
            "cell_type": "code",
            "execution_count": null,
            "metadata": {},
            "outputs": [],
            "source": [
                "seurat_obj <- IntegrateData(anchorset = anchors, normalization.method = \"SCT\")\n",
                "DefaultAssay(seurat_obj) <- \"integrated\"\n",
                "\n",
                "seurat_obj\n",
                "table(seurat_obj$orig.ident)\n"
            ]
        },
        {
            "cell_type": "markdown",
            "metadata": {},
            "source": "\n"
        },
        {
            "cell_type": "code",
            "execution_count": null,
            "metadata": {},
            "outputs": [],
            "source": [
                "counts <- GetAssayData(seurat_obj, assay = \"integrated\")\n",
                "print(length(rownames(counts)))\n",
                "\n",
                "counts <- GetAssayData(seurat_obj, assay = \"RNA\")\n",
                "print(length(rownames(counts)))\n",
                "\n",
                "counts <- GetAssayData(seurat_obj, assay = \"SCT\")\n",
                "print(length(rownames(counts)))\n"
            ]
        },
        {
            "cell_type": "markdown",
            "metadata": {},
            "source": [
                "## Zero counts  \n",
                "See features without any counts left after the filtering.\n"
            ]
        },
        {
            "cell_type": "code",
            "execution_count": null,
            "metadata": {},
            "outputs": [],
            "source": [
                "counts <- GetAssayData(seurat_obj, assay = \"SCT\")\n",
                "zero <- which(rowSums(counts) == 0 )\n",
                "length(zero)\n"
            ]
        },
        {
            "cell_type": "markdown",
            "metadata": {},
            "source": [
                "\n",
                "# QC metrics (after integration) \n"
            ]
        },
        {
            "cell_type": "code",
            "execution_count": null,
            "metadata": {},
            "outputs": [],
            "source": [
                "metadata <- seurat_obj@meta.data\n",
                "\n"
            ]
        },
        {
            "cell_type": "markdown",
            "metadata": {},
            "source": [
                "\n",
                "## Nb of reads  \n"
            ]
        },
        {
            "cell_type": "code",
            "execution_count": null,
            "metadata": {},
            "outputs": [],
            "source": [
                "VlnPlot(seurat_obj,features=\"nCount_RNA\", group.by = \"orig.ident\", pt.size = 0)\n",
                "RidgePlot(seurat_obj, features = \"nCount_RNA\", group.by = \"orig.ident\")\n",
                "\n",
                "metadata %>% \n",
                "  ggplot(aes( x=nCount_RNA,y=orig.ident, fill= orig.ident)) + \n",
                "\tgeom_boxplot() + \n",
                "\ttheme_classic()+\n",
                "  scale_x_log10()\n"
            ]
        },
        {
            "cell_type": "markdown",
            "metadata": {},
            "source": [
                "\n",
                "## Nb of genes  \n"
            ]
        },
        {
            "cell_type": "code",
            "execution_count": null,
            "metadata": {},
            "outputs": [],
            "source": [
                "VlnPlot(seurat_obj,features=\"nFeature_RNA\", group.by = \"orig.ident\", pt.size = 0)\n",
                "RidgePlot(seurat_obj, features = \"nFeature_RNA\", group.by = \"orig.ident\")\n",
                "\n",
                "metadata %>% \n",
                "  ggplot(aes( x=nFeature_RNA,y=orig.ident, fill= orig.ident)) + \n",
                "\tgeom_boxplot() + \n",
                "\ttheme_classic()+\n",
                "  scale_x_log10()\n",
                "    \n"
            ]
        },
        {
            "cell_type": "markdown",
            "metadata": {},
            "source": "\n"
        },
        {
            "cell_type": "code",
            "execution_count": null,
            "metadata": {},
            "outputs": [],
            "source": [
                "ggplot(seurat_obj[[]]) + \n",
                "   geom_histogram(aes(nFeature_RNA), \n",
                "                  color = \"#558bdc\", fill= \"#173664\",\n",
                "                  binwidth = 50) + \n",
                "  ggtitle(\"Distribution of nFeature_RNA \") + NoLegend()\n"
            ]
        },
        {
            "cell_type": "markdown",
            "metadata": {},
            "source": [
                "## Gene expression  \n",
                "We can pick the first 100 cells and look at the distributions of their expression values.\n"
            ]
        },
        {
            "cell_type": "code",
            "execution_count": null,
            "metadata": {},
            "outputs": [],
            "source": [
                "apply(seurat_obj@assays$SCT@data,1,mean) -> gene.expression\n",
                "sort(gene.expression, decreasing = TRUE) -> gene.expression\n",
                "\n",
                "as.tibble(\n",
                "  seurat_obj@assays$SCT@data[,1:100]\n",
                ") %>%\n",
                "  pivot_longer(\n",
                "    cols=everything(),\n",
                "    names_to=\"cell\",\n",
                "    values_to=\"expression\"\n",
                "  ) %>%\n",
                "  ggplot(aes(x=expression, group=cell)) +\n",
                "  geom_density() +\n",
                "  coord_cartesian(ylim=c(0,0.6), xlim=c(0,3))\n"
            ]
        },
        {
            "cell_type": "markdown",
            "metadata": {},
            "source": [
                "## MT genes  \n",
                "*calculating pct on RNA assay (raw)*\n"
            ]
        },
        {
            "cell_type": "code",
            "execution_count": null,
            "metadata": {},
            "outputs": [],
            "source": [
                "seurat_obj[[\"percent.mt\"]] <- PercentageFeatureSet(seurat_obj, pattern = \"^MT-\", assay = 'RNA')\n",
                "VlnPlot(seurat_obj, features = \"percent.mt\", group.by = \"orig.ident\", pt.size = 0)\n",
                "RidgePlot(seurat_obj, features = \"percent.mt\", group.by = \"orig.ident\")\n"
            ]
        },
        {
            "cell_type": "markdown",
            "metadata": {},
            "source": "\n"
        },
        {
            "cell_type": "code",
            "execution_count": null,
            "metadata": {},
            "outputs": [],
            "source": [
                "ggplot(seurat_obj[[]]) + \n",
                "   geom_histogram(aes(percent.mt), \n",
                "                  color = \"#558bdc\", fill= \"#173664\",\n",
                "                  binwidth = 0.5) + \n",
                "  ggtitle(\"Distribution of Percentage Mitochondrion\") + NoLegend()\n"
            ]
        },
        {
            "cell_type": "markdown",
            "metadata": {},
            "source": [
                "\n",
                "## Ribosomal genes  \n"
            ]
        },
        {
            "cell_type": "code",
            "execution_count": null,
            "metadata": {},
            "outputs": [],
            "source": [
                "PercentageFeatureSet(seurat_obj,pattern=\"^RP[LS]\", assay = 'RNA') -> seurat_obj[[\"percent.ribosomal\"]] \n",
                "VlnPlot(seurat_obj, features = \"percent.ribosomal\", group.by = \"orig.ident\", pt.size = 0)\n",
                "RidgePlot(seurat_obj, features = \"percent.ribosomal\", group.by = \"orig.ident\")\n"
            ]
        },
        {
            "cell_type": "markdown",
            "metadata": {},
            "source": "\n"
        },
        {
            "cell_type": "code",
            "execution_count": null,
            "metadata": {},
            "outputs": [],
            "source": [
                "ggplot(seurat_obj[[]]) + \n",
                "   geom_histogram(aes(percent.ribosomal), \n",
                "                  color = \"#558bdc\", fill= \"#173664\",\n",
                "                  binwidth = 0.7) + \n",
                "  ggtitle(\"Distribution of Percentage Ribosomal\") + NoLegend()\n"
            ]
        },
        {
            "cell_type": "markdown",
            "metadata": {},
            "source": [
                "\n",
                "## Largest gene  \n"
            ]
        },
        {
            "cell_type": "code",
            "execution_count": null,
            "metadata": {},
            "outputs": [],
            "source": [
                "apply(\n",
                "  seurat_obj@assays$SCT@counts,\n",
                "  2,\n",
                "  max\n",
                ") -> largest_count\n",
                "\n",
                "apply(\n",
                "  seurat_obj@assays$SCT@counts,\n",
                "  2,\n",
                "  which.max\n",
                ") -> largest_index\n",
                "\n",
                "rownames(seurat_obj)[largest_index] -> seurat_obj$largest_gene\n",
                "\n",
                "100 * largest_count / seurat_obj$nCount_RNA -> seurat_obj$percent.largest_gene\n",
                "\n",
                "VlnPlot(seurat_obj,features=\"percent.largest_gene\", group.by = \"orig.ident\", pt.size = 0)\n",
                "RidgePlot(seurat_obj, features = \"percent.largest_gene\", group.by = \"orig.ident\")\n"
            ]
        },
        {
            "cell_type": "markdown",
            "metadata": {},
            "source": "\n"
        },
        {
            "cell_type": "code",
            "execution_count": null,
            "metadata": {},
            "outputs": [],
            "source": [
                "ggplot(seurat_obj[[]]) + \n",
                "   geom_histogram(aes(percent.largest_gene), \n",
                "                  color = \"#558bdc\", fill= \"#173664\",\n",
                "                  binwidth = 0.7) + \n",
                "  ggtitle(\"Distribution of Percentage Largest Gene\") + NoLegend()\n"
            ]
        },
        {
            "cell_type": "markdown",
            "metadata": {},
            "source": [
                "\n",
                "## FeatureScatter  \n"
            ]
        },
        {
            "cell_type": "code",
            "execution_count": null,
            "metadata": {},
            "outputs": [],
            "source": [
                "FeatureScatter(seurat_obj, feature1 = \"nCount_RNA\", feature2 = \"percent.mt\", group.by =\"orig.ident\")\n",
                "FeatureScatter(seurat_obj,feature1 = \"nCount_RNA\", feature2 = \"percent.largest_gene\",group.by =\"orig.ident\")\n",
                "\n",
                "FeatureScatter(seurat_obj, feature1 = \"nCount_RNA\", feature2 = \"nFeature_RNA\",group.by =\"orig.ident\") + geom_smooth(method = 'lm')\n"
            ]
        },
        {
            "cell_type": "markdown",
            "metadata": {},
            "source": [
                "\n",
                "## Cell cycle scoring  \n"
            ]
        },
        {
            "cell_type": "code",
            "execution_count": null,
            "metadata": {},
            "outputs": [],
            "source": [
                "seurat_obj <- CellCycleScoring(seurat_obj, s.features = cc.genes.updated.2019$s.genes, g2m.features = cc.genes.updated.2019$g2m.genes, set.ident = TRUE)\n",
                "\n",
                "seurat_obj@meta.data %>%\n",
                "  group_by(orig.ident,Phase) %>%\n",
                "  count() %>%\n",
                "  group_by(orig.ident) %>%\n",
                "  mutate(percent=100*n/sum(n)) %>%\n",
                "  ungroup() %>%\n",
                "  ggplot(aes(x=orig.ident,y=percent, fill=Phase)) +\n",
                "  scale_fill_manual( values=c(G1='azure4',G2M='dodgerblue',S='tomato3')) +\n",
                "  geom_col() +\n",
                "  ggtitle(\"Percentage of cell cycle phases per sample\")\n",
                "\n",
                "as_tibble(seurat_obj[[]]) %>%\n",
                "  ggplot(aes(Phase, fill=Phase)) +\n",
                "  scale_fill_manual( values=c(G1='azure4',G2M='dodgerblue',S='tomato3'))+ geom_bar()\n",
                "\n",
                "\n",
                "as_tibble(seurat_obj[[]]) %>%\n",
                "  ggplot(aes(x=S.Score, y=G2M.Score, color=Phase)) + \n",
                "  scale_color_manual( values=c(G1='azure4',G2M='dodgerblue',S='tomato3')) +\n",
                "  geom_point() +\n",
                "  coord_cartesian(xlim=c(-0.15,0.15), ylim=c(-0.15,0.15))\n"
            ]
        },
        {
            "cell_type": "markdown",
            "metadata": {},
            "source": [
                "# Identify high variable features  \n",
                "*Included in the `SCTransform` function.*\n"
            ]
        },
        {
            "cell_type": "code",
            "execution_count": null,
            "metadata": {},
            "outputs": [],
            "source": [
                "# identify the 10 most highly variable genes\n",
                "top10 <- head(VariableFeatures(seurat_obj), 10)\n",
                "\n",
                "# plot the variable features \n",
                "plot <- VariableFeaturePlot(seurat_obj)\n",
                "LabelPoints(plot = plot, points = head(top10,10), repel = TRUE)\n"
            ]
        },
        {
            "cell_type": "markdown",
            "metadata": {},
            "source": [
                "We can plot out a graph of the variance vs mean and highlight the selected genes so we can see whether we think we’re likely to capture what we need.    \n",
                "\n"
            ]
        },
        {
            "cell_type": "code",
            "execution_count": null,
            "metadata": {},
            "outputs": [],
            "source": [
                "as_tibble(HVFInfo(seurat_obj),rownames = \"Gene\") -> variance.data\n",
                "\n",
                "variance.data %>% \n",
                "  mutate(hypervariable=Gene %in% VariableFeatures(seurat_obj)\n",
                ") -> variance.data\n",
                "\n",
                "variance.data %>% \n",
                "  ggplot(aes(log(mean),log(variance),color=hypervariable)) + \n",
                "  geom_point() + \n",
                "  scale_color_manual(values=c(\"black\",\"red\"))\n"
            ]
        },
        {
            "cell_type": "markdown",
            "metadata": {},
            "source": [
                "# Linear dimensional reduction  \n",
                "## PCA  \n"
            ]
        },
        {
            "cell_type": "code",
            "execution_count": null,
            "metadata": {},
            "outputs": [],
            "source": [
                "seurat_obj <- RunPCA(seurat_obj, verbose = FALSE)\n",
                "VizDimLoadings(seurat_obj, dims = 1:2, reduction = \"pca\")\n"
            ]
        },
        {
            "cell_type": "markdown",
            "metadata": {},
            "source": "\n"
        },
        {
            "cell_type": "code",
            "execution_count": null,
            "metadata": {},
            "outputs": [],
            "source": [
                "mat <- Seurat::GetAssayData(seurat_obj, assay = \"SCT\", slot = \"scale.data\") ## instead of RNA\n",
                "pca <- seurat_obj[[\"pca\"]]\n",
                "\n",
                "# Get the total variance:\n",
                "total_variance <- sum(matrixStats::rowVars(mat))\n",
                "eigValues = (pca@stdev)^2  ## EigenValues\n",
                "\n",
                "varExplained = eigValues / total_variance\n",
                "\n",
                "pc1 = percent(varExplained[1], accuracy = 0.01)\n",
                "pc2 = percent(varExplained[2], accuracy = 0.01)\n"
            ]
        },
        {
            "cell_type": "markdown",
            "metadata": {},
            "source": "\n"
        },
        {
            "cell_type": "code",
            "execution_count": null,
            "metadata": {},
            "outputs": [],
            "source": [
                "DimPlot(seurat_obj, reduction = \"pca\", group.by = \"orig.ident\") + xlab(paste0(\"PC_1 : \", pc1)) + ylab(paste0(\"PC_2 :\", pc2 ))\n",
                "DimPlot(seurat_obj, reduction = \"pca\", group.by = \"Phase\", cols = c(G1='azure4',G2M='dodgerblue',S='tomato3'))\n",
                "\n",
                "DimPlot(seurat_obj, reduction = \"pca\", group.by = \"orig.ident\", label.size = 4, label = TRUE)\n"
            ]
        },
        {
            "cell_type": "markdown",
            "metadata": {},
            "source": [
                "\n",
                "### Split by condition\n"
            ]
        },
        {
            "cell_type": "code",
            "execution_count": null,
            "metadata": {},
            "outputs": [],
            "source": [
                "DimPlot(seurat_obj, reduction = \"pca\", group.by=\"orig.ident\", split.by = \"condition\")\n",
                "DimPlot(seurat_obj, reduction = \"pca\", group.by = \"orig.ident\", split.by = \"condition\", label.size = 4, label = TRUE)+ NoLegend()\n",
                "DimPlot(seurat_obj, reduction = \"pca\", group.by=\"orig.ident\", split.by = \"condition\")+ NoLegend()\n"
            ]
        },
        {
            "cell_type": "markdown",
            "metadata": {},
            "source": [
                "\n",
                "## Save seurat object  \n"
            ]
        },
        {
            "cell_type": "code",
            "execution_count": null,
            "metadata": {},
            "outputs": [],
            "source": [
                "saveRDS(seurat_obj, file = paste0(\"./results/rds/samples/Norm_\", line,\".rds\"))\n",
                "\n"
            ]
        },
        {
            "cell_type": "markdown",
            "metadata": {},
            "source": [
                "## Determine the dimensionality of the dataset  \n",
                "how many components should we choose to include?  \n",
                "\n",
                "**JackStrawPlot**  \n",
                "*significant* PCs as those who have a strong enrichment of **low p-value**\n",
                "\n",
                "* dashed line : uniform distribution\n",
                "* solid curve above dash line : strong enrichments of features with low p-values  \n",
                "\n",
                "*Cannot run Jackstraw plot on SCT data*  \n"
            ]
        },
        {
            "cell_type": "code",
            "execution_count": null,
            "metadata": {},
            "outputs": [],
            "source": [
                "seurat_obj <- JackStraw(seurat_obj, num.replicate = 100, dims = pc)\n",
                "jack.data <- seurat_obj \n",
                "\n",
                "seurat_obj <- ScoreJackStraw(seurat_obj, dims = 1:pc)\n",
                "\n",
                "JackStrawPlot(seurat_obj, dims = 1:pc)\n"
            ]
        },
        {
            "cell_type": "markdown",
            "metadata": {},
            "source": [
                "**ElbowPlot**  \n",
                "ranking of principle components based on the percentage of variance explained by each one \n"
            ]
        },
        {
            "cell_type": "code",
            "execution_count": null,
            "metadata": {},
            "outputs": [],
            "source": [
                "ElbowPlot(seurat_obj, ndims = pc)\n",
                "\n"
            ]
        }
    ],
    "metadata": {
        "anaconda-cloud": "",
        "kernelspec": {
            "display_name": "R",
            "langauge": "R",
            "name": "ir"
        },
        "language_info": {
            "codemirror_mode": "r",
            "file_extension": ".r",
            "mimetype": "text/x-r-source",
            "name": "R",
            "pygments_lexer": "r",
            "version": "3.4.1"
        }
    },
    "nbformat": 4,
    "nbformat_minor": 1
}
