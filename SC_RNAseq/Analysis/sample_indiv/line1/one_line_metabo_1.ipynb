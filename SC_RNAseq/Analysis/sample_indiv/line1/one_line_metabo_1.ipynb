{
    "cells": [
        {
            "cell_type": "markdown",
            "metadata": {},
            "source": [
                "# Seurat objects  \n",
                "## Load required packages  \n"
            ]
        },
        {
            "cell_type": "code",
            "execution_count": null,
            "metadata": {
                "vscode": {
                    "languageId": "r"
                }
            },
            "outputs": [],
            "source": [
                "library(Seurat)\n",
                "library(tidyverse)\n",
                "library(ggplot2)\n",
                "library(\"scales\")"
            ]
        },
        {
            "cell_type": "markdown",
            "metadata": {},
            "source": [
                "\n",
                "## Load seurat object (ALL GENES)\n"
            ]
        },
        {
            "cell_type": "code",
            "execution_count": null,
            "metadata": {
                "vscode": {
                    "languageId": "r"
                }
            },
            "outputs": [],
            "source": [
                "line <- params$line"
            ]
        },
        {
            "cell_type": "code",
            "execution_count": null,
            "metadata": {
                "vscode": {
                    "languageId": "r"
                }
            },
            "outputs": [],
            "source": [
                "seurat_obj <- readRDS(file = paste0('./results/rds/samples/Norm_', line,'.rds'))\n",
                "\n",
                "seurat_obj\n",
                "table(seurat_obj$orig.ident)"
            ]
        },
        {
            "cell_type": "code",
            "execution_count": null,
            "metadata": {
                "vscode": {
                    "languageId": "r"
                }
            },
            "outputs": [],
            "source": [
                "counts <- GetAssayData(seurat_obj, assay = \"integrated\")\n",
                "print(length(rownames(counts)))\n",
                "\n",
                "counts <- GetAssayData(seurat_obj, assay = \"RNA\")\n",
                "print(length(rownames(counts)))\n",
                "\n",
                "counts <- GetAssayData(seurat_obj, assay = \"SCT\")\n",
                "print(length(rownames(counts)))"
            ]
        },
        {
            "cell_type": "markdown",
            "metadata": {},
            "source": [
                "\n",
                "## Create seurat object (METABO)\n"
            ]
        },
        {
            "cell_type": "code",
            "execution_count": null,
            "metadata": {
                "vscode": {
                    "languageId": "r"
                }
            },
            "outputs": [],
            "source": [
                "genes <- read.csv(\"all_metabo.tsv\", sep = '\\t', header = TRUE)\n",
                "head(genes, 3)"
            ]
        },
        {
            "cell_type": "code",
            "execution_count": null,
            "metadata": {
                "vscode": {
                    "languageId": "r"
                }
            },
            "outputs": [],
            "source": [
                "features <- rownames(seurat_obj@assays$SCT@counts)\n",
                "# keep genes names seeen un genes$Gene_name\n",
                "matched_features <- features[features %in% genes$Gene_name]\n",
                "\n",
                "counts <- GetAssayData(seurat_obj, assay = \"SCT\")\n",
                "counts <- counts[(which(rownames(counts) %in% matched_features)),]\n",
                "metabo_obj <- subset(seurat_obj, features = rownames(counts))\n"
            ]
        },
        {
            "cell_type": "code",
            "execution_count": null,
            "metadata": {
                "vscode": {
                    "languageId": "r"
                }
            },
            "outputs": [],
            "source": [
                "metabo_obj\n",
                "table(metabo_obj$orig.ident)"
            ]
        },
        {
            "cell_type": "code",
            "execution_count": null,
            "metadata": {
                "vscode": {
                    "languageId": "r"
                }
            },
            "outputs": [],
            "source": [
                "counts <- GetAssayData(metabo_obj, assay = \"integrated\")\n",
                "print(length(rownames(counts)))\n",
                "\n",
                "counts <- GetAssayData(metabo_obj, assay = \"RNA\")\n",
                "print(length(rownames(counts)))\n",
                "\n",
                "counts <- GetAssayData(metabo_obj, assay = \"SCT\")\n",
                "print(length(rownames(counts)))\n"
            ]
        },
        {
            "cell_type": "markdown",
            "metadata": {},
            "source": [
                "\n",
                "##  <span style=\"color:#296d98;\"> Parameters </span>  \n"
            ]
        },
        {
            "cell_type": "code",
            "execution_count": null,
            "metadata": {
                "vscode": {
                    "languageId": "r"
                }
            },
            "outputs": [],
            "source": [
                "pc = 60"
            ]
        },
        {
            "cell_type": "markdown",
            "metadata": {},
            "source": [
                "rerun SCTransform after subsetting the object, especially if you intend to rerun PCA (i.e. subclustering)\n",
                "\n",
                "# QC metrics  \n"
            ]
        },
        {
            "cell_type": "code",
            "execution_count": null,
            "metadata": {
                "vscode": {
                    "languageId": "r"
                }
            },
            "outputs": [],
            "source": [
                "metadata <- metabo_obj@meta.data"
            ]
        },
        {
            "cell_type": "markdown",
            "metadata": {},
            "source": [
                "\n",
                "## Nb of reads  \n"
            ]
        },
        {
            "cell_type": "code",
            "execution_count": null,
            "metadata": {
                "vscode": {
                    "languageId": "r"
                }
            },
            "outputs": [],
            "source": [
                "VlnPlot(metabo_obj,features=\"nCount_RNA\", group.by = \"orig.ident\", pt.size = 0)\n",
                "RidgePlot(metabo_obj, features = \"nCount_RNA\", group.by = \"orig.ident\")\n",
                "\n",
                "metadata %>% \n",
                "  ggplot(aes( x=nCount_RNA,y=orig.ident, fill= orig.ident)) + \n",
                "\tgeom_boxplot() + \n",
                "\ttheme_classic()+\n",
                "  scale_x_log10()\n"
            ]
        },
        {
            "cell_type": "code",
            "execution_count": null,
            "metadata": {
                "vscode": {
                    "languageId": "r"
                }
            },
            "outputs": [],
            "source": [
                "nCount_metabo <- as.data.frame(rowSums(metabo_obj[[\"nCount_RNA\"]]))\n",
                "nCount_metabo$Genes <- \"metabo\"\n",
                "colnames(nCount_metabo)[1] <- \"nCount\"\n",
                "\n",
                "nCount_all <- as.data.frame(rowSums(seurat_obj[[\"nCount_RNA\"]]))\n",
                "nCount_all$Genes <- \"all\"\n",
                "colnames(nCount_all)[1] <- \"nCount\"\n",
                "\n",
                "other <- nCount_all\n",
                "other$Genes <- \"others\"\n",
                "dim(other)\n",
                "other <- other[!(rownames(other) %in% rownames(metabo_obj$SCT)),]\n",
                "\n",
                "expr <- rbind(nCount_all, nCount_metabo, other)\n",
                "head(expr)\n",
                "ggplot(expr, aes(x=Genes,y=nCount)) + geom_boxplot()\n"
            ]
        },
        {
            "cell_type": "markdown",
            "metadata": {},
            "source": [
                "\n",
                "## Nb of genes  \n"
            ]
        },
        {
            "cell_type": "code",
            "execution_count": null,
            "metadata": {
                "vscode": {
                    "languageId": "r"
                }
            },
            "outputs": [],
            "source": [
                "VlnPlot(metabo_obj,features=\"nFeature_RNA\", group.by = \"orig.ident\", pt.size = 0)\n",
                "RidgePlot(metabo_obj, features = \"nFeature_RNA\", group.by = \"orig.ident\")\n",
                "\n",
                "metadata %>% \n",
                "  ggplot(aes( x=nFeature_RNA,y=orig.ident, fill= orig.ident)) + \n",
                "\tgeom_boxplot() + \n",
                "\ttheme_classic()+\n",
                "    scale_x_log10()\n",
                "    scale_x_log10()\n",
                "    \n",
                "  scale_x_log10()\n",
                "    \n"
            ]
        },
        {
            "cell_type": "code",
            "execution_count": null,
            "metadata": {
                "vscode": {
                    "languageId": "r"
                }
            },
            "outputs": [],
            "source": [
                "ggplot(metabo_obj[[]]) + \n",
                "   geom_histogram(aes(nFeature_RNA), \n",
                "                  color = \"#558bdc\", fill= \"#173664\",\n",
                "                  binwidth = 50) + \n",
                "  ggtitle(\"Distribution of nFeature_RNA \") + NoLegend()\n"
            ]
        },
        {
            "cell_type": "markdown",
            "metadata": {},
            "source": [
                "## Gene expression  \n",
                "We can pick the first 100 cells and look at the distributions of their expression values.\n"
            ]
        },
        {
            "cell_type": "code",
            "execution_count": null,
            "metadata": {
                "vscode": {
                    "languageId": "r"
                }
            },
            "outputs": [],
            "source": [
                "as.tibble(\n",
                "  metabo_obj@assays$SCT@data[,1:100]\n",
                ") %>%\n",
                "  pivot_longer(\n",
                "    cols=everything(),\n",
                "    names_to=\"cell\",\n",
                "    values_to=\"expression\"\n",
                "  ) %>%\n",
                "  ggplot(aes(x=expression, group=cell)) +\n",
                "  geom_density() +\n",
                "  coord_cartesian(ylim=c(0,0.6), xlim=c(0,3))\n"
            ]
        },
        {
            "cell_type": "code",
            "execution_count": null,
            "metadata": {
                "vscode": {
                    "languageId": "r"
                }
            },
            "outputs": [],
            "source": [
                "expression_metabo <- as.data.frame(rowSums(metabo_obj@assays$SCT@data))\n",
                "expression_metabo$Genes <- \"metabo\"\n",
                "colnames(expression_metabo)[1] <- \"expression\"\n",
                "\n",
                "expression_all <- as.data.frame(rowSums(seurat_obj@assays$SCT@data))\n",
                "expression_all$Genes <- \"all\"\n",
                "colnames(expression_all)[1] <- \"expression\"\n",
                "\n",
                "other <- expression_all\n",
                "other$Genes <- \"others\"\n",
                "dim(other)\n",
                "other <- other[!(rownames(other) %in% rownames(metabo_obj$SCT)),]\n",
                "\n",
                "expr <- rbind(expression_all, expression_metabo, other)\n",
                "head(expr)\n",
                "ggplot(expr, aes(x=Genes,y=log(expression+1))) + geom_boxplot()\n"
            ]
        },
        {
            "cell_type": "markdown",
            "metadata": {},
            "source": [
                "## MT genes  \n",
                "### All genes\n"
            ]
        },
        {
            "cell_type": "code",
            "execution_count": null,
            "metadata": {
                "vscode": {
                    "languageId": "r"
                }
            },
            "outputs": [],
            "source": [
                "VlnPlot(metabo_obj, features = \"percent.mt\", group.by = \"orig.ident\", pt.size = 0)\n",
                "RidgePlot(metabo_obj, features = \"percent.mt\", group.by = \"orig.ident\")\n"
            ]
        },
        {
            "cell_type": "code",
            "execution_count": null,
            "metadata": {
                "vscode": {
                    "languageId": "r"
                }
            },
            "outputs": [],
            "source": [
                "ggplot(metabo_obj[[]]) + \n",
                "   geom_histogram(aes(percent.mt), \n",
                "                  color = \"#558bdc\", fill= \"#173664\",\n",
                "                  binwidth = 0.5) + \n",
                "  ggtitle(\"Distribution of Percentage Mitochondrion\") + NoLegend()\n"
            ]
        },
        {
            "cell_type": "markdown",
            "metadata": {},
            "source": [
                "\n",
                "### Metabo only\n"
            ]
        },
        {
            "cell_type": "code",
            "execution_count": null,
            "metadata": {
                "vscode": {
                    "languageId": "r"
                }
            },
            "outputs": [],
            "source": [
                "metabo_obj[[\"percent.mt\"]] <- PercentageFeatureSet(metabo_obj, pattern = \"^MT-\", assay = 'RNA')\n",
                "VlnPlot(metabo_obj, features = \"percent.mt\", group.by = \"orig.ident\", pt.size = 0)\n",
                "RidgePlot(metabo_obj, features = \"percent.mt\", group.by = \"orig.ident\")\n"
            ]
        },
        {
            "cell_type": "code",
            "execution_count": null,
            "metadata": {
                "vscode": {
                    "languageId": "r"
                }
            },
            "outputs": [],
            "source": [
                "ggplot(metabo_obj[[]]) + \n",
                "   geom_histogram(aes(percent.mt), \n",
                "                  color = \"#558bdc\", fill= \"#173664\",\n",
                "                  binwidth = 0.5) + \n",
                "  ggtitle(\"Distribution of Percentage Mitochondrion\") + NoLegend()\n"
            ]
        },
        {
            "cell_type": "markdown",
            "metadata": {},
            "source": [
                "## Ribosomal genes  \n",
                "### All genes  \n"
            ]
        },
        {
            "cell_type": "code",
            "execution_count": null,
            "metadata": {
                "vscode": {
                    "languageId": "r"
                }
            },
            "outputs": [],
            "source": [
                "VlnPlot(metabo_obj, features = \"percent.ribosomal\", group.by = \"orig.ident\", pt.size = 0)\n",
                "RidgePlot(metabo_obj, features = \"percent.ribosomal\", group.by = \"orig.ident\")\n"
            ]
        },
        {
            "cell_type": "code",
            "execution_count": null,
            "metadata": {
                "vscode": {
                    "languageId": "r"
                }
            },
            "outputs": [],
            "source": [
                "ggplot(metabo_obj[[]]) + \n",
                "   geom_histogram(aes(percent.ribosomal), \n",
                "                  color = \"#558bdc\", fill= \"#173664\",\n",
                "                  binwidth = 0.7) + \n",
                "  ggtitle(\"Distribution of Percentage Ribosomal\") + NoLegend()\n"
            ]
        },
        {
            "cell_type": "markdown",
            "metadata": {},
            "source": [
                "\n",
                "### Metabo only  \n"
            ]
        },
        {
            "cell_type": "code",
            "execution_count": null,
            "metadata": {
                "vscode": {
                    "languageId": "r"
                }
            },
            "outputs": [],
            "source": [
                "PercentageFeatureSet(metabo_obj,pattern=\"^RP[LS]\", assay = 'RNA') -> metabo_obj[[\"percent.ribosomal\"]] \n",
                "VlnPlot(metabo_obj, features = \"percent.ribosomal\", group.by = \"orig.ident\", pt.size = 0)\n",
                "RidgePlot(metabo_obj, features = \"percent.ribosomal\", group.by = \"orig.ident\")\n"
            ]
        },
        {
            "cell_type": "code",
            "execution_count": null,
            "metadata": {
                "vscode": {
                    "languageId": "r"
                }
            },
            "outputs": [],
            "source": [
                "ggplot(metabo_obj[[]]) + \n",
                "   geom_histogram(aes(percent.ribosomal), \n",
                "                  color = \"#558bdc\", fill= \"#173664\",\n",
                "                  binwidth = 0.7) + \n",
                "  ggtitle(\"Distribution of Percentage Ribosomal\") + NoLegend()\n"
            ]
        },
        {
            "cell_type": "markdown",
            "metadata": {},
            "source": [
                "\n",
                "## Largest gene  (All genes)\n"
            ]
        },
        {
            "cell_type": "code",
            "execution_count": null,
            "metadata": {
                "vscode": {
                    "languageId": "r"
                }
            },
            "outputs": [],
            "source": [
                "VlnPlot(metabo_obj, features = \"percent.largest_gene\", group.by = \"orig.ident\", pt.size = 0)\n",
                "RidgePlot(metabo_obj, features = \"percent.largest_gene\", group.by = \"orig.ident\")\n"
            ]
        },
        {
            "cell_type": "code",
            "execution_count": null,
            "metadata": {
                "vscode": {
                    "languageId": "r"
                }
            },
            "outputs": [],
            "source": [
                "ggplot(metabo_obj[[]]) + \n",
                "   geom_histogram(aes(percent.largest_gene), \n",
                "                  color = \"#558bdc\", fill= \"#173664\",\n",
                "                  binwidth = 0.7) + \n",
                "  ggtitle(\"Distribution of Percentage Largest Gene\") + NoLegend()\n"
            ]
        },
        {
            "cell_type": "markdown",
            "metadata": {},
            "source": [
                "\n",
                "## FeatureScatter  \n"
            ]
        },
        {
            "cell_type": "code",
            "execution_count": null,
            "metadata": {
                "vscode": {
                    "languageId": "r"
                }
            },
            "outputs": [],
            "source": [
                "FeatureScatter(metabo_obj, feature1 = \"nCount_RNA\", feature2 = \"percent.mt\", group.by =\"orig.ident\")\n",
                "\n",
                "FeatureScatter(metabo_obj, feature1 = \"nCount_RNA\", feature2 = \"nFeature_RNA\",group.by =\"orig.ident\") + geom_smooth(method = 'lm')\n"
            ]
        },
        {
            "cell_type": "markdown",
            "metadata": {},
            "source": [
                "\n",
                "## Cell cycle scoring  \n"
            ]
        },
        {
            "cell_type": "code",
            "execution_count": null,
            "metadata": {
                "vscode": {
                    "languageId": "r"
                }
            },
            "outputs": [],
            "source": [
                "metabo_obj@meta.data %>%\n",
                "  group_by(orig.ident,Phase) %>%\n",
                "  count() %>%\n",
                "  group_by(orig.ident) %>%\n",
                "  mutate(percent=100*n/sum(n)) %>%\n",
                "  ungroup() %>%\n",
                "  ggplot(aes(x=orig.ident,y=percent, fill=Phase)) +\n",
                "  scale_fill_manual( values=c(G1='azure4',G2M='dodgerblue',S='tomato3' )) +\n",
                "  geom_col() +\n",
                "  ggtitle(\"Percentage of cell cycle phases per sample\")\n",
                "\n",
                "as_tibble(metabo_obj[[]]) %>%\n",
                "  ggplot(aes(Phase, fill=Phase)) +\n",
                "  scale_fill_manual( values=c(G1='azure4',G2M='dodgerblue',S='tomato3' ))+ geom_bar()\n",
                "\n",
                "\n",
                "as_tibble(metabo_obj[[]]) %>%\n",
                "  ggplot(aes(x=S.Score, y=G2M.Score, color=Phase)) + \n",
                "  scale_color_manual( values=c(G1='azure4',G2M='dodgerblue',S='tomato3' )) +\n",
                "  geom_point() +\n",
                "  coord_cartesian(xlim=c(-0.15,0.15), ylim=c(-0.15,0.15))\n"
            ]
        },
        {
            "cell_type": "markdown",
            "metadata": {},
            "source": [
                "# Identify high variable features  \n",
                "*Included in the `SCTransform` function. It was done with all genes*\n"
            ]
        },
        {
            "cell_type": "code",
            "execution_count": null,
            "metadata": {
                "vscode": {
                    "languageId": "r"
                }
            },
            "outputs": [],
            "source": [
                "metabo_obj <- FindVariableFeatures(metabo_obj, selection.method = \"vst\", nfeatures = 1000)\n",
                "\n",
                "# identify the 10 most highly variable genes\n",
                "top10 <- head(VariableFeatures(metabo_obj), 10)\n",
                "top10\n",
                "\n",
                "# plot the variable features \n",
                "plot <- VariableFeaturePlot(metabo_obj)\n",
                "LabelPoints(plot = plot, points = head(top10,10), repel = TRUE)\n"
            ]
        },
        {
            "cell_type": "markdown",
            "metadata": {},
            "source": [
                "We can plot out a graph of the variance vs mean and highlight the selected genes so we can see whether we think we’re likely to capture what we need.    \n",
                "\n"
            ]
        },
        {
            "cell_type": "code",
            "execution_count": null,
            "metadata": {
                "vscode": {
                    "languageId": "r"
                }
            },
            "outputs": [],
            "source": [
                "as_tibble(HVFInfo(metabo_obj),rownames = \"Gene\") -> variance.data\n",
                "\n",
                "variance.data %>% \n",
                "  mutate(hypervariable=Gene %in% VariableFeatures(metabo_obj)\n",
                ") -> variance.data\n",
                "\n",
                "variance.data %>% \n",
                "  ggplot(aes(log(mean),log(variance),color=hypervariable)) + \n",
                "  geom_point() + \n",
                "  scale_color_manual(values=c(\"black\",\"red\"))\n"
            ]
        },
        {
            "cell_type": "markdown",
            "metadata": {},
            "source": [
                "  \n",
                "\n",
                "# Scaling the data  \n",
                "*Included in the `SCTransform` function. It was done with all genes*\n",
                "\n",
                "**ScaleData** :\n",
                "\n",
                "* Shifts the expression of each gene, so that the mean expression across cells is 0\n",
                "* Scales the expression of each gene, so that the variance across cells is 1 \n",
                "    + This step gives equal weight in downstream analyses, so that highly-expressed genes do not \n",
                "\n",
                "# Linear dimensional reduction  \n",
                "## PCA  \n"
            ]
        },
        {
            "cell_type": "code",
            "execution_count": null,
            "metadata": {
                "vscode": {
                    "languageId": "r"
                }
            },
            "outputs": [],
            "source": [
                "DefaultAssay(metabo_obj) <- \"integrated\"\n",
                "\n",
                "metabo_obj <- RunPCA(metabo_obj, verbose=FALSE)\n",
                "VizDimLoadings(metabo_obj, dims = 1:2, reduction = \"pca\")\n"
            ]
        },
        {
            "cell_type": "code",
            "execution_count": null,
            "metadata": {
                "vscode": {
                    "languageId": "r"
                }
            },
            "outputs": [],
            "source": [
                "mat <- Seurat::GetAssayData(metabo_obj, assay = \"SCT\", slot = \"scale.data\")\n",
                "pca <- metabo_obj[[\"pca\"]]\n",
                "\n",
                "# Get the total variance:\n",
                "total_variance <- sum(matrixStats::rowVars(mat))\n",
                "eigValues = (pca@stdev)^2  ## EigenValues\n",
                "\n",
                "varExplained = eigValues / total_variance\n",
                "\n",
                "pc1 = percent(varExplained[1], accuracy = 0.01)\n",
                "pc2 = percent(varExplained[2], accuracy = 0.01)\n"
            ]
        },
        {
            "cell_type": "code",
            "execution_count": null,
            "metadata": {
                "vscode": {
                    "languageId": "r"
                }
            },
            "outputs": [],
            "source": [
                "DimPlot(metabo_obj, reduction = \"pca\", group.by = \"orig.ident\") + xlab(paste0(\"PC_1 : \", pc1)) + ylab(paste0(\"PC_2 :\", pc2 ))\n",
                "DimPlot(metabo_obj, reduction = \"pca\", group.by = \"Phase\", cols = c(G1='azure4',G2M='dodgerblue',S='tomato3'))\n",
                "\n",
                "DimPlot(metabo_obj, reduction = \"pca\", group.by = \"orig.ident\", label.size = 4, label = TRUE)\n"
            ]
        },
        {
            "cell_type": "markdown",
            "metadata": {},
            "source": [
                "\n",
                "### Split by condition\n"
            ]
        },
        {
            "cell_type": "code",
            "execution_count": null,
            "metadata": {
                "vscode": {
                    "languageId": "r"
                }
            },
            "outputs": [],
            "source": [
                "DimPlot(metabo_obj, reduction = \"pca\", group.by=\"orig.ident\", split.by = \"condition\")\n",
                "DimPlot(metabo_obj, reduction = \"pca\", group.by = \"orig.ident\", split.by = \"condition\", label.size = 4, label = TRUE)+ NoLegend()\n",
                "DimPlot(metabo_obj, reduction = \"pca\", group.by=\"orig.ident\", split.by = \"condition\")+ NoLegend()\n"
            ]
        },
        {
            "cell_type": "markdown",
            "metadata": {},
            "source": [
                "\n",
                "### Save seurat object (metabo)\n"
            ]
        },
        {
            "cell_type": "code",
            "execution_count": null,
            "metadata": {
                "vscode": {
                    "languageId": "r"
                }
            },
            "outputs": [],
            "source": [
                "saveRDS(metabo_obj, file = paste0(\"./results/rds/samples/\", line, \"_metabo.rds\"))"
            ]
        },
        {
            "cell_type": "markdown",
            "metadata": {},
            "source": [
                "## Determine the dimensionality of the dataset  \n",
                "how many components should we choose to include?  \n",
                "\n",
                "**JackStrawPlot**  \n",
                "*significant* PCs as those who have a strong enrichment of **low p-value**\n",
                "\n",
                "* dashed line : uniform distribution\n",
                "* solid curve above dash line : strong enrichments of features with low p-values\n",
                "\n",
                "*Cannot run Jackstraw plot on SCT data*  \n"
            ]
        },
        {
            "cell_type": "code",
            "execution_count": null,
            "metadata": {
                "vscode": {
                    "languageId": "r"
                }
            },
            "outputs": [],
            "source": [
                "metabo_obj <- JackStraw(metabo_obj, num.replicate = 100, dims = pc)\n",
                "jack.data <- metabo_obj \n",
                "\n",
                "metabo_obj <- ScoreJackStraw(metabo_obj, dims = 1:pc)\n",
                "\n",
                "JackStrawPlot(metabo_obj, dims = 1:pc)\n"
            ]
        },
        {
            "cell_type": "markdown",
            "metadata": {},
            "source": [
                "**ElbowPlot**  \n",
                "ranking of principle components based on the percentage of variance explained by each one \n"
            ]
        },
        {
            "cell_type": "code",
            "execution_count": null,
            "metadata": {
                "vscode": {
                    "languageId": "r"
                }
            },
            "outputs": [],
            "source": [
                "ElbowPlot(seurat_obj, ndims = pc)"
            ]
        }
    ],
    "metadata": {
        "anaconda-cloud": "",
        "kernelspec": {
            "display_name": "R",
            "langauge": "R",
            "name": "ir"
        },
        "language_info": {
            "codemirror_mode": "r",
            "file_extension": ".r",
            "mimetype": "text/x-r-source",
            "name": "R",
            "pygments_lexer": "r",
            "version": "3.4.1"
        }
    },
    "nbformat": 4,
    "nbformat_minor": 1
}
