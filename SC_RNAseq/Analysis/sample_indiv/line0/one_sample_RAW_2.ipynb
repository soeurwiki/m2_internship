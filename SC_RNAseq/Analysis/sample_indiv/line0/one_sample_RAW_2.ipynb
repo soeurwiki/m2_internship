{
    "cells": [
        {
            "cell_type": "markdown",
            "metadata": {},
            "source": [
                "# Environment  \n",
                "## Load required packages  \n"
            ]
        },
        {
            "cell_type": "code",
            "execution_count": null,
            "metadata": {
                "vscode": {
                    "languageId": "r"
                }
            },
            "outputs": [],
            "source": [
                "library(Seurat)\n",
                "library(DoubletFinder)\n",
                "library(tidyverse)\n",
                "library(viridis)"
            ]
        },
        {
            "cell_type": "code",
            "execution_count": null,
            "metadata": {
                "vscode": {
                    "languageId": "r"
                }
            },
            "outputs": [],
            "source": [
                "sample <- params$sample # sample_condition"
            ]
        },
        {
            "cell_type": "markdown",
            "metadata": {},
            "source": [
                "## Loading data  \n",
                "*min.cells* : Include features detected in at least this many cells. Will subset the counts matrix as well.  \n",
                "*min.features* : Include cells where at least this many features are detected.  \n"
            ]
        },
        {
            "cell_type": "code",
            "execution_count": null,
            "metadata": {
                "vscode": {
                    "languageId": "r"
                }
            },
            "outputs": [],
            "source": [
                "seurat_obj <- readRDS(file = paste0(\"./results/rds/samples/Doublet_\", sample, \".rds\"))\n",
                "\n",
                "## Raw data\n",
                "QC_sample <- readRDS(file = paste0(\"./results/rds/samples/QC_\", sample, \".rds\"))\n",
                "\n",
                "seurat_obj                  "
            ]
        },
        {
            "cell_type": "markdown",
            "metadata": {},
            "source": [
                "\n",
                "##  <span style=\"color:#296d98;\"> Parameters </span>  \n"
            ]
        },
        {
            "cell_type": "code",
            "execution_count": null,
            "metadata": {
                "vscode": {
                    "languageId": "r"
                }
            },
            "outputs": [],
            "source": [
                "pc = as.numeric(params$pc)\n",
                "doublet_rate = as.double(params$doublet_rate)"
            ]
        },
        {
            "cell_type": "markdown",
            "metadata": {},
            "source": [
                "# Doublet\n",
                "### Pre-process standard workflow  \n"
            ]
        },
        {
            "cell_type": "code",
            "execution_count": null,
            "metadata": {
                "vscode": {
                    "languageId": "r"
                }
            },
            "outputs": [],
            "source": [
                "seurat_obj <- FindNeighbors(seurat_obj, dims = 1:pc)\n",
                "seurat_obj <- FindClusters(seurat_obj)\n",
                "seurat_obj <- RunUMAP(seurat_obj, dims = 1:pc)"
            ]
        },
        {
            "cell_type": "markdown",
            "metadata": {},
            "source": [
                "\n",
                "### pk optimisation  \n"
            ]
        },
        {
            "cell_type": "code",
            "execution_count": null,
            "metadata": {
                "vscode": {
                    "languageId": "r"
                }
            },
            "outputs": [],
            "source": [
                "sweep.res.list <- paramSweep_v3(seurat_obj, PCs = 1:pc, sct = FALSE)"
            ]
        },
        {
            "cell_type": "code",
            "execution_count": null,
            "metadata": {
                "vscode": {
                    "languageId": "r"
                }
            },
            "outputs": [],
            "source": [
                "sweep.stats <- summarizeSweep(sweep.res.list, GT=FALSE)\n",
                "bcmvn <- find.pK(sweep.stats)"
            ]
        },
        {
            "cell_type": "code",
            "execution_count": null,
            "metadata": {
                "vscode": {
                    "languageId": "r"
                }
            },
            "outputs": [],
            "source": [
                "ggplot(bcmvn, aes(pK, BCmetric, group=1)) +\n",
                "      geom_point() +\n",
                "      geom_line()\n",
                "\n",
                "# we select the pK that corresponds to max bcmvn to optimize doublet detection \n",
                "pK <- bcmvn %>%\n",
                "  filter(BCmetric == max(BCmetric)) %>%\n",
                "  select(pK) \n",
                "pK <- as.numeric(as.character(pK[[1]]))\n",
                "pK"
            ]
        },
        {
            "cell_type": "markdown",
            "metadata": {},
            "source": [
                "\n",
                "### Homotypic Doublet Proportion Estimate \n"
            ]
        },
        {
            "cell_type": "code",
            "execution_count": null,
            "metadata": {
                "vscode": {
                    "languageId": "r"
                }
            },
            "outputs": [],
            "source": [
                "annotations <- seurat_obj@meta.data$seurat_clusters\n",
                "homotypic.prop <- modelHomotypic(annotations)\n",
                "nExp_poi <- round(doublet_rate*nrow(seurat_obj@meta.data))  \n",
                "nExp_poi.adj <- round(nExp_poi*(1-homotypic.prop))\n",
                "\n",
                "# run doubletFinder \n",
                "seurat_obj <- doubletFinder_v3(seurat_obj, \n",
                "                                     PCs = 1:pc, \n",
                "                                     pN = 0.25, \n",
                "                                     pK = pK, \n",
                "                                     nExp = nExp_poi.adj,\n",
                "                                     reuse.pANN = FALSE, sct = FALSE)"
            ]
        },
        {
            "cell_type": "markdown",
            "metadata": {},
            "source": [
                "\n",
                "### Singlets and doublets  \n"
            ]
        },
        {
            "cell_type": "code",
            "execution_count": null,
            "metadata": {
                "vscode": {
                    "languageId": "r"
                }
            },
            "outputs": [],
            "source": [
                "## retrieve column which classifies Singlets/Doublets\n",
                "col = colnames(seurat_obj[[]])[which(grepl('^DF.classifications', colnames(seurat_obj[[]])) ==TRUE )]\n",
                "\n",
                "## add this classification to raw data QC_sample\n",
                "QC_sample@meta.data$DF.classifications <- seurat_obj@meta.data[col][,1]\n"
            ]
        },
        {
            "cell_type": "code",
            "execution_count": null,
            "metadata": {
                "vscode": {
                    "languageId": "r"
                }
            },
            "outputs": [],
            "source": [
                "# visualize doublets\n",
                "DimPlot(seurat_obj, reduction = 'umap', group.by = col)\n",
                "\n",
                "# number of singlets and doublets\n",
                "table(QC_sample@meta.data$DF.classifications)"
            ]
        },
        {
            "cell_type": "markdown",
            "metadata": {},
            "source": [
                "\n",
                "### Filter out doublets\n"
            ]
        },
        {
            "cell_type": "code",
            "execution_count": null,
            "metadata": {
                "vscode": {
                    "languageId": "r"
                }
            },
            "outputs": [],
            "source": [
                "subset(\n",
                "  QC_sample,\n",
                "  DF.classifications == \"Singlet\"\n",
                "  ) -> QC_sample\n",
                "\n",
                "QC_sample"
            ]
        },
        {
            "cell_type": "markdown",
            "metadata": {},
            "source": [
                "\n",
                "# QC metrics (Filtered)\n"
            ]
        },
        {
            "cell_type": "code",
            "execution_count": null,
            "metadata": {
                "vscode": {
                    "languageId": "r"
                }
            },
            "outputs": [],
            "source": [
                "FeatureScatter(QC_sample, feature1 = \"nCount_RNA\", feature2 = \"nFeature_RNA\") + geom_smooth(method = 'lm')"
            ]
        },
        {
            "cell_type": "code",
            "execution_count": null,
            "metadata": {
                "vscode": {
                    "languageId": "r"
                }
            },
            "outputs": [],
            "source": [
                "as_tibble(\n",
                "  QC_sample[[]],\n",
                "  rownames=\"Cell.Barcode\"\n",
                ") -> qc.metrics"
            ]
        },
        {
            "cell_type": "markdown",
            "metadata": {},
            "source": [
                "\n",
                "## Nb of reads   \n"
            ]
        },
        {
            "cell_type": "code",
            "execution_count": null,
            "metadata": {
                "vscode": {
                    "languageId": "r"
                }
            },
            "outputs": [],
            "source": [
                "ggplot(qc.metrics) + \n",
                "   geom_histogram(aes(nCount_RNA), \n",
                "                  color = \"#558bdc\", fill= \"#173664\",\n",
                "                  binwidth = 50) + \n",
                "  ggtitle(\"Distribution of nCount_RNA \") + NoLegend()"
            ]
        },
        {
            "cell_type": "markdown",
            "metadata": {},
            "source": [
                "\n",
                "## Nb of genes  \n"
            ]
        },
        {
            "cell_type": "code",
            "execution_count": null,
            "metadata": {
                "vscode": {
                    "languageId": "r"
                }
            },
            "outputs": [],
            "source": [
                "ggplot(qc.metrics) + \n",
                "   geom_histogram(aes(nFeature_RNA), \n",
                "                  color = \"#558bdc\", fill= \"#173664\",\n",
                "                  binwidth = 50) + \n",
                "  ggtitle(\"Distribution of nFeature_RNA \") + NoLegend()"
            ]
        },
        {
            "cell_type": "markdown",
            "metadata": {},
            "source": [
                "## MT genes  \n"
            ]
        },
        {
            "cell_type": "code",
            "execution_count": null,
            "metadata": {
                "vscode": {
                    "languageId": "r"
                }
            },
            "outputs": [],
            "source": [
                "ggplot(qc.metrics) + \n",
                "   geom_histogram(aes(percent.mt), \n",
                "                  color = \"#558bdc\", fill= \"#173664\",\n",
                "                  binwidth = 0.5) + \n",
                "  scale_x_continuous(breaks=seq(0, 100, by = 15))+\n",
                "  ggtitle(\"Distribution of Percentage Mitochondrion\") + NoLegend()"
            ]
        },
        {
            "cell_type": "markdown",
            "metadata": {},
            "source": [
                "\n",
                "## Ribosomal genes  \n"
            ]
        },
        {
            "cell_type": "code",
            "execution_count": null,
            "metadata": {
                "vscode": {
                    "languageId": "r"
                }
            },
            "outputs": [],
            "source": [
                "ggplot(qc.metrics) + \n",
                "   geom_histogram(aes(percent.ribosomal), \n",
                "                  color = \"#558bdc\", fill= \"#173664\",\n",
                "                  binwidth = 0.5) + \n",
                "  ggtitle(\"Distribution of Percentage Ribosomal\") + NoLegend()"
            ]
        },
        {
            "cell_type": "markdown",
            "metadata": {},
            "source": [
                "\n",
                "## Largest gene  \n"
            ]
        },
        {
            "cell_type": "code",
            "execution_count": null,
            "metadata": {
                "vscode": {
                    "languageId": "r"
                }
            },
            "outputs": [],
            "source": [
                "ggplot(qc.metrics) + \n",
                "   geom_histogram(aes(percent.largest_gene), \n",
                "                  color = \"#558bdc\", fill= \"#173664\",\n",
                "                  binwidth = 0.7) + \n",
                "  ggtitle(\"Distribution of Percentage Largest Gene\") + NoLegend()"
            ]
        },
        {
            "cell_type": "markdown",
            "metadata": {},
            "source": [
                " \n",
                "# Save seurat object  \n"
            ]
        },
        {
            "cell_type": "code",
            "execution_count": null,
            "metadata": {
                "vscode": {
                    "languageId": "r"
                }
            },
            "outputs": [],
            "source": [
                "saveRDS(QC_sample, file =paste0(\"./results/rds/samples/Filtered_\",sample,\".rds\"))"
            ]
        }
    ],
    "metadata": {
        "anaconda-cloud": "",
        "kernelspec": {
            "display_name": "R",
            "langauge": "R",
            "name": "ir"
        },
        "language_info": {
            "codemirror_mode": "r",
            "file_extension": ".r",
            "mimetype": "text/x-r-source",
            "name": "R",
            "pygments_lexer": "r",
            "version": "3.4.1"
        }
    },
    "nbformat": 4,
    "nbformat_minor": 1
}
