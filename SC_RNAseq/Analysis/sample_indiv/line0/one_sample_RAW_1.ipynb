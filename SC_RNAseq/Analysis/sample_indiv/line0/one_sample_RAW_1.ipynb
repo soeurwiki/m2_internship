{
    "cells": [
        {
            "cell_type": "markdown",
            "metadata": {},
            "source": [
                "# Environment  \n",
                "## Load required packages  \n"
            ]
        },
        {
            "cell_type": "code",
            "execution_count": null,
            "metadata": {
                "vscode": {
                    "languageId": "r"
                }
            },
            "outputs": [],
            "source": [
                "library(Seurat)\n",
                "library(tidyverse)\n",
                "library(viridis)"
            ]
        },
        {
            "cell_type": "markdown",
            "metadata": {},
            "source": [
                "\n"
            ]
        },
        {
            "cell_type": "code",
            "execution_count": null,
            "metadata": {
                "vscode": {
                    "languageId": "r"
                }
            },
            "outputs": [],
            "source": [
                "sample <- params$sample # sample_condition\n",
                "condition <- str_split_1(sample, '_')[2]"
            ]
        },
        {
            "cell_type": "markdown",
            "metadata": {},
            "source": [
                "## Loading data  \n",
                "*min.cells* : Include features detected in at least this many cells. Will subset the counts matrix as well.  \n",
                "*min.features* : Include cells where at least this many features are detected.  \n"
            ]
        },
        {
            "cell_type": "code",
            "execution_count": null,
            "metadata": {
                "vscode": {
                    "languageId": "r"
                }
            },
            "outputs": [],
            "source": [
                "path <- paste0(\"../../../Processing/samples/\", sample)\n",
                "\n",
                "mtx_obj <- Seurat::ReadMtx(mtx = paste(path,\"/matrix.mtx.gz\",sep = \"\"), \n",
                "                           cells = paste(path,\"/barcodes.tsv.gz\",sep = \"\"),\n",
                "                           features = paste(path,\"/features.tsv.gz\",sep = \"\"))\n",
                "\n",
                "seurat_obj <- CreateSeuratObject(counts = mtx_obj,\n",
                "                                        min.cells = 3, min.features = 200,\n",
                "                                        project = sample)\n",
                "\n",
                "seurat_obj@meta.data$condition <- condition     \n",
                "seurat_obj    "
            ]
        },
        {
            "cell_type": "code",
            "execution_count": null,
            "metadata": {
                "vscode": {
                    "languageId": "r"
                }
            },
            "outputs": [],
            "source": [
                "seurat_obj <- readRDS(file = paste0(\"./results/rds/mtx/mtx_\", sample, \".rds\"))\n",
                "                \n",
                "seurat_obj                  "
            ]
        },
        {
            "cell_type": "markdown",
            "metadata": {},
            "source": [
                "# QC metrics (RAW)\n",
                "**nCount_RNA** : the total number of reads (or more correctly UMIs) in the dataset  \n",
                "**nFeature_RNA** : the number of observed genes (anything with a nonzero count)\n",
                "\n",
                "##  <span style=\"color:#296d98;\"> Parameters </span>  \n"
            ]
        },
        {
            "cell_type": "code",
            "execution_count": null,
            "metadata": {
                "vscode": {
                    "languageId": "r"
                }
            },
            "outputs": [],
            "source": [
                "## nCount\n",
                "x1 = 500\n",
                "## nFeature\n",
                "x2 = 220\n",
                "## Mitochondrion\n",
                "x3 = 15"
            ]
        },
        {
            "cell_type": "markdown",
            "metadata": {},
            "source": [
                "\n",
                "## Nb of reads  \n"
            ]
        },
        {
            "cell_type": "code",
            "execution_count": null,
            "metadata": {
                "vscode": {
                    "languageId": "r"
                }
            },
            "outputs": [],
            "source": [
                "ggplot(seurat_obj[[]]) + \n",
                "   geom_histogram(aes(nCount_RNA, \n",
                "                  color = ifelse(nCount_RNA < x1 , \"a\", \"b\")),\n",
                "                  binwidth = 50) + \n",
                "  scale_color_manual(values = c(\"a\" = \"#558bdc\", \"b\" = \"#173664\")) +\n",
                "  theme_classic()+\n",
                "  ggtitle(\"Distribution of nCount_RNA \") + NoLegend()\n"
            ]
        },
        {
            "cell_type": "markdown",
            "metadata": {},
            "source": [
                "\n",
                "## Nb of genes  \n"
            ]
        },
        {
            "cell_type": "code",
            "execution_count": null,
            "metadata": {
                "vscode": {
                    "languageId": "r"
                }
            },
            "outputs": [],
            "source": [
                "ggplot(seurat_obj[[]]) + \n",
                "   geom_histogram(aes(nFeature_RNA, \n",
                "                  color = ifelse(nFeature_RNA < x2 , \"a\", \"b\")),\n",
                "                  binwidth = 50) + \n",
                "  scale_color_manual(values = c(\"a\" = \"#558bdc\", \"b\" = \"#173664\")) +\n",
                "  ggtitle(\"Distribution of nFeature_RNA \") + NoLegend()"
            ]
        },
        {
            "cell_type": "markdown",
            "metadata": {},
            "source": [
                "Low-quality cells or empty droplets will often have very few genes.  \n",
                "Cell doublets or multiplets may exhibit an aberrantly high gene count.\n",
                "\n",
                "## MT genes  \n",
                "Single cell datasets can be filled with large numbers of reads coming from mitochondria. These often indicate a sick cell undergoing apoptosis.\n",
                "This metric can identify whether there is a large amount of mitochondrial contamination from dead or dying cells. We define poor quality samples for mitochondrial counts as cells which surpass the 20 mitochondrial ratio mark (unless it is expected in the sample).\n"
            ]
        },
        {
            "cell_type": "code",
            "execution_count": null,
            "metadata": {
                "vscode": {
                    "languageId": "r"
                }
            },
            "outputs": [],
            "source": [
                "seurat_obj[[\"percent.mt\"]] <- PercentageFeatureSet(seurat_obj, pattern = \"^MT-\")\n",
                "\n",
                "ggplot(seurat_obj[[]]) + \n",
                "   geom_histogram(aes(percent.mt, \n",
                "                  color = ifelse(percent.mt < x3 , \"a\", \"b\")),\n",
                "                  binwidth = 0.5) + \n",
                "  scale_color_manual(values = c(\"a\" = \"#173664\", \"b\" = \"#558bdc\")) + \n",
                "  scale_x_continuous(breaks=seq(0, 100, by = 15))+\n",
                "  ggtitle(\"Distribution of Percentage Mitochondrion\") + NoLegend()\n"
            ]
        },
        {
            "cell_type": "markdown",
            "metadata": {},
            "source": [
                "## Ribosomal genes  \n",
                "Ribosomal genes also tend to be very highly represented, and can vary between cell types, so it can be instructive to see how prevalent they are in the data. These are ribosomal protein genes rather than the actual rRNA, so they’re more a measure of the translational activity of the cell rather than the cleanliness of the polyA selection.\n"
            ]
        },
        {
            "cell_type": "code",
            "execution_count": null,
            "metadata": {
                "vscode": {
                    "languageId": "r"
                }
            },
            "outputs": [],
            "source": [
                "PercentageFeatureSet(seurat_obj,pattern=\"^RP[LS]\") -> seurat_obj[[\"percent.ribosomal\"]] \n",
                "\n",
                "ggplot(seurat_obj[[]]) + \n",
                "   geom_histogram(aes(percent.ribosomal), \n",
                "                  color = \"#173664\", fill= \"#558bdc\",\n",
                "                  binwidth = 0.5) + \n",
                "  ggtitle(\"Distribution of Percentage Ribosomal\") + NoLegend()\n"
            ]
        },
        {
            "cell_type": "markdown",
            "metadata": {},
            "source": [
                "## Largest gene  \n",
                "what percentage of the data comes from the single most observed gene?\n",
                "\n",
                "Again, having a high proportion of your data dominated by a single gene is a metric which could either give biological context or indicate a technical problem, depending on what the gene is.\n"
            ]
        },
        {
            "cell_type": "code",
            "execution_count": null,
            "metadata": {
                "vscode": {
                    "languageId": "r"
                }
            },
            "outputs": [],
            "source": [
                "apply(\n",
                "  seurat_obj@assays$RNA@counts,\n",
                "  2,\n",
                "  max\n",
                ") -> largest_count\n",
                "\n",
                "apply(\n",
                "  seurat_obj@assays$RNA@counts,\n",
                "  2,\n",
                "  which.max\n",
                ") -> largest_index\n",
                "\n",
                "rownames(seurat_obj)[largest_index] -> seurat_obj$largest_gene\n",
                "100 * largest_count / seurat_obj$nCount_RNA -> seurat_obj$percent.largest_gene\n"
            ]
        },
        {
            "cell_type": "markdown",
            "metadata": {},
            "source": [
                "\n"
            ]
        },
        {
            "cell_type": "code",
            "execution_count": null,
            "metadata": {
                "vscode": {
                    "languageId": "r"
                }
            },
            "outputs": [],
            "source": [
                "ggplot(seurat_obj[[]]) + \n",
                "   geom_histogram(aes(percent.largest_gene), \n",
                "                  color = \"#173664\", fill= \"#558bdc\",\n",
                "                  binwidth = 0.7) + \n",
                "  ggtitle(\"Distribution of Percentage Largest Gene\") + NoLegend()\n"
            ]
        },
        {
            "cell_type": "markdown",
            "metadata": {},
            "source": [
                "\n",
                "## Plots  \n"
            ]
        },
        {
            "cell_type": "code",
            "execution_count": null,
            "metadata": {
                "vscode": {
                    "languageId": "r"
                }
            },
            "outputs": [],
            "source": [
                "VlnPlot(seurat_obj, features=c(\"nFeature_RNA\",\"nCount_RNA\"), ncol = 2, pt.size = 0)\n",
                "VlnPlot(seurat_obj, features=c(\"percent.mt\", \"percent.ribosomal\", \"percent.largest_gene\"), ncol = 3, pt.size = 0)\n",
                "FeatureScatter(seurat_obj, feature1 = \"nCount_RNA\", feature2 = \"percent.mt\")\n",
                "FeatureScatter(seurat_obj,feature1 = \"nCount_RNA\", feature2 = \"percent.largest_gene\")\n"
            ]
        },
        {
            "cell_type": "markdown",
            "metadata": {},
            "source": [
                "\n"
            ]
        },
        {
            "cell_type": "code",
            "execution_count": null,
            "metadata": {
                "vscode": {
                    "languageId": "r"
                }
            },
            "outputs": [],
            "source": [
                "FeatureScatter(seurat_obj, feature1 = \"nCount_RNA\", feature2 = \"nFeature_RNA\") + geom_smooth(method = 'lm')"
            ]
        },
        {
            "cell_type": "markdown",
            "metadata": {},
            "source": [
                "A good datatset should follow the line.\n",
                "\n",
                "# Filtering  \n",
                "## Subset object\n"
            ]
        },
        {
            "cell_type": "code",
            "execution_count": null,
            "metadata": {
                "vscode": {
                    "languageId": "r"
                }
            },
            "outputs": [],
            "source": [
                "as_tibble(\n",
                "  seurat_obj[[]],\n",
                "  rownames=\"Cell.Barcode\"\n",
                ") -> qc.metrics\n",
                "\n",
                "raw_counts <- qc.metrics[, c(\"Cell.Barcode\",\"nCount_RNA\")]\n",
                "head(qc.metrics)"
            ]
        },
        {
            "cell_type": "code",
            "execution_count": null,
            "metadata": {
                "vscode": {
                    "languageId": "r"
                }
            },
            "outputs": [],
            "source": [
                "subset(\n",
                "  seurat_obj,\n",
                "    nCount_RNA> x1 & \n",
                "    nFeature_RNA > x2 & \n",
                "    percent.mt < x3 ) -> seurat_obj\n",
                "\n",
                "seurat_obj\n"
            ]
        },
        {
            "cell_type": "markdown",
            "metadata": {},
            "source": [
                "\n",
                "# Save seurat object (RAW)\n"
            ]
        },
        {
            "cell_type": "code",
            "execution_count": null,
            "metadata": {
                "vscode": {
                    "languageId": "r"
                }
            },
            "outputs": [],
            "source": [
                "## Raw data\n",
                "saveRDS(seurat_obj, file =paste0(\"./results/rds/samples/QC_\",sample,\".rds\"))\n"
            ]
        },
        {
            "cell_type": "markdown",
            "metadata": {},
            "source": [
                "## Doublets  \n",
                "### Pre-process standard workflow  \n"
            ]
        },
        {
            "cell_type": "code",
            "execution_count": null,
            "metadata": {
                "vscode": {
                    "languageId": "r"
                }
            },
            "outputs": [],
            "source": [
                "seurat_obj <- NormalizeData(seurat_obj)\n",
                "seurat_obj <- FindVariableFeatures(seurat_obj)\n",
                "seurat_obj <- ScaleData(seurat_obj)\n",
                "seurat_obj <- RunPCA(seurat_obj)\n",
                "\n",
                "ElbowPlot(seurat_obj)"
            ]
        },
        {
            "cell_type": "markdown",
            "metadata": {},
            "source": [
                "\n",
                "# QC metrics (Mid-filtering)\n"
            ]
        },
        {
            "cell_type": "code",
            "execution_count": null,
            "metadata": {
                "vscode": {
                    "languageId": "r"
                }
            },
            "outputs": [],
            "source": [
                "FeatureScatter(seurat_obj, feature1 = \"nCount_RNA\", feature2 = \"nFeature_RNA\") + geom_smooth(method = 'lm')"
            ]
        },
        {
            "cell_type": "markdown",
            "metadata": {},
            "source": [
                "\n"
            ]
        },
        {
            "cell_type": "code",
            "execution_count": null,
            "metadata": {
                "vscode": {
                    "languageId": "r"
                }
            },
            "outputs": [],
            "source": [
                "as_tibble(\n",
                "  seurat_obj[[]],\n",
                "  rownames=\"Cell.Barcode\"\n",
                ") -> qc.metrics"
            ]
        },
        {
            "cell_type": "markdown",
            "metadata": {},
            "source": [
                "\n",
                "## Nb of reads   \n"
            ]
        },
        {
            "cell_type": "code",
            "execution_count": null,
            "metadata": {
                "vscode": {
                    "languageId": "r"
                }
            },
            "outputs": [],
            "source": [
                "ggplot(qc.metrics) + \n",
                "   geom_histogram(aes(nCount_RNA), \n",
                "                  color = \"#558bdc\", fill= \"#173664\",\n",
                "                  binwidth = 50) + \n",
                "  ggtitle(\"Distribution of nCount_RNA \") + NoLegend()"
            ]
        },
        {
            "cell_type": "code",
            "execution_count": null,
            "metadata": {
                "vscode": {
                    "languageId": "r"
                }
            },
            "outputs": [],
            "source": [
                "raw_counts$filtered <- NA\n",
                "raw_counts[rownames(qc.metrics),\"filtered\"] <- qc.metrics[,\"nCount_RNA\"]\n",
                "epsilon <- 1 # pseudo-count to avoid problems with log(0)\n",
                "boxplot(log2(raw_counts[,c(\"filtered\",\"nCount_RNA\")] + epsilon), pch=\".\", \n",
                "        horizontal=TRUE, cex.axis=0.5,\n",
                "        las=1, main=\"Raw counts (before & after filtering)\", xlab=\"log2(Counts +1)\", col=viridis(5, alpha=0.6, direction = 1))"
            ]
        },
        {
            "cell_type": "markdown",
            "metadata": {},
            "source": [
                "\n",
                "## Nb of genes  \n"
            ]
        },
        {
            "cell_type": "code",
            "execution_count": null,
            "metadata": {
                "vscode": {
                    "languageId": "r"
                }
            },
            "outputs": [],
            "source": [
                "ggplot(qc.metrics) + \n",
                "   geom_histogram(aes(nFeature_RNA), \n",
                "                  color = \"#558bdc\", fill= \"#173664\",\n",
                "                  binwidth = 50) + \n",
                "  ggtitle(\"Distribution of nFeature_RNA \") + NoLegend()"
            ]
        },
        {
            "cell_type": "markdown",
            "metadata": {},
            "source": [
                "## MT genes  \n"
            ]
        },
        {
            "cell_type": "code",
            "execution_count": null,
            "metadata": {
                "vscode": {
                    "languageId": "r"
                }
            },
            "outputs": [],
            "source": [
                "ggplot(qc.metrics) + \n",
                "   geom_histogram(aes(percent.mt), \n",
                "                  color = \"#558bdc\", fill= \"#173664\",\n",
                "                  binwidth = 0.5) +\n",
                "   scale_x_continuous(breaks=seq(0, 100, by = 15))+\n",
                "  ggtitle(\"Distribution of Percentage Mitochondrion\") + NoLegend()"
            ]
        },
        {
            "cell_type": "markdown",
            "metadata": {},
            "source": [
                "\n",
                "## Ribosomal genes  \n"
            ]
        },
        {
            "cell_type": "code",
            "execution_count": null,
            "metadata": {
                "vscode": {
                    "languageId": "r"
                }
            },
            "outputs": [],
            "source": [
                "ggplot(qc.metrics) + \n",
                "   geom_histogram(aes(percent.ribosomal), \n",
                "                  color = \"#558bdc\", fill= \"#173664\",\n",
                "                  binwidth = 0.5) + \n",
                "  ggtitle(\"Distribution of Percentage Ribosomal\") + NoLegend()"
            ]
        },
        {
            "cell_type": "markdown",
            "metadata": {},
            "source": [
                "\n",
                "## Largest gene  \n"
            ]
        },
        {
            "cell_type": "code",
            "execution_count": null,
            "metadata": {
                "vscode": {
                    "languageId": "r"
                }
            },
            "outputs": [],
            "source": [
                "ggplot(qc.metrics) + \n",
                "   geom_histogram(aes(percent.largest_gene), \n",
                "                  color = \"#558bdc\", fill= \"#173664\",\n",
                "                  binwidth = 0.7) + \n",
                "  ggtitle(\"Distribution of Percentage Largest Gene\") + NoLegend()"
            ]
        },
        {
            "cell_type": "markdown",
            "metadata": {},
            "source": [
                " \n",
                "# Save seurat object\n"
            ]
        },
        {
            "cell_type": "code",
            "execution_count": null,
            "metadata": {
                "vscode": {
                    "languageId": "r"
                }
            },
            "outputs": [],
            "source": [
                "## Norm data\n",
                "saveRDS(seurat_obj, file =paste0(\"./results/rds/samples/Doublet_\",sample,\".rds\"))"
            ]
        }
    ],
    "metadata": {
        "anaconda-cloud": "",
        "kernelspec": {
            "display_name": "R",
            "langauge": "R",
            "name": "ir"
        },
        "language_info": {
            "codemirror_mode": "r",
            "file_extension": ".r",
            "mimetype": "text/x-r-source",
            "name": "R",
            "pygments_lexer": "r",
            "version": "3.4.1"
        }
    },
    "nbformat": 4,
    "nbformat_minor": 1
}
