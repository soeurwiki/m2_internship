{
    "cells": [
        {
            "cell_type": "markdown",
            "metadata": {},
            "source": [
                "# Seurat object  \n",
                "## Load required packages\n"
            ]
        },
        {
            "cell_type": "code",
            "execution_count": null,
            "metadata": {},
            "outputs": [],
            "source": [
                "library(Seurat)\n",
                "library(tidyverse)\n",
                "library(ggplot2)\n"
            ]
        },
        {
            "cell_type": "markdown",
            "metadata": {},
            "source": [
                "\n",
                "## Load seurat object (NORM)\n"
            ]
        },
        {
            "cell_type": "code",
            "execution_count": null,
            "metadata": {},
            "outputs": [],
            "source": [
                "line <- params$line\n",
                "\n"
            ]
        },
        {
            "cell_type": "markdown",
            "metadata": {},
            "source": "\n"
        },
        {
            "cell_type": "code",
            "execution_count": null,
            "metadata": {},
            "outputs": [],
            "source": [
                "seurat_obj <- readRDS(file = paste0(\"./results/rds/samples/\", line, \"_FindNeighbors.rds\"))\n",
                "\n",
                "seurat_obj\n",
                "table(seurat_obj$orig.ident)\n"
            ]
        },
        {
            "cell_type": "markdown",
            "metadata": {},
            "source": [
                "\n",
                "## <span style=\"color:#296d98;\"> Parameters <\/span>  \n"
            ]
        },
        {
            "cell_type": "code",
            "execution_count": null,
            "metadata": {},
            "outputs": [],
            "source": [
                "res = as.double(params$res)\n",
                "res\n"
            ]
        },
        {
            "cell_type": "markdown",
            "metadata": {},
            "source": [
                "# Defining cell clusters  \n",
                "## Optimize resolution  \n"
            ]
        },
        {
            "cell_type": "code",
            "execution_count": null,
            "metadata": {},
            "outputs": [],
            "source": [
                "seurat_obj <- FindClusters(seurat_obj, resolution = res)\n",
                "levels(seurat_obj$seurat_clusters)\n"
            ]
        },
        {
            "cell_type": "markdown",
            "metadata": {},
            "source": [
                "\n",
                "## Plot clusters\n"
            ]
        },
        {
            "cell_type": "code",
            "execution_count": null,
            "metadata": {},
            "outputs": [],
            "source": [
                "DimPlot(seurat_obj, reduction = \"pca\", label = TRUE, group.by = \"seurat_clusters\") + ggtitle(\"PC1 vs PC2 with Clusters\")\n",
                "\n"
            ]
        },
        {
            "cell_type": "markdown",
            "metadata": {},
            "source": "\n"
        },
        {
            "cell_type": "code",
            "execution_count": null,
            "metadata": {},
            "outputs": [],
            "source": [
                "DimPlot(seurat_obj, reduction = \"umap\", group.by = \"seurat_clusters\")\n",
                "DimPlot(seurat_obj, reduction = \"umap\", group.by = \"seurat_clusters\", label.size = 4, label = TRUE)+ NoLegend()\n"
            ]
        },
        {
            "cell_type": "markdown",
            "metadata": {},
            "source": "\n"
        },
        {
            "cell_type": "code",
            "execution_count": null,
            "metadata": {},
            "outputs": [],
            "source": [
                "DimPlot(seurat_obj, reduction = \"tsne\", group.by = \"seurat_clusters\")\n",
                "DimPlot(seurat_obj, reduction = \"tsne\", group.by = \"seurat_clusters\", label.size = 4, label = TRUE)+ NoLegend()\n"
            ]
        },
        {
            "cell_type": "markdown",
            "metadata": {},
            "source": [
                "\n",
                "### Split by condition\n"
            ]
        },
        {
            "cell_type": "code",
            "execution_count": null,
            "metadata": {},
            "outputs": [],
            "source": [
                "DimPlot(seurat_obj, reduction = \"umap\", group.by=\"seurat_clusters\", split.by = \"condition\")\n",
                "DimPlot(seurat_obj, reduction = \"umap\", group.by = \"seurat_clusters\", split.by = \"condition\", label.size = 4, label = TRUE)+ NoLegend()\n",
                "DimPlot(seurat_obj, reduction = \"umap\", group.by=\"seurat_clusters\", split.by = \"condition\")+ NoLegend()\n"
            ]
        },
        {
            "cell_type": "markdown",
            "metadata": {},
            "source": "\n"
        },
        {
            "cell_type": "code",
            "execution_count": null,
            "metadata": {},
            "outputs": [],
            "source": [
                "DimPlot(seurat_obj, reduction = \"tsne\", group.by=\"seurat_clusters\", split.by = \"condition\")\n",
                "DimPlot(seurat_obj, reduction = \"tsne\", group.by = \"seurat_clusters\", split.by = \"condition\", label.size = 4, label = TRUE)+ NoLegend()\n",
                "DimPlot(seurat_obj, reduction = \"tsne\", group.by=\"seurat_clusters\", split.by = \"condition\")+ NoLegend()\n"
            ]
        },
        {
            "cell_type": "markdown",
            "metadata": {},
            "source": [
                "## QC metrics  \n",
                "Now that we have our clusters, we can look to see if they are being influenced by any of the QC metrics.  \n",
                "\n",
                "### Nb of reads  \n"
            ]
        },
        {
            "cell_type": "code",
            "execution_count": null,
            "metadata": {},
            "outputs": [],
            "source": [
                "VlnPlot(seurat_obj, features=\"nCount_RNA\", group.by = \"seurat_clusters\", pt.size = 0)\n",
                "RidgePlot(seurat_obj, features = \"nCount_RNA\", group.by = \"seurat_clusters\")\n"
            ]
        },
        {
            "cell_type": "markdown",
            "metadata": {},
            "source": [
                "\n",
                "### Nb of genes    \n"
            ]
        },
        {
            "cell_type": "code",
            "execution_count": null,
            "metadata": {},
            "outputs": [],
            "source": [
                "VlnPlot(seurat_obj, features=\"nFeature_RNA\", group.by = \"seurat_clusters\", pt.size = 0)\n",
                "RidgePlot(seurat_obj, features = \"nFeature_RNA\", group.by = \"seurat_clusters\")\n"
            ]
        },
        {
            "cell_type": "markdown",
            "metadata": {},
            "source": [
                "\n",
                "### MT genes  \n"
            ]
        },
        {
            "cell_type": "code",
            "execution_count": null,
            "metadata": {},
            "outputs": [],
            "source": [
                "VlnPlot(seurat_obj, features = \"percent.mt\", group.by = \"seurat_clusters\", pt.size = 0)\n",
                "RidgePlot(seurat_obj, features = \"percent.mt\", group.by = \"seurat_clusters\")\n"
            ]
        },
        {
            "cell_type": "markdown",
            "metadata": {},
            "source": [
                "\n",
                "### Ribosomal genes  \n"
            ]
        },
        {
            "cell_type": "code",
            "execution_count": null,
            "metadata": {},
            "outputs": [],
            "source": [
                "VlnPlot(seurat_obj, features = \"percent.ribosomal\", group.by = \"seurat_clusters\", pt.size = 0)\n",
                "RidgePlot(seurat_obj, features = \"percent.ribosomal\", group.by = \"seurat_clusters\")\n"
            ]
        },
        {
            "cell_type": "markdown",
            "metadata": {},
            "source": [
                "\n",
                "### Largest gene  \n"
            ]
        },
        {
            "cell_type": "code",
            "execution_count": null,
            "metadata": {},
            "outputs": [],
            "source": [
                "VlnPlot(seurat_obj, features = \"percent.largest_gene\", group.by = \"seurat_clusters\", pt.size = 0)\n",
                "RidgePlot(seurat_obj, features = \"percent.largest_gene\", group.by = \"seurat_clusters\")\n"
            ]
        },
        {
            "cell_type": "markdown",
            "metadata": {},
            "source": "\n"
        },
        {
            "cell_type": "code",
            "execution_count": null,
            "metadata": {},
            "outputs": [],
            "source": [
                "# which largest gene\n",
                "seurat_obj[[]] %>%\n",
                "  group_by(seurat_clusters, largest_gene) %>%\n",
                "  count() %>%\n",
                "  arrange(desc(n)) %>%\n",
                "  group_by(seurat_clusters) %>%\n",
                "  slice(1:2) %>%\n",
                "  ungroup() %>%\n",
                "  arrange(seurat_clusters, desc(n))\n"
            ]
        },
        {
            "cell_type": "markdown",
            "metadata": {},
            "source": [
                "\n",
                "### Cell cycle  \n"
            ]
        },
        {
            "cell_type": "code",
            "execution_count": null,
            "metadata": {},
            "outputs": [],
            "source": [
                "seurat_obj@meta.data %>%\n",
                "  group_by(seurat_clusters,Phase) %>%\n",
                "  count() %>%\n",
                "  group_by(seurat_clusters) %>%\n",
                "  mutate(percent=100*n/sum(n)) %>%\n",
                "  ungroup() %>%\n",
                "  ggplot(aes(x=seurat_clusters,y=percent, fill=Phase)) +\n",
                "  scale_fill_manual( values=c(G1='azure4',G2M='dodgerblue',S='tomato3' )) +\n",
                "  geom_col() +\n",
                "  ggtitle(\"Percentage of cell cycle phases per sample\")\n"
            ]
        },
        {
            "cell_type": "markdown",
            "metadata": {},
            "source": "\n"
        },
        {
            "cell_type": "code",
            "execution_count": null,
            "metadata": {},
            "outputs": [],
            "source": [
                "tibble(\n",
                "  cluster = seurat_obj$seurat_clusters,\n",
                "  Phase = seurat_obj$Phase,\n",
                ") %>%\n",
                "  group_by(cluster,Phase) %>%\n",
                "  count() %>%\n",
                "  group_by(cluster) %>%\n",
                "  mutate(\n",
                "    percent=(100*n)/sum(n)\n",
                "  ) %>%\n",
                "  ungroup() %>%\n",
                "  mutate(\n",
                "    cluster=paste(\"Cluster\",cluster)\n",
                "  ) %>%\n",
                "  ggplot(aes(x=\"\",y=percent, fill=Phase)) +\n",
                "  scale_fill_manual( values=c(G1='azure4',G2M='dodgerblue',S='tomato3' )) +\n",
                "  geom_col(width=1) +\n",
                "  coord_polar(\"y\", start=0) +\n",
                "  facet_wrap(vars(cluster)) +  \n",
                "  theme(axis.text.x=element_blank()) +\n",
                "  xlab(NULL) +\n",
                "  ylab(NULL)\n"
            ]
        },
        {
            "cell_type": "markdown",
            "metadata": {},
            "source": [
                "\n",
                "### Orig ident\n"
            ]
        },
        {
            "cell_type": "code",
            "execution_count": null,
            "metadata": {},
            "outputs": [],
            "source": [
                "tibble(\n",
                "  cluster = seurat_obj$seurat_clusters,\n",
                "  orig = seurat_obj$orig.ident,\n",
                ") %>%\n",
                "  group_by(cluster,orig) %>%\n",
                "  count() %>%\n",
                "  group_by(cluster) %>%\n",
                "  mutate(\n",
                "    percent=(100*n)/sum(n)\n",
                "  ) %>%\n",
                "  ungroup() %>%\n",
                "  mutate(\n",
                "    cluster=paste(\"Cluster\",cluster)\n",
                "  ) %>%\n",
                "  ggplot(aes(x=\"\",y=percent, fill=orig)) +\n",
                "  geom_col(width=1) +\n",
                "  coord_polar(\"y\", start=0) +\n",
                "  facet_wrap(vars(cluster)) +  \n",
                "  theme(axis.text.x=element_blank()) +\n",
                "  xlab(NULL) +\n",
                "  ylab(NULL)\n"
            ]
        },
        {
            "cell_type": "markdown",
            "metadata": {},
            "source": [
                "# Finding markers for each cluster  \n",
                "Identify genes whose expression defines each cluster which has been identified.\n",
                "\n",
                "* **The Wilcox rank sum test**: This identifies genes which are differentially regulated between two groups of cells. It is a non-parametric test which makes very few assumptions about the behaviour of the data and just looks for genes which have expression which is consistently ranked more highly in one group of cells compared to another.  \n",
                "\n",
                "* **The ROC test**: This is a measure of how specifically a gene can predict membership of two groups. It gives a value between 0.5 (no predictive value) and 1 (perfectly predictive on its own) to say how useful each gene is at predicting. Again this is a non-parametric test which just cares about the ranked expression measures for each gene.\n",
                "\n",
                "\n",
                "## Biomarkers  \n",
                "\n",
                "As we are working on cells from 2 different conditions (*prolif* or *diff*), we won't use `FindAllMarkers()` but `FindConservedMarkers()`.   \n",
                "It will separate the cells between *prolif* and *diff* conditions and then find DE genes betweeen clusters. Hence we won't have markers genes kept because of the difference in conditions but due to the difference in clusters.\n",
                "\n",
                "### Clusters markers  \n",
                "`PrepSCTFindMarkers()` ensures that the fixed value is set properly before DE analysis.\n",
                "*(use this function for a merged object with multiple SCT models)*\n"
            ]
        },
        {
            "cell_type": "code",
            "execution_count": null,
            "metadata": {},
            "outputs": [],
            "source": [
                "seurat_obj <- PrepSCTFindMarkers(seurat_obj)\n",
                "\n",
                "lapply(\n",
                "  levels(seurat_obj$seurat_clusters),\n",
                "  function(x)FindConservedMarkers(seurat_obj, assay = \"SCT\", ident.1 = x, grouping.var='condition', verbose=FALSE)\n",
                ") -> cluster.markers\n",
                "\n",
                "# This adds the cluster number to the results of FindConservedMarkers\n",
                "sapply(0:(length(cluster.markers)-1),function(x) {\n",
                "  cluster.markers[[x+1]]$gene <<- rownames(cluster.markers[[x+1]])\n",
                "  cluster.markers[[x+1]]$cluster <<- x\n",
                "})\n"
            ]
        },
        {
            "cell_type": "markdown",
            "metadata": {},
            "source": [
                "\n",
                "* `DoHeatmap` generates an expression heatmap for given cells and features. In this case, we are plotting the top 20 markers (or all markers if less than 20) for each cluster.   \n"
            ]
        },
        {
            "cell_type": "code",
            "execution_count": null,
            "metadata": {},
            "outputs": [],
            "source": [
                "cluster.markers <- do.call(rbind.data.frame, cluster.markers)\n",
                "dim(cluster.markers)\n"
            ]
        },
        {
            "cell_type": "markdown",
            "metadata": {},
            "source": "\n"
        },
        {
            "cell_type": "code",
            "execution_count": null,
            "metadata": {},
            "outputs": [],
            "source": [
                "prolif <- cluster.markers[which( cluster.markers$diff_p_val == cluster.markers$max_pval), ]\n",
                "diff <- cluster.markers[which( cluster.markers$prolif_p_val == cluster.markers$max_pval), ]\n",
                "dim(prolif)\n",
                "dim(diff)\n"
            ]
        },
        {
            "cell_type": "markdown",
            "metadata": {},
            "source": "\n"
        },
        {
            "cell_type": "code",
            "execution_count": null,
            "metadata": {},
            "outputs": [],
            "source": [
                "prolif <- prolif[, c('prolif_p_val', 'prolif_avg_log2FC', 'prolif_p_val_adj', 'gene', 'cluster' )]\n",
                "head(prolif)\n"
            ]
        },
        {
            "cell_type": "markdown",
            "metadata": {},
            "source": "\n"
        },
        {
            "cell_type": "code",
            "execution_count": null,
            "metadata": {},
            "outputs": [],
            "source": [
                "diff <- diff[, c('diff_p_val', 'diff_avg_log2FC', 'diff_p_val_adj', 'gene', 'cluster' )]\n",
                "head(diff)\n"
            ]
        },
        {
            "cell_type": "markdown",
            "metadata": {},
            "source": "\n"
        },
        {
            "cell_type": "code",
            "execution_count": null,
            "metadata": {},
            "outputs": [],
            "source": [
                "diff_markers <- diff[order(diff$diff_p_val_adj, decreasing = FALSE),]\n",
                "prolif_markers <- prolif[order(prolif$prolif_p_val_adj, decreasing = FALSE),]\n"
            ]
        },
        {
            "cell_type": "markdown",
            "metadata": {},
            "source": "\n"
        },
        {
            "cell_type": "code",
            "execution_count": null,
            "metadata": {},
            "outputs": [],
            "source": [
                "diff_markers %>%\n",
                "    group_by(cluster) %>%\n",
                "    top_n(n = 10, wt = diff_avg_log2FC) -> top10\n",
                "DoHeatmap(metabo_obj, features = top10$gene) + NoLegend()\n",
                "\n",
                "prolif_markers %>%\n",
                "    group_by(cluster) %>%\n",
                "    top_n(n = 10, wt = prolif_avg_log2FC) -> top10\n",
                "DoHeatmap(metabo_obj, features = top10$gene) + NoLegend()\n"
            ]
        },
        {
            "cell_type": "markdown",
            "metadata": {},
            "source": [
                "\n",
                "### Save markers lists\n"
            ]
        },
        {
            "cell_type": "code",
            "execution_count": null,
            "metadata": {},
            "outputs": [],
            "source": [
                "saveRDS(cluster.markers, file = paste0( \"./results/html/\",line, \"/\", line, \"_cluster.markers.rds\"))\n",
                "\n"
            ]
        },
        {
            "cell_type": "markdown",
            "metadata": {},
            "source": [
                "\n",
                "# Save seurat object  \n"
            ]
        },
        {
            "cell_type": "code",
            "execution_count": null,
            "metadata": {},
            "outputs": [],
            "source": [
                "saveRDS(seurat_obj, file = paste0(\"./results/rds/samples/\", line, \"_Markers.rds\"))\n",
                "\n"
            ]
        }
    ],
    "metadata": {
        "anaconda-cloud": "",
        "kernelspec": {
            "display_name": "R",
            "langauge": "R",
            "name": "ir"
        },
        "language_info": {
            "codemirror_mode": "r",
            "file_extension": ".r",
            "mimetype": "text/x-r-source",
            "name": "R",
            "pygments_lexer": "r",
            "version": "3.4.1"
        }
    },
    "nbformat": 4,
    "nbformat_minor": 1
}
