{
    "cells": [
        {
            "cell_type": "markdown",
            "metadata": {},
            "source": [
                "# Seurat object  \n",
                "## Load required packages\n"
            ]
        },
        {
            "cell_type": "code",
            "execution_count": null,
            "metadata": {},
            "outputs": [],
            "source": [
                "library(Seurat)\n",
                "library(tidyverse)\n",
                "library(ggplot2)\n",
                "library('enrichR')\n",
                "\n",
                "## annotation\n",
                "library(\"SCINA\")\n",
                "\n",
                "library(\"viridis\")\n"
            ]
        },
        {
            "cell_type": "markdown",
            "metadata": {},
            "source": [
                "\n",
                "## Load seurat object (NORM)\n"
            ]
        },
        {
            "cell_type": "code",
            "execution_count": null,
            "metadata": {},
            "outputs": [],
            "source": [
                "line <- params$line\n",
                "\n"
            ]
        },
        {
            "cell_type": "markdown",
            "metadata": {},
            "source": "\n"
        },
        {
            "cell_type": "code",
            "execution_count": null,
            "metadata": {},
            "outputs": [],
            "source": [
                "seurat_obj <- readRDS(file = paste0('./results/rds/samples/', line, '_Mca.rds'))\n",
                "\n",
                "seurat_obj\n",
                "table(seurat_obj$orig.ident)\n"
            ]
        },
        {
            "cell_type": "markdown",
            "metadata": {},
            "source": [
                "\n",
                "##  <span style=\"color:#296d98;\"> Parameters <\/span>  \n"
            ]
        },
        {
            "cell_type": "code",
            "execution_count": null,
            "metadata": {},
            "outputs": [],
            "source": [
                "enrichR_db = \"KEGG_2021_Human\"\n",
                "nb_maxgenes = 200\n",
                "pc = 50\n"
            ]
        },
        {
            "cell_type": "markdown",
            "metadata": {},
            "source": [
                "\n",
                "# Automated Cell type Annotation  \n"
            ]
        },
        {
            "cell_type": "code",
            "execution_count": null,
            "metadata": {},
            "outputs": [],
            "source": [
                "as.data.frame(seurat_obj@assays$SCT[,]) -> scina.data\n",
                "\n"
            ]
        },
        {
            "cell_type": "markdown",
            "metadata": {},
            "source": [
                "\n",
                "## Oligo/Astro  \n"
            ]
        },
        {
            "cell_type": "code",
            "execution_count": null,
            "metadata": {},
            "outputs": [],
            "source": [
                "## Some markers of oligo/astro cells\n",
                "mature_oligo <- c(\"SOX8\", \"SOX11\", \"CLDN11\",\"MBP\",\"SOX10\",\"SOX4\",\"MOG\",\"MYT1\", \"CNP\", \"PLP1\", \"OLIG1\", \"OLIG2\", \"NKX2-2\", \"ERBB3\", \"UGT8\", \"SOX17\", \"GPR17\", \"TNR\")\n",
                "oligo_progenitors  <- c(\"PDGFRA\", \"CSPG4\")\n",
                "astro <- c(\"SLC1A3\", \"NFIA\",\"SOX9\",\"GFAP\",\"APOE\", \"AQP4\",\"ALDH1L1\", \"FABP7\", \"TNC\")\n",
                "\n",
                "markers_astro_oligo <- list(\"astro\"=astro, \"mature_oligo\"=mature_oligo, \"oligo_progenitors\"=oligo_progenitors)\n"
            ]
        },
        {
            "cell_type": "markdown",
            "metadata": {},
            "source": "\n"
        },
        {
            "cell_type": "code",
            "execution_count": null,
            "metadata": {},
            "outputs": [],
            "source": [
                "SCINA(\n",
                "  scina.data,\n",
                "  markers_astro_oligo, \n",
                "  max_iter = 100, \n",
                "  convergence_n = 10, \n",
                "  convergence_rate = 0.999, \n",
                "  sensitivity_cutoff = 0.9, \n",
                "  rm_overlap=TRUE, \n",
                "  allow_unknown=TRUE\n",
                ") -> scina.results\n",
                "\n",
                "seurat_obj$scina_labels <- scina.results$cell_labels\n"
            ]
        },
        {
            "cell_type": "markdown",
            "metadata": {},
            "source": "\n"
        },
        {
            "cell_type": "code",
            "execution_count": null,
            "metadata": {},
            "outputs": [],
            "source": [
                "colors <- c(astro='seagreen4', oligo_progenitors = \"#297fb8\" ,mature_oligo='orangered3', unknown=\"lightgray\")\n",
                "\n",
                "DimPlot(seurat_obj,reduction = \"umap\",  group.by = \"scina_labels\", cols = colors)\n",
                "DimPlot(seurat_obj,reduction = \"tsne\",  group.by = \"scina_labels\", cols = colors)\n"
            ]
        },
        {
            "cell_type": "markdown",
            "metadata": {},
            "source": [
                "## Panglao database  \n",
                "### MCA\n"
            ]
        },
        {
            "cell_type": "code",
            "execution_count": null,
            "metadata": {},
            "outputs": [],
            "source": [
                "seurat_obj <- RunMCA(seurat_obj)\n",
                "\n"
            ]
        },
        {
            "cell_type": "markdown",
            "metadata": {},
            "source": [
                "\n",
                "\n"
            ]
        },
        {
            "cell_type": "code",
            "execution_count": null,
            "metadata": {},
            "outputs": [],
            "source": [
                "DimPlotMC(seurat_obj, reduction = \"mca\", group.by = 'orig.ident', features = c(\"APOE\"), as.text = T)\n",
                "\n"
            ]
        },
        {
            "cell_type": "markdown",
            "metadata": {},
            "source": [
                "\n",
                "### Obtaining brain cell-type gene signatures  \n"
            ]
        },
        {
            "cell_type": "code",
            "execution_count": null,
            "metadata": {},
            "outputs": [],
            "source": [
                "# download all cell-type gene signatures from panglaoDB\n",
                "panglao <- read_tsv(\"https://panglaodb.se/markers/PanglaoDB_markers_27_Mar_2020.tsv.gz\")\n",
                "\n",
                "# restricting the analysis to brain specific gene signatues\n",
                "panglao_brain <- panglao %>% filter(organ == \"Brain\")\n",
                "  ##             panglao %>%  filter(str_detect(species,\"Hs\"))\n",
                "  ## To obtain gene signatures for all genes\n",
                "\n",
                "# restricting to human specific genes\n",
                "panglao_brain <- panglao_brain %>%  filter(str_detect(species,\"Hs\"))\n",
                "\n",
                "# converting dataframes into a list of vectors, which is the format needed as input for CellID\n",
                "panglao_brain <- panglao_brain %>%  \n",
                "  group_by(`cell type`) %>%  \n",
                "  summarise(geneset = list(`official gene symbol`))\n",
                "\n",
                "brain_signatures <- setNames(panglao_brain$geneset, panglao_brain$`cell type`)\n"
            ]
        },
        {
            "cell_type": "markdown",
            "metadata": {},
            "source": [
                "\n",
                "### Per-cell gene signature enrichments  \n"
            ]
        },
        {
            "cell_type": "code",
            "execution_count": null,
            "metadata": {},
            "outputs": [],
            "source": [
                "# Performing per-cell hypergeometric tests against the gene signature collection\n",
                "HGT_brain_signatures <- RunCellHGT(seurat_obj, pathways = brain_signatures, dims = 1:pc, n.features = nb_maxgenes)\n"
            ]
        },
        {
            "cell_type": "markdown",
            "metadata": {},
            "source": [
                "\n",
                "\n"
            ]
        },
        {
            "cell_type": "code",
            "execution_count": null,
            "metadata": {},
            "outputs": [],
            "source": [
                "HGT_brain_signatures <- readRDS( file= paste0('./results/rds/samples/', line, '_HGT_brain_signatures.rds'))\n",
                "\n"
            ]
        },
        {
            "cell_type": "markdown",
            "metadata": {},
            "source": "\n"
        },
        {
            "cell_type": "code",
            "execution_count": null,
            "metadata": {},
            "outputs": [],
            "source": [
                "# For each cell, assess the signature with the lowest corrected p-value (max -log10 corrected p-value)\n",
                "brain_signatures_prediction <- rownames(HGT_brain_signatures)[apply(HGT_brain_signatures, 2, which.max)]\n",
                "\n",
                "# For each cell, evaluate if the lowest p-value is significant\n",
                "brain_signatures_prediction_signif <- ifelse(apply(HGT_brain_signatures, 2, max)>2, yes = brain_signatures_prediction, \"unassigned\")\n",
                "\n",
                "# Save cell type predictions as metadata within the Seurat object\n",
                "seurat_obj$brain_signatures_prediction <- brain_signatures_prediction_signif\n"
            ]
        },
        {
            "cell_type": "markdown",
            "metadata": {},
            "source": [
                "\n",
                "### Plots\n"
            ]
        },
        {
            "cell_type": "code",
            "execution_count": null,
            "metadata": {},
            "outputs": [],
            "source": [
                "nb <- length(unique(seurat_obj$brain_signatures_prediction))\n",
                "\n",
                "DimPlot(seurat_obj, reduction = \"umap\", group.by = \"brain_signatures_prediction\", cols= c(viridis(nb-1),\"gray\")) + NoLegend()\n",
                "\n",
                "## see the legend\n",
                "DimPlot(seurat_obj, reduction = \"umap\", group.by = \"brain_signatures_prediction\", label.size = 4, label = TRUE, cols= c(viridis(nb-1),\"gray\")) + NoLegend()\n",
                "DimPlot(seurat_obj, reduction = \"umap\",  group.by = \"brain_signatures_prediction\", cols= c(viridis(nb-1),\"gray\"))\n"
            ]
        },
        {
            "cell_type": "markdown",
            "metadata": {},
            "source": "\n"
        },
        {
            "cell_type": "code",
            "execution_count": null,
            "metadata": {},
            "outputs": [],
            "source": [
                "DimPlot(seurat_obj, reduction = \"tsne\", group.by = \"brain_signatures_prediction\", cols= c(viridis(nb-1),\"gray\")) + NoLegend()\n",
                "\n",
                "## see the legend\n",
                "DimPlot(seurat_obj, reduction = \"tsne\", group.by = \"brain_signatures_prediction\", label.size = 4, label = TRUE, cols= c(viridis(nb-1),\"gray\")) + NoLegend()\n",
                "DimPlot(seurat_obj, reduction = \"tsne\",  group.by = \"brain_signatures_prediction\", cols= c(viridis(nb-1),\"gray\"))\n"
            ]
        },
        {
            "cell_type": "markdown",
            "metadata": {},
            "source": [
                "\n",
                "#### Percentage\n"
            ]
        },
        {
            "cell_type": "code",
            "execution_count": null,
            "metadata": {},
            "outputs": [],
            "source": [
                "tibble(\n",
                "  cluster = seurat_obj$seurat_clusters,\n",
                "  cell_type = seurat_obj$brain_signatures_prediction\n",
                ") %>%\n",
                "  group_by(cluster,cell_type) %>%\n",
                "  count() %>%\n",
                "  group_by(cluster) %>%\n",
                "  mutate(\n",
                "    percent=(100*n)/sum(n)\n",
                "  ) %>%\n",
                "  ungroup() %>%\n",
                "  mutate(\n",
                "    cluster=paste(\"Cluster\",cluster)\n",
                "  ) %>%\n",
                "  ggplot(aes(x=\"\",y=percent, fill=cell_type)) +\n",
                "  scale_fill_manual(values=c(viridis(nb-1),\"gray\"))+\n",
                "  geom_col(width=1) +\n",
                "  coord_polar(\"y\", start=0) +\n",
                "  facet_wrap(vars(cluster)) +  \n",
                "  theme(axis.text.x=element_blank()) +\n",
                "  xlab(NULL) +\n",
                "  ylab(NULL) +\n",
                "  NoLegend()\n"
            ]
        },
        {
            "cell_type": "markdown",
            "metadata": {},
            "source": "\n"
        },
        {
            "cell_type": "code",
            "execution_count": null,
            "metadata": {},
            "outputs": [],
            "source": [
                "tibble(\n",
                "  cluster = seurat_obj$seurat_clusters,\n",
                "  cell_type = seurat_obj$brain_signatures_prediction\n",
                ") %>%\n",
                "  group_by(cluster,cell_type) %>%\n",
                "  count() %>%\n",
                "  group_by(cluster) %>%\n",
                "  mutate(\n",
                "    percent=(100*n)/sum(n)\n",
                "  ) %>%\n",
                "  ungroup() %>%\n",
                "  mutate(\n",
                "    cluster=paste(\"Cluster\",cluster)\n",
                "  ) %>%\n",
                "  ggplot(aes(x=\"\",y=percent, fill=cell_type)) +\n",
                "  scale_fill_manual(values=c(viridis(nb-1),\"gray\"))+\n",
                "  geom_col(width=1) +\n",
                "  coord_polar(\"y\", start=0) +\n",
                "  facet_wrap(vars(cluster)) +  \n",
                "  theme(axis.text.x=element_blank()) +\n",
                "  xlab(NULL) +\n",
                "  ylab(NULL) \n"
            ]
        },
        {
            "cell_type": "markdown",
            "metadata": {},
            "source": [
                "\n",
                "#### Split by condition\n"
            ]
        },
        {
            "cell_type": "code",
            "execution_count": null,
            "metadata": {},
            "outputs": [],
            "source": [
                "DimPlot(seurat_obj, reduction = \"umap\", group.by = \"brain_signatures_prediction\", split.by = \"condition\", cols= c(viridis(nb-1),\"gray\"))+ NoLegend()\n",
                "\n",
                "DimPlot(seurat_obj, reduction = \"umap\", group.by = \"brain_signatures_prediction\", split.by = \"condition\", label.size = 4, label = TRUE, cols= c(viridis(nb-1),\"gray\"))+ NoLegend()\n",
                "\n",
                "DimPlot(seurat_obj, reduction = \"umap\", group.by=\"brain_signatures_prediction\", split.by = \"condition\", cols= c(viridis(nb-1),\"gray\"))+ NoLegend()\n"
            ]
        },
        {
            "cell_type": "markdown",
            "metadata": {},
            "source": "\n"
        },
        {
            "cell_type": "code",
            "execution_count": null,
            "metadata": {},
            "outputs": [],
            "source": [
                "DimPlot(seurat_obj, reduction = \"tsne\", group.by = \"brain_signatures_prediction\", split.by = \"condition\", cols= c(viridis(nb-1),\"gray\"))+ NoLegend()\n",
                "\n",
                "DimPlot(seurat_obj, reduction = \"tsne\", group.by = \"brain_signatures_prediction\", split.by = \"condition\", label.size = 4, label = TRUE, cols= c(viridis(nb-1),\"gray\"))+ NoLegend()\n",
                "\n",
                "DimPlot(seurat_obj, reduction = \"tsne\", group.by=\"brain_signatures_prediction\", split.by = \"condition\", cols= c(viridis(nb-1),\"gray\"))+ NoLegend()\n"
            ]
        },
        {
            "cell_type": "markdown",
            "metadata": {},
            "source": [
                "# Ontology   \n",
                "**max.genes** = Maximum number of genes to use as input to enrichR.  \n",
                "**test.use** = wilcox   \n",
                "\n",
                "##  enrichR    \n"
            ]
        },
        {
            "cell_type": "code",
            "execution_count": null,
            "metadata": {},
            "outputs": [],
            "source": [
                "lapply(\n",
                "  levels(seurat_obj$seurat_clusters),\n",
                "  function(x)DEenrichRPlot(seurat_obj,  ident.1 = x, assay = \"SCT\", max.genes = nb_maxgenes, return.gene.list = FALSE, enrich.database =  enrichR_db)\n",
                ")\n"
            ]
        },
        {
            "cell_type": "markdown",
            "metadata": {},
            "source": [
                "\n",
                "# Save seurat object  \n"
            ]
        },
        {
            "cell_type": "code",
            "execution_count": null,
            "metadata": {},
            "outputs": [],
            "source": [
                "saveRDS(seurat_obj, file = paste0(\"./results/rds/samples/\", line, \"_Clusters.rds\"))\n",
                "\n"
            ]
        },
        {
            "cell_type": "markdown",
            "metadata": {},
            "source": [
                "\n",
                "\n"
            ]
        }
    ],
    "metadata": {
        "anaconda-cloud": "",
        "kernelspec": {
            "display_name": "R",
            "langauge": "R",
            "name": "ir"
        },
        "language_info": {
            "codemirror_mode": "r",
            "file_extension": ".r",
            "mimetype": "text/x-r-source",
            "name": "R",
            "pygments_lexer": "r",
            "version": "3.4.1"
        }
    },
    "nbformat": 4,
    "nbformat_minor": 1
}
