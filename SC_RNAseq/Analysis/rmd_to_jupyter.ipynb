{
 "cells": [
  {
   "cell_type": "code",
   "execution_count": null,
   "metadata": {
    "vscode": {
     "languageId": "r"
    }
   },
   "outputs": [],
   "source": [
    "library(rmd2jupyter)"
   ]
  },
  {
   "cell_type": "code",
   "execution_count": null,
   "metadata": {
    "vscode": {
     "languageId": "r"
    }
   },
   "outputs": [],
   "source": [
    "rmd2jupyter(x = \"sample_merged/all1/all_samples_metabo_1.Rmd\")\n",
    "rmd2jupyter(x = \"./sample_merged/all1/all_samples_NORM_1.Rmd\")\n",
    "\n",
    "rmd2jupyter(x = \"sample_merged/all2/all_samples_metabo_2.Rmd\")\n",
    "rmd2jupyter(x = \"./sample_merged/all2/all_samples_NORM_2.Rmd\")\n",
    "\n",
    "rmd2jupyter(x = \"sample_merged/all3/all_samples_metabo_3.Rmd\")\n",
    "rmd2jupyter(x = \"./sample_merged/all3/all_samples_NORM_3.Rmd\")\n",
    "rmd2jupyter(x = \"sample_merged/all3/all_samples_metabo_4.Rmd\")\n",
    "rmd2jupyter(x = \"./sample_merged/all3/all_samples_NORM_4.Rmd\")"
   ]
  },
  {
   "cell_type": "code",
   "execution_count": null,
   "metadata": {
    "vscode": {
     "languageId": "r"
    }
   },
   "outputs": [],
   "source": [
    "rmd2jupyter(x = \"sample_indiv/line0/one_sample_RAW_1.Rmd\")\n",
    "rmd2jupyter(x = \"./sample_indiv/line0/one_sample_RAW_2.Rmd\")\n",
    "\n",
    "rmd2jupyter(x = \"sample_indiv/line1/one_line_metabo_1.Rmd\")\n",
    "rmd2jupyter(x = \"./sample_indiv/line1/one_line_NORM_1.Rmd\")\n",
    "\n",
    "rmd2jupyter(x = \"sample_indiv/line2/one_line_metabo_2.Rmd\")\n",
    "rmd2jupyter(x = \"./sample_indiv/line2/one_line_NORM_2.Rmd\")\n",
    "\n",
    "rmd2jupyter(x = \"sample_indiv/line3/one_line_metabo_3.Rmd\")\n",
    "rmd2jupyter(x = \"./sample_indiv/line3/one_line_NORM_3.Rmd\")\n",
    "rmd2jupyter(x = \"sample_indiv/line3/one_line_metabo_4.Rmd\")\n",
    "rmd2jupyter(x = \"./sample_indiv/line3/one_line_NORM_4.Rmd\")"
   ]
  }
 ],
 "metadata": {
  "kernelspec": {
   "display_name": "R",
   "language": "R",
   "name": "ir"
  },
  "language_info": {
   "codemirror_mode": "r",
   "file_extension": ".r",
   "mimetype": "text/x-r-source",
   "name": "R",
   "pygments_lexer": "r",
   "version": "4.2.2"
  },
  "orig_nbformat": 4
 },
 "nbformat": 4,
 "nbformat_minor": 2
}
