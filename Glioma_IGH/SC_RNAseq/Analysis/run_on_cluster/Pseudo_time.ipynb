{
 "cells": [
  {
   "cell_type": "code",
   "execution_count": 3,
   "id": "a9319f69",
   "metadata": {
    "collapsed": true,
    "tags": [
     "hide_cell"
    ],
    "vscode": {
     "languageId": "r"
    }
   },
   "outputs": [
    {
     "name": "stderr",
     "output_type": "stream",
     "text": [
      "Warning message:\n",
      "\"le package 'Seurat' a été compilé avec la version R 4.2.3\"\n"
     ]
    },
    {
     "name": "stderr",
     "output_type": "stream",
     "text": [
      "The legacy packages maptools, rgdal, and rgeos, underpinning this package\n",
      "will retire shortly. Please refer to R-spatial evolution reports on\n",
      "https://r-spatial.org/r/2023/05/15/evolution4.html for details.\n",
      "This package is now running under evolution status 0 \n",
      "\n",
      "Attaching SeuratObject\n",
      "\n",
      "\n",
      "Attachement du package : 'Seurat'\n",
      "\n",
      "\n",
      "L'objet suivant est masqué depuis 'package:SummarizedExperiment':\n",
      "\n",
      "    Assays\n",
      "\n",
      "\n",
      "Warning message:\n",
      "\"le package 'tidyverse' a été compilé avec la version R 4.2.3\"\n",
      "Warning message:\n",
      "\"le package 'ggplot2' a été compilé avec la version R 4.2.3\"\n",
      "Warning message:\n",
      "\"le package 'tibble' a été compilé avec la version R 4.2.3\"\n",
      "Warning message:\n",
      "\"le package 'tidyr' a été compilé avec la version R 4.2.3\"\n",
      "Warning message:\n",
      "\"le package 'readr' a été compilé avec la version R 4.2.3\"\n",
      "Warning message:\n",
      "\"le package 'purrr' a été compilé avec la version R 4.2.3\"\n",
      "Warning message:\n",
      "\"le package 'dplyr' a été compilé avec la version R 4.2.3\"\n",
      "Warning message:\n",
      "\"le package 'stringr' a été compilé avec la version R 4.2.3\"\n",
      "Warning message:\n",
      "\"le package 'forcats' a été compilé avec la version R 4.2.3\"\n",
      "Warning message:\n",
      "\"le package 'lubridate' a été compilé avec la version R 4.2.3\"\n",
      "── \u001b[1mAttaching core tidyverse packages\u001b[22m ──────────────────────── tidyverse 2.0.0 ──\n",
      "\u001b[32m✔\u001b[39m \u001b[34mdplyr    \u001b[39m 1.1.1     \u001b[32m✔\u001b[39m \u001b[34mreadr    \u001b[39m 2.1.4\n",
      "\u001b[32m✔\u001b[39m \u001b[34mforcats  \u001b[39m 1.0.0     \u001b[32m✔\u001b[39m \u001b[34mstringr  \u001b[39m 1.5.0\n",
      "\u001b[32m✔\u001b[39m \u001b[34mggplot2  \u001b[39m 3.4.2     \u001b[32m✔\u001b[39m \u001b[34mtibble   \u001b[39m 3.2.1\n",
      "\u001b[32m✔\u001b[39m \u001b[34mlubridate\u001b[39m 1.9.2     \u001b[32m✔\u001b[39m \u001b[34mtidyr    \u001b[39m 1.3.0\n",
      "\u001b[32m✔\u001b[39m \u001b[34mpurrr    \u001b[39m 1.0.1     \n",
      "── \u001b[1mConflicts\u001b[22m ────────────────────────────────────────── tidyverse_conflicts() ──\n",
      "\u001b[31m✖\u001b[39m \u001b[34mlubridate\u001b[39m::\u001b[32m%within%()\u001b[39m masks \u001b[34mIRanges\u001b[39m::%within%()\n",
      "\u001b[31m✖\u001b[39m \u001b[34mdplyr\u001b[39m::\u001b[32mcollapse()\u001b[39m     masks \u001b[34mIRanges\u001b[39m::collapse()\n",
      "\u001b[31m✖\u001b[39m \u001b[34mdplyr\u001b[39m::\u001b[32mcombine()\u001b[39m      masks \u001b[34mBiobase\u001b[39m::combine(), \u001b[34mBiocGenerics\u001b[39m::combine()\n",
      "\u001b[31m✖\u001b[39m \u001b[34mdplyr\u001b[39m::\u001b[32mcount()\u001b[39m        masks \u001b[34mmatrixStats\u001b[39m::count()\n",
      "\u001b[31m✖\u001b[39m \u001b[34mdplyr\u001b[39m::\u001b[32mdesc()\u001b[39m         masks \u001b[34mIRanges\u001b[39m::desc()\n",
      "\u001b[31m✖\u001b[39m \u001b[34mtidyr\u001b[39m::\u001b[32mexpand()\u001b[39m       masks \u001b[34mS4Vectors\u001b[39m::expand()\n",
      "\u001b[31m✖\u001b[39m \u001b[34mdplyr\u001b[39m::\u001b[32mfilter()\u001b[39m       masks \u001b[34mstats\u001b[39m::filter()\n",
      "\u001b[31m✖\u001b[39m \u001b[34mdplyr\u001b[39m::\u001b[32mfirst()\u001b[39m        masks \u001b[34mS4Vectors\u001b[39m::first()\n",
      "\u001b[31m✖\u001b[39m \u001b[34mdplyr\u001b[39m::\u001b[32mlag()\u001b[39m          masks \u001b[34mstats\u001b[39m::lag()\n",
      "\u001b[31m✖\u001b[39m \u001b[34mggplot2\u001b[39m::\u001b[32mPosition()\u001b[39m   masks \u001b[34mBiocGenerics\u001b[39m::Position(), \u001b[34mbase\u001b[39m::Position()\n",
      "\u001b[31m✖\u001b[39m \u001b[34mpurrr\u001b[39m::\u001b[32mreduce()\u001b[39m       masks \u001b[34mGenomicRanges\u001b[39m::reduce(), \u001b[34mIRanges\u001b[39m::reduce()\n",
      "\u001b[31m✖\u001b[39m \u001b[34mdplyr\u001b[39m::\u001b[32mrename()\u001b[39m       masks \u001b[34mS4Vectors\u001b[39m::rename()\n",
      "\u001b[31m✖\u001b[39m \u001b[34mlubridate\u001b[39m::\u001b[32msecond()\u001b[39m   masks \u001b[34mS4Vectors\u001b[39m::second()\n",
      "\u001b[31m✖\u001b[39m \u001b[34mlubridate\u001b[39m::\u001b[32msecond<-()\u001b[39m masks \u001b[34mS4Vectors\u001b[39m::second<-()\n",
      "\u001b[31m✖\u001b[39m \u001b[34mdplyr\u001b[39m::\u001b[32mslice()\u001b[39m        masks \u001b[34mIRanges\u001b[39m::slice()\n",
      "\u001b[36mℹ\u001b[39m Use the conflicted package (\u001b[3m\u001b[34m<http://conflicted.r-lib.org/>\u001b[39m\u001b[23m) to force all conflicts to become errors\n",
      "Warning message:\n",
      "\"le package 'SCINA' a été compilé avec la version R 4.2.3\"\n",
      "Le chargement a nécessité le package : MASS\n",
      "\n",
      "Warning message:\n",
      "\"le package 'MASS' a été compilé avec la version R 4.2.3\"\n",
      "\n",
      "Attachement du package : 'MASS'\n",
      "\n",
      "\n",
      "L'objet suivant est masqué depuis 'package:dplyr':\n",
      "\n",
      "    select\n",
      "\n",
      "\n",
      "Le chargement a nécessité le package : gplots\n",
      "\n",
      "\n",
      "Attachement du package : 'gplots'\n",
      "\n",
      "\n",
      "L'objet suivant est masqué depuis 'package:IRanges':\n",
      "\n",
      "    space\n",
      "\n",
      "\n",
      "L'objet suivant est masqué depuis 'package:S4Vectors':\n",
      "\n",
      "    space\n",
      "\n",
      "\n",
      "L'objet suivant est masqué depuis 'package:stats':\n",
      "\n",
      "    lowess\n",
      "\n",
      "\n",
      "Warning message:\n",
      "\"le package 'clustree' a été compilé avec la version R 4.2.3\"\n",
      "Le chargement a nécessité le package : ggraph\n",
      "\n",
      "Warning message:\n",
      "\"le package 'ggraph' a été compilé avec la version R 4.2.3\"\n"
     ]
    }
   ],
   "source": [
    "library(Seurat)\n",
    "library(tidyverse)\n",
    "library(\"SCINA\")\n",
    "library(future)\n",
    "library(clustree)"
   ]
  },
  {
   "cell_type": "code",
   "execution_count": 2,
   "id": "e3f49af0",
   "metadata": {
    "vscode": {
     "languageId": "r"
    }
   },
   "outputs": [
    {
     "name": "stderr",
     "output_type": "stream",
     "text": [
      "Le chargement a nécessité le package : dynfeature\n",
      "\n",
      "Le chargement a nécessité le package : dynguidelines\n",
      "\n",
      "Le chargement a nécessité le package : dynmethods\n",
      "\n",
      "Le chargement a nécessité le package : dynplot\n",
      "\n",
      "\n",
      "Attachement du package : 'dynplot'\n",
      "\n",
      "\n",
      "L'objet suivant est masqué depuis 'package:ggraph':\n",
      "\n",
      "    theme_graph\n",
      "\n",
      "\n",
      "Le chargement a nécessité le package : dynwrap\n",
      "\n"
     ]
    }
   ],
   "source": [
    "#devtools::install_github(\"dynverse/dyno\")\n",
    "library(dyno)"
   ]
  },
  {
   "cell_type": "code",
   "execution_count": 8,
   "id": "006b19e8",
   "metadata": {
    "vscode": {
     "languageId": "r"
    }
   },
   "outputs": [
    {
     "data": {
      "text/plain": [
       "An object of class Seurat \n",
       "49074 features across 979 samples within 2 assays \n",
       "Active assay: SCT (22502 features, 3000 variable features)\n",
       " 1 other assay present: RNA"
      ]
     },
     "metadata": {},
     "output_type": "display_data"
    }
   ],
   "source": [
    "seurat_obj<- readRDS(file = \"./html_lines/Norm_BT54_diff.rds\")\n",
    "seurat_obj"
   ]
  },
  {
   "cell_type": "code",
   "execution_count": 4,
   "id": "98e104cf",
   "metadata": {
    "vscode": {
     "languageId": "r"
    }
   },
   "outputs": [],
   "source": [
    "dataset <- wrap_expression(\n",
    "  counts = seurat_obj@assays$SCT@counts,\n",
    "  expression = seurat_obj@assays$SCT@data\n",
    ")"
   ]
  },
  {
   "cell_type": "code",
   "execution_count": 1,
   "id": "5524453b",
   "metadata": {
    "vscode": {
     "languageId": "r"
    }
   },
   "outputs": [
    {
     "name": "stderr",
     "output_type": "stream",
     "text": [
      "Le chargement a nécessité le package : Biobase\n",
      "\n",
      "Le chargement a nécessité le package : BiocGenerics\n",
      "\n",
      "\n",
      "Attachement du package : 'BiocGenerics'\n",
      "\n",
      "\n",
      "Les objets suivants sont masqués depuis 'package:stats':\n",
      "\n",
      "    IQR, mad, sd, var, xtabs\n",
      "\n",
      "\n",
      "Les objets suivants sont masqués depuis 'package:base':\n",
      "\n",
      "    anyDuplicated, aperm, append, as.data.frame, basename, cbind,\n",
      "    colnames, dirname, do.call, duplicated, eval, evalq, Filter, Find,\n",
      "    get, grep, grepl, intersect, is.unsorted, lapply, Map, mapply,\n",
      "    match, mget, order, paste, pmax, pmax.int, pmin, pmin.int,\n",
      "    Position, rank, rbind, Reduce, rownames, sapply, setdiff, sort,\n",
      "    table, tapply, union, unique, unsplit, which.max, which.min\n",
      "\n",
      "\n",
      "Welcome to Bioconductor\n",
      "\n",
      "    Vignettes contain introductory material; view with\n",
      "    'browseVignettes()'. To cite Bioconductor, see\n",
      "    'citation(\"Biobase\")', and for packages 'citation(\"pkgname\")'.\n",
      "\n",
      "\n",
      "Le chargement a nécessité le package : SingleCellExperiment\n",
      "\n",
      "Le chargement a nécessité le package : SummarizedExperiment\n",
      "\n",
      "Le chargement a nécessité le package : MatrixGenerics\n",
      "\n",
      "Le chargement a nécessité le package : matrixStats\n",
      "\n",
      "Warning message:\n",
      "\"le package 'matrixStats' a été compilé avec la version R 4.2.3\"\n",
      "\n",
      "Attachement du package : 'matrixStats'\n",
      "\n",
      "\n",
      "Les objets suivants sont masqués depuis 'package:Biobase':\n",
      "\n",
      "    anyMissing, rowMedians\n",
      "\n",
      "\n",
      "\n",
      "Attachement du package : 'MatrixGenerics'\n",
      "\n",
      "\n",
      "Les objets suivants sont masqués depuis 'package:matrixStats':\n",
      "\n",
      "    colAlls, colAnyNAs, colAnys, colAvgsPerRowSet, colCollapse,\n",
      "    colCounts, colCummaxs, colCummins, colCumprods, colCumsums,\n",
      "    colDiffs, colIQRDiffs, colIQRs, colLogSumExps, colMadDiffs,\n",
      "    colMads, colMaxs, colMeans2, colMedians, colMins, colOrderStats,\n",
      "    colProds, colQuantiles, colRanges, colRanks, colSdDiffs, colSds,\n",
      "    colSums2, colTabulates, colVarDiffs, colVars, colWeightedMads,\n",
      "    colWeightedMeans, colWeightedMedians, colWeightedSds,\n",
      "    colWeightedVars, rowAlls, rowAnyNAs, rowAnys, rowAvgsPerColSet,\n",
      "    rowCollapse, rowCounts, rowCummaxs, rowCummins, rowCumprods,\n",
      "    rowCumsums, rowDiffs, rowIQRDiffs, rowIQRs, rowLogSumExps,\n",
      "    rowMadDiffs, rowMads, rowMaxs, rowMeans2, rowMedians, rowMins,\n",
      "    rowOrderStats, rowProds, rowQuantiles, rowRanges, rowRanks,\n",
      "    rowSdDiffs, rowSds, rowSums2, rowTabulates, rowVarDiffs, rowVars,\n",
      "    rowWeightedMads, rowWeightedMeans, rowWeightedMedians,\n",
      "    rowWeightedSds, rowWeightedVars\n",
      "\n",
      "\n",
      "L'objet suivant est masqué depuis 'package:Biobase':\n",
      "\n",
      "    rowMedians\n",
      "\n",
      "\n",
      "Le chargement a nécessité le package : GenomicRanges\n",
      "\n",
      "Le chargement a nécessité le package : stats4\n",
      "\n",
      "Le chargement a nécessité le package : S4Vectors\n",
      "\n",
      "\n",
      "Attachement du package : 'S4Vectors'\n",
      "\n",
      "\n",
      "Les objets suivants sont masqués depuis 'package:base':\n",
      "\n",
      "    expand.grid, I, unname\n",
      "\n",
      "\n",
      "Le chargement a nécessité le package : IRanges\n",
      "\n",
      "\n",
      "Attachement du package : 'IRanges'\n",
      "\n",
      "\n",
      "L'objet suivant est masqué depuis 'package:grDevices':\n",
      "\n",
      "    windows\n",
      "\n",
      "\n",
      "Le chargement a nécessité le package : GenomeInfoDb\n",
      "\n",
      "\n",
      "Attachement du package : 'monocle3'\n",
      "\n",
      "\n",
      "Les objets suivants sont masqués depuis 'package:Biobase':\n",
      "\n",
      "    exprs, fData, fData<-, pData, pData<-\n",
      "\n",
      "\n"
     ]
    }
   ],
   "source": [
    "library(monocle3)"
   ]
  },
  {
   "cell_type": "code",
   "execution_count": 9,
   "id": "6aa52334",
   "metadata": {
    "vscode": {
     "languageId": "r"
    }
   },
   "outputs": [],
   "source": [
    "## convert seurat to cell_data_set obj\n",
    "cds <- as.cell_data_set(seurat_obj)"
   ]
  },
  {
   "cell_type": "code",
   "execution_count": 13,
   "id": "3c0de2da",
   "metadata": {
    "vscode": {
     "languageId": "r"
    }
   },
   "outputs": [
    {
     "data": {
      "text/plain": [
       "DataFrame with 22502 rows and 1 column\n",
       "                      gene_name\n",
       "                    <character>\n",
       "ATAD3B                   ATAD3B\n",
       "PRDM16                   PRDM16\n",
       "PEX10                     PEX10\n",
       "PEX14                     PEX14\n",
       "PLCH2                     PLCH2\n",
       "...                         ...\n",
       "ENSG00000273748 ENSG00000273748\n",
       "ENSG00000278817 ENSG00000278817\n",
       "ENSG00000278384 ENSG00000278384\n",
       "ENSG00000276345 ENSG00000276345\n",
       "ENSG00000271254 ENSG00000271254"
      ]
     },
     "metadata": {},
     "output_type": "display_data"
    }
   ],
   "source": [
    "fData(cds)$gene_name <- rownames(fData(cds))\n",
    "fData(cds)"
   ]
  },
  {
   "cell_type": "code",
   "execution_count": null,
   "id": "f596d04c",
   "metadata": {
    "vscode": {
     "languageId": "r"
    }
   },
   "outputs": [],
   "source": [
    "## use seurat clusters\n",
    "\n",
    "## assign partitions\n",
    "recreate.partition <- c(rep(1, length(cds@colData@rownames)))\n",
    "names(recreate.partition) <- cds@colData@rownames\n",
    "recreate.partition <- as.factor(recreate.partition)\n",
    "\n",
    "cds@clusters$UMAP$partitions <- recreate.partition"
   ]
  },
  {
   "cell_type": "code",
   "execution_count": null,
   "id": "833f9054",
   "metadata": {
    "vscode": {
     "languageId": "r"
    }
   },
   "outputs": [],
   "source": [
    "## assign cluster infos\n",
    "cds@clusters$UMAP$clusters <- seurat_obj$seurat_clusters"
   ]
  },
  {
   "cell_type": "code",
   "execution_count": null,
   "id": "fef21a05",
   "metadata": {
    "vscode": {
     "languageId": "r"
    }
   },
   "outputs": [],
   "source": [
    "## assign UMAP coordinate - cell embeddings\n",
    "cds@int_colData@listData$reduceDims$UMAP <- seurat_obj@reductions$umap@cell.embeddings"
   ]
  },
  {
   "cell_type": "code",
   "execution_count": null,
   "id": "37cb4e0a",
   "metadata": {
    "vscode": {
     "languageId": "r"
    }
   },
   "outputs": [],
   "source": [
    "# plot\n",
    "\n",
    "cluster.before.trajectory <- plot_cells(cds,\n",
    "           color_cells_by = 'cluster',\n",
    "           label_groups_by_cluster = FALSE,\n",
    "           group_label_size = 5) +\n",
    "  theme(legend.position = \"right\")\n",
    "\n",
    "cluster.names <- plot_cells(cds,\n",
    "           color_cells_by = \"redefined_cluster\",\n",
    "           label_groups_by_cluster = FALSE,\n",
    "           group_label_size = 5) +\n",
    "  #scale_color_manual(values = c('red', 'blue', 'green', 'maroon', 'yellow', 'grey', 'cyan')) +\n",
    "  theme(legend.position = \"right\")\n",
    "\n",
    "cluster.before.trajectory | cluster.names\n"
   ]
  },
  {
   "cell_type": "code",
   "execution_count": null,
   "id": "69e73755",
   "metadata": {
    "vscode": {
     "languageId": "r"
    }
   },
   "outputs": [],
   "source": [
    "# Learn "
   ]
  },
  {
   "cell_type": "markdown",
   "id": "a74a6162",
   "metadata": {},
   "source": [
    "### Seurat object (all genes)"
   ]
  },
  {
   "cell_type": "code",
   "execution_count": 3,
   "id": "f8f60233",
   "metadata": {
    "vscode": {
     "languageId": "r"
    }
   },
   "outputs": [
    {
     "data": {
      "text/plain": [
       "An object of class Seurat \n",
       "36334 features across 9840 samples within 1 assay \n",
       "Active assay: RNA (36334 features, 2000 variable features)\n",
       " 4 dimensional reductions calculated: pca, umap, tsne, mca"
      ]
     },
     "metadata": {},
     "output_type": "display_data"
    }
   ],
   "source": [
    "obj_all <-  readRDS(file = \"ALL_mca.rds\")\n",
    "obj_all"
   ]
  },
  {
   "cell_type": "code",
   "execution_count": 2,
   "id": "aca472ac",
   "metadata": {
    "vscode": {
     "languageId": "r"
    }
   },
   "outputs": [
    {
     "data": {
      "text/plain": [
       "An object of class Seurat \n",
       "36334 features across 9840 samples within 1 assay \n",
       "Active assay: RNA (36334 features, 2000 variable features)\n",
       " 3 dimensional reductions calculated: pca, umap, tsne"
      ]
     },
     "metadata": {},
     "output_type": "display_data"
    }
   ],
   "source": [
    "obj.combined <- readRDS(file = \"./results/ALL.rds\")\n",
    "obj.combined\n",
    "\n",
    "# 36334 features across 9840 samples within 1 assay "
   ]
  },
  {
   "cell_type": "markdown",
   "id": "046f8416",
   "metadata": {},
   "source": [
    "### Seurat object (metabo only)"
   ]
  },
  {
   "cell_type": "code",
   "execution_count": 17,
   "id": "80082128",
   "metadata": {
    "vscode": {
     "languageId": "r"
    }
   },
   "outputs": [
    {
     "data": {
      "text/plain": [
       "An object of class Seurat \n",
       "2682 features across 9840 samples within 1 assay \n",
       "Active assay: RNA (2682 features, 1000 variable features)\n",
       " 3 dimensional reductions calculated: pca, umap, tsne"
      ]
     },
     "metadata": {},
     "output_type": "display_data"
    }
   ],
   "source": [
    "metabo.object <- readRDS(file = \"./results/ALL_metabo.rds\")\n",
    "metabo.object\n",
    "# 2682 features across 9840 samples within 1 assay "
   ]
  },
  {
   "attachments": {},
   "cell_type": "markdown",
   "id": "cc83b513",
   "metadata": {},
   "source": [
    "# Monocle3"
   ]
  },
  {
   "cell_type": "raw",
   "id": "a0843562",
   "metadata": {},
   "source": [
    "guidelines <- guidelines_shiny(obj_all)\n",
    "methods_selected <- guidelines$methods_selected"
   ]
  },
  {
   "cell_type": "code",
   "execution_count": 15,
   "id": "3001c686",
   "metadata": {
    "vscode": {
     "languageId": "r"
    }
   },
   "outputs": [
    {
     "name": "stderr",
     "output_type": "stream",
     "text": [
      "Downloading GitHub repo satijalab/seurat-wrappers@HEAD\n",
      "\n"
     ]
    },
    {
     "name": "stdout",
     "output_type": "stream",
     "text": [
      "deldir       (1.0-6   -> 1.0-9  ) [CRAN]\n",
      "spatstat.... (3.0-2   -> 3.0-3  ) [CRAN]\n",
      "spatstat.... (3.1-4   -> 3.1-5  ) [CRAN]\n",
      "spatstat.... (3.1-0   -> 3.2-1  ) [CRAN]\n",
      "fs           (1.6.1   -> 1.6.2  ) [CRAN]\n",
      "cachem       (1.0.7   -> 1.0.8  ) [CRAN]\n",
      "rlang        (1.1.0   -> 1.1.1  ) [CRAN]\n",
      "later        (1.3.0   -> 1.3.1  ) [CRAN]\n",
      "jsonlite     (1.8.4   -> 1.8.5  ) [CRAN]\n",
      "httpuv       (1.6.9   -> 1.6.11 ) [CRAN]\n",
      "future.apply (1.10.0  -> 1.11.0 ) [CRAN]\n",
      "sp           (1.6-0   -> 1.6-1  ) [CRAN]\n",
      "vctrs        (0.6.1   -> 0.6.2  ) [CRAN]\n",
      "matrixStats  (0.63.0  -> 1.0.0  ) [CRAN]\n",
      "dplyr        (1.1.1   -> 1.1.2  ) [CRAN]\n",
      "curl         (5.0.0   -> 5.0.1  ) [CRAN]\n",
      "igraph       (1.4.2   -> 1.4.3  ) [CRAN]\n",
      "reticulate   (1.28    -> 1.30   ) [CRAN]\n",
      "spatstat.... (3.1-0   -> 3.2-1  ) [CRAN]\n",
      "scattermore  (0.8     -> 1.2    ) [CRAN]\n",
      "BiocManager  (1.30.20 -> 1.30.21) [CRAN]\n"
     ]
    },
    {
     "name": "stderr",
     "output_type": "stream",
     "text": [
      "Installing 21 packages: deldir, spatstat.utils, spatstat.random, spatstat.geom, fs, cachem, rlang, later, jsonlite, httpuv, future.apply, sp, vctrs, matrixStats, dplyr, curl, igraph, reticulate, spatstat.explore, scattermore, BiocManager\n",
      "\n",
      "Warning message:\n",
      "\"les packages 'matrixStats', 'dplyr' sont en cours d'utilisation et ne seront pas installés\"\n",
      "Installation des packages dans 'C:/Users/Soeur/AppData/Local/R/win-library/4.2'\n",
      "(car 'lib' n'est pas spécifié)\n",
      "\n"
     ]
    },
    {
     "name": "stdout",
     "output_type": "stream",
     "text": [
      "\n",
      "  Une version binaire est disponible mais la version du source est plus\n",
      "  récente:\n",
      "            binary source needs_compilation\n",
      "scattermore    1.1    1.2              TRUE\n",
      "\n",
      "le package 'deldir' a été décompressé et les sommes MD5 ont été vérifiées avec succés\n"
     ]
    },
    {
     "name": "stderr",
     "output_type": "stream",
     "text": [
      "Warning message:\n",
      "\"impossible de supprimer l'installation précédente du package 'deldir'\"\n",
      "Warning message in file.copy(savedcopy, lib, recursive = TRUE):\n",
      "\"problème lors de la copie de C:\\Users\\Soeur\\AppData\\Local\\R\\win-library\\4.2\\00LOCK\\deldir\\libs\\x64\\deldir.dll vers C:\\Users\\Soeur\\AppData\\Local\\R\\win-library\\4.2\\deldir\\libs\\x64\\deldir.dll: Permission denied\"\n",
      "Warning message:\n",
      "\"'deldir' restauré\"\n"
     ]
    },
    {
     "name": "stdout",
     "output_type": "stream",
     "text": [
      "le package 'spatstat.utils' a été décompressé et les sommes MD5 ont été vérifiées avec succés\n"
     ]
    },
    {
     "name": "stderr",
     "output_type": "stream",
     "text": [
      "Warning message:\n",
      "\"impossible de supprimer l'installation précédente du package 'spatstat.utils'\"\n",
      "Warning message in file.copy(savedcopy, lib, recursive = TRUE):\n",
      "\"problème lors de la copie de C:\\Users\\Soeur\\AppData\\Local\\R\\win-library\\4.2\\00LOCK\\spatstat.utils\\libs\\x64\\spatstat.utils.dll vers C:\\Users\\Soeur\\AppData\\Local\\R\\win-library\\4.2\\spatstat.utils\\libs\\x64\\spatstat.utils.dll: Permission denied\"\n",
      "Warning message:\n",
      "\"'spatstat.utils' restauré\"\n"
     ]
    },
    {
     "name": "stdout",
     "output_type": "stream",
     "text": [
      "le package 'spatstat.random' a été décompressé et les sommes MD5 ont été vérifiées avec succés\n"
     ]
    },
    {
     "name": "stderr",
     "output_type": "stream",
     "text": [
      "Warning message:\n",
      "\"impossible de supprimer l'installation précédente du package 'spatstat.random'\"\n",
      "Warning message in file.copy(savedcopy, lib, recursive = TRUE):\n",
      "\"problème lors de la copie de C:\\Users\\Soeur\\AppData\\Local\\R\\win-library\\4.2\\00LOCK\\spatstat.random\\libs\\x64\\spatstat.random.dll vers C:\\Users\\Soeur\\AppData\\Local\\R\\win-library\\4.2\\spatstat.random\\libs\\x64\\spatstat.random.dll: Permission denied\"\n",
      "Warning message:\n",
      "\"'spatstat.random' restauré\"\n"
     ]
    },
    {
     "name": "stdout",
     "output_type": "stream",
     "text": [
      "le package 'spatstat.geom' a été décompressé et les sommes MD5 ont été vérifiées avec succés\n"
     ]
    },
    {
     "name": "stderr",
     "output_type": "stream",
     "text": [
      "Warning message:\n",
      "\"impossible de supprimer l'installation précédente du package 'spatstat.geom'\"\n",
      "Warning message in file.copy(savedcopy, lib, recursive = TRUE):\n",
      "\"problème lors de la copie de C:\\Users\\Soeur\\AppData\\Local\\R\\win-library\\4.2\\00LOCK\\spatstat.geom\\libs\\x64\\spatstat.geom.dll vers C:\\Users\\Soeur\\AppData\\Local\\R\\win-library\\4.2\\spatstat.geom\\libs\\x64\\spatstat.geom.dll: Permission denied\"\n",
      "Warning message:\n",
      "\"'spatstat.geom' restauré\"\n"
     ]
    },
    {
     "name": "stdout",
     "output_type": "stream",
     "text": [
      "le package 'fs' a été décompressé et les sommes MD5 ont été vérifiées avec succés\n"
     ]
    },
    {
     "name": "stderr",
     "output_type": "stream",
     "text": [
      "Warning message:\n",
      "\"impossible de supprimer l'installation précédente du package 'fs'\"\n",
      "Warning message in file.copy(savedcopy, lib, recursive = TRUE):\n",
      "\"problème lors de la copie de C:\\Users\\Soeur\\AppData\\Local\\R\\win-library\\4.2\\00LOCK\\fs\\libs\\x64\\fs.dll vers C:\\Users\\Soeur\\AppData\\Local\\R\\win-library\\4.2\\fs\\libs\\x64\\fs.dll: Permission denied\"\n",
      "Warning message:\n",
      "\"'fs' restauré\"\n"
     ]
    },
    {
     "name": "stdout",
     "output_type": "stream",
     "text": [
      "le package 'cachem' a été décompressé et les sommes MD5 ont été vérifiées avec succés\n"
     ]
    },
    {
     "name": "stderr",
     "output_type": "stream",
     "text": [
      "Warning message:\n",
      "\"impossible de supprimer l'installation précédente du package 'cachem'\"\n",
      "Warning message in file.copy(savedcopy, lib, recursive = TRUE):\n",
      "\"problème lors de la copie de C:\\Users\\Soeur\\AppData\\Local\\R\\win-library\\4.2\\00LOCK\\cachem\\libs\\x64\\cachem.dll vers C:\\Users\\Soeur\\AppData\\Local\\R\\win-library\\4.2\\cachem\\libs\\x64\\cachem.dll: Permission denied\"\n",
      "Warning message:\n",
      "\"'cachem' restauré\"\n"
     ]
    },
    {
     "name": "stdout",
     "output_type": "stream",
     "text": [
      "le package 'rlang' a été décompressé et les sommes MD5 ont été vérifiées avec succés\n"
     ]
    },
    {
     "name": "stderr",
     "output_type": "stream",
     "text": [
      "Warning message:\n",
      "\"impossible de supprimer l'installation précédente du package 'rlang'\"\n",
      "Warning message in file.copy(savedcopy, lib, recursive = TRUE):\n",
      "\"problème lors de la copie de C:\\Users\\Soeur\\AppData\\Local\\R\\win-library\\4.2\\00LOCK\\rlang\\libs\\x64\\rlang.dll vers C:\\Users\\Soeur\\AppData\\Local\\R\\win-library\\4.2\\rlang\\libs\\x64\\rlang.dll: Permission denied\"\n",
      "Warning message:\n",
      "\"'rlang' restauré\"\n"
     ]
    },
    {
     "name": "stdout",
     "output_type": "stream",
     "text": [
      "le package 'later' a été décompressé et les sommes MD5 ont été vérifiées avec succés\n"
     ]
    },
    {
     "name": "stderr",
     "output_type": "stream",
     "text": [
      "Warning message:\n",
      "\"impossible de supprimer l'installation précédente du package 'later'\"\n",
      "Warning message in file.copy(savedcopy, lib, recursive = TRUE):\n",
      "\"problème lors de la copie de C:\\Users\\Soeur\\AppData\\Local\\R\\win-library\\4.2\\00LOCK\\later\\libs\\x64\\later.dll vers C:\\Users\\Soeur\\AppData\\Local\\R\\win-library\\4.2\\later\\libs\\x64\\later.dll: Permission denied\"\n",
      "Warning message:\n",
      "\"'later' restauré\"\n"
     ]
    },
    {
     "name": "stdout",
     "output_type": "stream",
     "text": [
      "le package 'jsonlite' a été décompressé et les sommes MD5 ont été vérifiées avec succés\n"
     ]
    },
    {
     "name": "stderr",
     "output_type": "stream",
     "text": [
      "Warning message:\n",
      "\"impossible de supprimer l'installation précédente du package 'jsonlite'\"\n",
      "Warning message in file.copy(savedcopy, lib, recursive = TRUE):\n",
      "\"problème lors de la copie de C:\\Users\\Soeur\\AppData\\Local\\R\\win-library\\4.2\\00LOCK\\jsonlite\\libs\\x64\\jsonlite.dll vers C:\\Users\\Soeur\\AppData\\Local\\R\\win-library\\4.2\\jsonlite\\libs\\x64\\jsonlite.dll: Permission denied\"\n",
      "Warning message:\n",
      "\"'jsonlite' restauré\"\n"
     ]
    },
    {
     "name": "stdout",
     "output_type": "stream",
     "text": [
      "le package 'httpuv' a été décompressé et les sommes MD5 ont été vérifiées avec succés\n"
     ]
    },
    {
     "name": "stderr",
     "output_type": "stream",
     "text": [
      "Warning message:\n",
      "\"impossible de supprimer l'installation précédente du package 'httpuv'\"\n",
      "Warning message in file.copy(savedcopy, lib, recursive = TRUE):\n",
      "\"problème lors de la copie de C:\\Users\\Soeur\\AppData\\Local\\R\\win-library\\4.2\\00LOCK\\httpuv\\libs\\x64\\httpuv.dll vers C:\\Users\\Soeur\\AppData\\Local\\R\\win-library\\4.2\\httpuv\\libs\\x64\\httpuv.dll: Permission denied\"\n",
      "Warning message:\n",
      "\"'httpuv' restauré\"\n"
     ]
    },
    {
     "name": "stdout",
     "output_type": "stream",
     "text": [
      "le package 'future.apply' a été décompressé et les sommes MD5 ont été vérifiées avec succés\n",
      "le package 'sp' a été décompressé et les sommes MD5 ont été vérifiées avec succés\n"
     ]
    },
    {
     "name": "stderr",
     "output_type": "stream",
     "text": [
      "Warning message:\n",
      "\"impossible de supprimer l'installation précédente du package 'sp'\"\n",
      "Warning message in file.copy(savedcopy, lib, recursive = TRUE):\n",
      "\"problème lors de la copie de C:\\Users\\Soeur\\AppData\\Local\\R\\win-library\\4.2\\00LOCK\\sp\\libs\\x64\\sp.dll vers C:\\Users\\Soeur\\AppData\\Local\\R\\win-library\\4.2\\sp\\libs\\x64\\sp.dll: Permission denied\"\n",
      "Warning message:\n",
      "\"'sp' restauré\"\n"
     ]
    },
    {
     "name": "stdout",
     "output_type": "stream",
     "text": [
      "le package 'vctrs' a été décompressé et les sommes MD5 ont été vérifiées avec succés\n"
     ]
    },
    {
     "name": "stderr",
     "output_type": "stream",
     "text": [
      "Warning message:\n",
      "\"impossible de supprimer l'installation précédente du package 'vctrs'\"\n",
      "Warning message in file.copy(savedcopy, lib, recursive = TRUE):\n",
      "\"problème lors de la copie de C:\\Users\\Soeur\\AppData\\Local\\R\\win-library\\4.2\\00LOCK\\vctrs\\libs\\x64\\vctrs.dll vers C:\\Users\\Soeur\\AppData\\Local\\R\\win-library\\4.2\\vctrs\\libs\\x64\\vctrs.dll: Permission denied\"\n",
      "Warning message:\n",
      "\"'vctrs' restauré\"\n"
     ]
    },
    {
     "name": "stdout",
     "output_type": "stream",
     "text": [
      "le package 'curl' a été décompressé et les sommes MD5 ont été vérifiées avec succés\n"
     ]
    },
    {
     "name": "stderr",
     "output_type": "stream",
     "text": [
      "Warning message:\n",
      "\"impossible de supprimer l'installation précédente du package 'curl'\"\n",
      "Warning message in file.copy(savedcopy, lib, recursive = TRUE):\n",
      "\"problème lors de la copie de C:\\Users\\Soeur\\AppData\\Local\\R\\win-library\\4.2\\00LOCK\\curl\\libs\\x64\\curl.dll vers C:\\Users\\Soeur\\AppData\\Local\\R\\win-library\\4.2\\curl\\libs\\x64\\curl.dll: Permission denied\"\n",
      "Warning message:\n",
      "\"'curl' restauré\"\n"
     ]
    },
    {
     "name": "stdout",
     "output_type": "stream",
     "text": [
      "le package 'igraph' a été décompressé et les sommes MD5 ont été vérifiées avec succés\n"
     ]
    },
    {
     "name": "stderr",
     "output_type": "stream",
     "text": [
      "Warning message:\n",
      "\"impossible de supprimer l'installation précédente du package 'igraph'\"\n",
      "Warning message in file.copy(savedcopy, lib, recursive = TRUE):\n",
      "\"problème lors de la copie de C:\\Users\\Soeur\\AppData\\Local\\R\\win-library\\4.2\\00LOCK\\igraph\\libs\\x64\\igraph.dll vers C:\\Users\\Soeur\\AppData\\Local\\R\\win-library\\4.2\\igraph\\libs\\x64\\igraph.dll: Permission denied\"\n",
      "Warning message:\n",
      "\"'igraph' restauré\"\n"
     ]
    },
    {
     "name": "stdout",
     "output_type": "stream",
     "text": [
      "le package 'reticulate' a été décompressé et les sommes MD5 ont été vérifiées avec succés\n"
     ]
    },
    {
     "name": "stderr",
     "output_type": "stream",
     "text": [
      "Warning message:\n",
      "\"impossible de supprimer l'installation précédente du package 'reticulate'\"\n",
      "Warning message in file.copy(savedcopy, lib, recursive = TRUE):\n",
      "\"problème lors de la copie de C:\\Users\\Soeur\\AppData\\Local\\R\\win-library\\4.2\\00LOCK\\reticulate\\libs\\x64\\reticulate.dll vers C:\\Users\\Soeur\\AppData\\Local\\R\\win-library\\4.2\\reticulate\\libs\\x64\\reticulate.dll: Permission denied\"\n",
      "Warning message:\n",
      "\"'reticulate' restauré\"\n"
     ]
    },
    {
     "name": "stdout",
     "output_type": "stream",
     "text": [
      "le package 'spatstat.explore' a été décompressé et les sommes MD5 ont été vérifiées avec succés\n"
     ]
    },
    {
     "name": "stderr",
     "output_type": "stream",
     "text": [
      "Warning message:\n",
      "\"impossible de supprimer l'installation précédente du package 'spatstat.explore'\"\n",
      "Warning message in file.copy(savedcopy, lib, recursive = TRUE):\n",
      "\"problème lors de la copie de C:\\Users\\Soeur\\AppData\\Local\\R\\win-library\\4.2\\00LOCK\\spatstat.explore\\libs\\x64\\spatstat.explore.dll vers C:\\Users\\Soeur\\AppData\\Local\\R\\win-library\\4.2\\spatstat.explore\\libs\\x64\\spatstat.explore.dll: Permission denied\"\n",
      "Warning message:\n",
      "\"'spatstat.explore' restauré\"\n"
     ]
    },
    {
     "name": "stdout",
     "output_type": "stream",
     "text": [
      "le package 'BiocManager' a été décompressé et les sommes MD5 ont été vérifiées avec succés\n",
      "\n",
      "Les packages binaires téléchargés sont dans\n",
      "\tC:\\Users\\Soeur\\AppData\\Local\\Temp\\RtmpisaJNZ\\downloaded_packages\n"
     ]
    },
    {
     "name": "stderr",
     "output_type": "stream",
     "text": [
      "installation du package source 'scattermore'\n",
      "\n",
      "\n",
      "Warning message in i.p(...):\n",
      "\"l'installation du package 'scattermore' a eu un statut de sortie non nul\"\n"
     ]
    },
    {
     "name": "stdout",
     "output_type": "stream",
     "text": [
      "\u001b[36m──\u001b[39m \u001b[36mR CMD build\u001b[39m \u001b[36m─────────────────────────────────────────────────────────────────\u001b[39m\n",
      "* checking for file 'C:\\Users\\Soeur\\AppData\\Local\\Temp\\RtmpisaJNZ\\remotes44dc17157642\\satijalab-seurat-wrappers-d28512f/DESCRIPTION' ... OK\n",
      "* preparing 'SeuratWrappers':\n",
      "* checking DESCRIPTION meta-information ... OK\n",
      "* checking for LF line-endings in source and make files and shell scripts\n",
      "* checking for empty or unneeded directories\n",
      "Omitted 'LazyData' from DESCRIPTION\n",
      "* building 'SeuratWrappers_0.3.1.tar.gz'\n",
      "\n"
     ]
    },
    {
     "name": "stderr",
     "output_type": "stream",
     "text": [
      "Installation du package dans 'C:/Users/Soeur/AppData/Local/R/win-library/4.2'\n",
      "(car 'lib' n'est pas spécifié)\n",
      "\n"
     ]
    }
   ],
   "source": [
    "#devtools::install_github('cole-trapnell-lab/monocle3')\n",
    "library(monocle3)\n",
    "#devtools::install_github(\"satijalab/seurat-wrappers\")\n",
    "library(SeuratWrappers)"
   ]
  },
  {
   "cell_type": "code",
   "execution_count": 19,
   "id": "9656d419",
   "metadata": {
    "vscode": {
     "languageId": "r"
    }
   },
   "outputs": [
    {
     "name": "stderr",
     "output_type": "stream",
     "text": [
      "Warning message:\n",
      "\"Monocle 3 trajectories require cluster partitions, which Seurat does not calculate. Please run 'cluster_cells' on your cell_data_set object\"\n"
     ]
    },
    {
     "data": {
      "text/plain": [
       "class: cell_data_set \n",
       "dim: 2682 9840 \n",
       "metadata(0):\n",
       "assays(3): counts logcounts scaledata\n",
       "rownames(2682): SLC2A5 NMNAT1 ... TKTL1 PGAM4\n",
       "rowData names(0):\n",
       "colnames(9840): 225diff_AAACCCAAGAGCTGAC 225diff_AAACGAAGTAGACAGC ...\n",
       "  336_TTTGTTGCAAGGCCTC 336_TTTGTTGCACCGCTAG\n",
       "colData names(15): orig.ident nCount_RNA ... ident Size_Factor\n",
       "reducedDimNames(3): PCA UMAP TSNE\n",
       "mainExpName: RNA\n",
       "altExpNames(0):"
      ]
     },
     "metadata": {},
     "output_type": "display_data"
    }
   ],
   "source": [
    "monocle <- as.cell_data_set(metabo.object)\n",
    "monocle"
   ]
  },
  {
   "cell_type": "code",
   "execution_count": 20,
   "id": "b18a4791",
   "metadata": {
    "vscode": {
     "languageId": "r"
    }
   },
   "outputs": [],
   "source": [
    "cell_metadata <- colData(monocle)\n",
    "fData(monocle)$gene_name <- rownames(fData(monocle))"
   ]
  },
  {
   "cell_type": "code",
   "execution_count": 26,
   "id": "2ffeb191",
   "metadata": {
    "vscode": {
     "languageId": "r"
    }
   },
   "outputs": [
    {
     "data": {
      "text/plain": [
       "NULL"
      ]
     },
     "metadata": {},
     "output_type": "display_data"
    }
   ],
   "source": [
    "monocle$colData"
   ]
  },
  {
   "cell_type": "code",
   "execution_count": 22,
   "id": "f6390e9c",
   "metadata": {
    "vscode": {
     "languageId": "r"
    }
   },
   "outputs": [
    {
     "ename": "ERROR",
     "evalue": "Error in eval(expr, envir, enclos): tentative d'obtenir le slot \"rownames\" d'un objet d'une classe élémentaire (\"NULL\") sans slots\n",
     "output_type": "error",
     "traceback": [
      "Error in eval(expr, envir, enclos): tentative d'obtenir le slot \"rownames\" d'un objet d'une classe élémentaire (\"NULL\") sans slots\nTraceback:\n"
     ]
    }
   ],
   "source": [
    "recreate_partition <- c(rep(1,length(monocle$colData@rownames)))\n",
    "names(recreate_partition) <- monocle@colData@rownames\n",
    "recreate_partition <- as.factor(recreate_partition)"
   ]
  }
 ],
 "metadata": {
  "celltoolbar": "Tags",
  "kernelspec": {
   "display_name": "R",
   "language": "R",
   "name": "ir"
  },
  "language_info": {
   "codemirror_mode": "r",
   "file_extension": ".r",
   "mimetype": "text/x-r-source",
   "name": "R",
   "pygments_lexer": "r",
   "version": "4.2.2"
  }
 },
 "nbformat": 4,
 "nbformat_minor": 5
}
