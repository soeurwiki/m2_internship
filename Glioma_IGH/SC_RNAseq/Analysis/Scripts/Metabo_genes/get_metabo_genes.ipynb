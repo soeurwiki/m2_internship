{
 "cells": [
  {
   "attachments": {},
   "cell_type": "markdown",
   "id": "610e9aaf",
   "metadata": {},
   "source": [
    "## Read files"
   ]
  },
  {
   "cell_type": "code",
   "execution_count": 1,
   "id": "5a908287",
   "metadata": {
    "vscode": {
     "languageId": "r"
    }
   },
   "outputs": [],
   "source": [
    "import pandas as pd"
   ]
  },
  {
   "cell_type": "code",
   "execution_count": 5,
   "id": "8b505081",
   "metadata": {
    "vscode": {
     "languageId": "r"
    }
   },
   "outputs": [],
   "source": [
    "one_sample = '../Cellranger/BT1_diff/'\n",
    "file_metabo = 'Human-GEM_v1.14_geneIDs.txt'"
   ]
  },
  {
   "cell_type": "code",
   "execution_count": 88,
   "id": "4c769cb4",
   "metadata": {
    "scrolled": true,
    "vscode": {
     "languageId": "r"
    }
   },
   "outputs": [],
   "source": [
    "# read data from metabo file\n",
    "metabo_genes = pd.read_csv(file_metabo, sep='\\t')\n",
    "metabo_genes = metabo_genes.rename(columns={'geneEnsembl': 'Gene ID', 'geneSymbols': 'Gene name'})\n",
    "metabo_genes = metabo_genes[['Gene ID', 'Gene name']]\n",
    "\n",
    "metabo_genes['Gene ID'].size # 2920"
   ]
  },
  {
   "cell_type": "code",
   "execution_count": 89,
   "id": "b5559ffc",
   "metadata": {
    "vscode": {
     "languageId": "r"
    }
   },
   "outputs": [],
   "source": [
    "# read data from sample features file\n",
    "all_genes = pd.read_csv(one_sample+'features.tsv',sep='\\t')\n",
    "all_genes.columns = [\"Gene ID\",\"Gene name\", \"expression\"]\n",
    "all_genes = all_genes[['Gene ID', 'Gene name']]\n",
    "\n",
    "all_genes['Gene ID'].size"
   ]
  },
  {
   "attachments": {},
   "cell_type": "markdown",
   "id": "6e97c8cd",
   "metadata": {},
   "source": [
    "## Merge dataframes on Gene ID"
   ]
  },
  {
   "cell_type": "code",
   "execution_count": 116,
   "id": "0349eb89",
   "metadata": {
    "vscode": {
     "languageId": "r"
    }
   },
   "outputs": [],
   "source": [
    "merged_df = pd.merge(metabo_genes, all_genes, on=['Gene ID'], how='inner')\n",
    "\n",
    "merged_df['Gene ID'].size"
   ]
  },
  {
   "cell_type": "code",
   "execution_count": 114,
   "id": "f4f6ebea",
   "metadata": {
    "vscode": {
     "languageId": "r"
    }
   },
   "outputs": [
    {
     "data": {
      "text/html": [
       "<div>\n",
       "<style scoped>\n",
       "    .dataframe tbody tr th:only-of-type {\n",
       "        vertical-align: middle;\n",
       "    }\n",
       "\n",
       "    .dataframe tbody tr th {\n",
       "        vertical-align: top;\n",
       "    }\n",
       "\n",
       "    .dataframe thead th {\n",
       "        text-align: right;\n",
       "    }\n",
       "</style>\n",
       "<table border=\"1\" class=\"dataframe\">\n",
       "  <thead>\n",
       "    <tr style=\"text-align: right;\">\n",
       "      <th></th>\n",
       "      <th>geneEnsembl</th>\n",
       "      <th>Toulouse</th>\n",
       "      <th>Gene_name</th>\n",
       "    </tr>\n",
       "  </thead>\n",
       "  <tbody>\n",
       "    <tr>\n",
       "      <th>0</th>\n",
       "      <td>ENSG00000000419</td>\n",
       "      <td>DPM1</td>\n",
       "      <td>DPM1</td>\n",
       "    </tr>\n",
       "    <tr>\n",
       "      <th>1</th>\n",
       "      <td>ENSG00000001036</td>\n",
       "      <td>FUCA2</td>\n",
       "      <td>FUCA2</td>\n",
       "    </tr>\n",
       "    <tr>\n",
       "      <th>2</th>\n",
       "      <td>ENSG00000001084</td>\n",
       "      <td>GCLC</td>\n",
       "      <td>GCLC</td>\n",
       "    </tr>\n",
       "    <tr>\n",
       "      <th>3</th>\n",
       "      <td>ENSG00000001630</td>\n",
       "      <td>CYP51A1</td>\n",
       "      <td>CYP51A1</td>\n",
       "    </tr>\n",
       "    <tr>\n",
       "      <th>4</th>\n",
       "      <td>ENSG00000002549</td>\n",
       "      <td>LAP3</td>\n",
       "      <td>LAP3</td>\n",
       "    </tr>\n",
       "    <tr>\n",
       "      <th>...</th>\n",
       "      <td>...</td>\n",
       "      <td>...</td>\n",
       "      <td>...</td>\n",
       "    </tr>\n",
       "    <tr>\n",
       "      <th>2910</th>\n",
       "      <td>ENSG00000284844</td>\n",
       "      <td>NaN</td>\n",
       "      <td>TOMT</td>\n",
       "    </tr>\n",
       "    <tr>\n",
       "      <th>2911</th>\n",
       "      <td>ENSG00000285043</td>\n",
       "      <td>NaN</td>\n",
       "      <td>ENSG00000285043</td>\n",
       "    </tr>\n",
       "    <tr>\n",
       "      <th>2912</th>\n",
       "      <td>ENSG00000285269</td>\n",
       "      <td>NaN</td>\n",
       "      <td>ENSG00000285269</td>\n",
       "    </tr>\n",
       "    <tr>\n",
       "      <th>2913</th>\n",
       "      <td>ENSG00000288702</td>\n",
       "      <td>UGT1A3</td>\n",
       "      <td>UGT1A3</td>\n",
       "    </tr>\n",
       "    <tr>\n",
       "      <th>2914</th>\n",
       "      <td>ENSG00000288705</td>\n",
       "      <td>UGT1A5</td>\n",
       "      <td>UGT1A5</td>\n",
       "    </tr>\n",
       "  </tbody>\n",
       "</table>\n",
       "<p>2915 rows × 3 columns</p>\n",
       "</div>"
      ],
      "text/plain": [
       "          geneEnsembl Toulouse        Gene_name\n",
       "0     ENSG00000000419     DPM1             DPM1\n",
       "1     ENSG00000001036    FUCA2            FUCA2\n",
       "2     ENSG00000001084     GCLC             GCLC\n",
       "3     ENSG00000001630  CYP51A1          CYP51A1\n",
       "4     ENSG00000002549     LAP3             LAP3\n",
       "...               ...      ...              ...\n",
       "2910  ENSG00000284844      NaN             TOMT\n",
       "2911  ENSG00000285043      NaN  ENSG00000285043\n",
       "2912  ENSG00000285269      NaN  ENSG00000285269\n",
       "2913  ENSG00000288702   UGT1A3           UGT1A3\n",
       "2914  ENSG00000288705   UGT1A5           UGT1A5\n",
       "\n",
       "[2915 rows x 3 columns]"
      ]
     },
     "execution_count": 114,
     "metadata": {},
     "output_type": "execute_result"
    }
   ],
   "source": [
    "## change columns names\n",
    "merged_df = merged_df.rename(columns={'Gene ID':'geneEnsembl','Gene name_x': 'Toulouse', 'Gene name_y': 'Gene_name'})\n",
    "merged_df"
   ]
  },
  {
   "cell_type": "markdown",
   "id": "78b2a3cd",
   "metadata": {},
   "source": [
    "## Add missing genes (by hand)"
   ]
  },
  {
   "cell_type": "code",
   "execution_count": 94,
   "id": "0b9334ec",
   "metadata": {
    "vscode": {
     "languageId": "r"
    }
   },
   "outputs": [
    {
     "data": {
      "text/plain": [
       "ENSG00000161133    1\n",
       "ENSG00000263464    1\n",
       "ENSG00000189366    1\n",
       "ENSG00000133475    1\n",
       "ENSG00000112096    1\n",
       "Name: Gene ID, dtype: int64"
      ]
     },
     "execution_count": 94,
     "metadata": {},
     "output_type": "execute_result"
    }
   ],
   "source": [
    "## what is missing in cellranger features compared to the metabo_file\n",
    "test_all = pd.concat([metabo_genes['Gene ID'].dropna(), merged_df['Gene ID'].dropna()], axis=0)\n",
    "count = test_all.value_counts()\n",
    "res = count[count==1]\n",
    "res"
   ]
  },
  {
   "cell_type": "raw",
   "id": "866327f2",
   "metadata": {},
   "source": [
    "## go to Biomart and retrieve the gene name\n",
    "\n",
    "ENSG00000161133    USP41\n",
    "ENSG00000263464    ENSG00000263464\n",
    "ENSG00000189366    ALG1L1P\n",
    "ENSG00000133475    GGT2P\n",
    "ENSG00000112096    ENSG00000112096"
   ]
  },
  {
   "cell_type": "code",
   "execution_count": 118,
   "id": "508428db",
   "metadata": {
    "vscode": {
     "languageId": "r"
    }
   },
   "outputs": [
    {
     "data": {
      "text/html": [
       "<div>\n",
       "<style scoped>\n",
       "    .dataframe tbody tr th:only-of-type {\n",
       "        vertical-align: middle;\n",
       "    }\n",
       "\n",
       "    .dataframe tbody tr th {\n",
       "        vertical-align: top;\n",
       "    }\n",
       "\n",
       "    .dataframe thead th {\n",
       "        text-align: right;\n",
       "    }\n",
       "</style>\n",
       "<table border=\"1\" class=\"dataframe\">\n",
       "  <thead>\n",
       "    <tr style=\"text-align: right;\">\n",
       "      <th></th>\n",
       "      <th>geneEnsembl</th>\n",
       "      <th>Toulouse</th>\n",
       "      <th>Gene_name</th>\n",
       "    </tr>\n",
       "  </thead>\n",
       "  <tbody>\n",
       "    <tr>\n",
       "      <th>0</th>\n",
       "      <td>ENSG00000000419</td>\n",
       "      <td>DPM1</td>\n",
       "      <td>DPM1</td>\n",
       "    </tr>\n",
       "    <tr>\n",
       "      <th>1</th>\n",
       "      <td>ENSG00000001036</td>\n",
       "      <td>FUCA2</td>\n",
       "      <td>FUCA2</td>\n",
       "    </tr>\n",
       "    <tr>\n",
       "      <th>2</th>\n",
       "      <td>ENSG00000001084</td>\n",
       "      <td>GCLC</td>\n",
       "      <td>GCLC</td>\n",
       "    </tr>\n",
       "    <tr>\n",
       "      <th>3</th>\n",
       "      <td>ENSG00000001630</td>\n",
       "      <td>CYP51A1</td>\n",
       "      <td>CYP51A1</td>\n",
       "    </tr>\n",
       "    <tr>\n",
       "      <th>4</th>\n",
       "      <td>ENSG00000002549</td>\n",
       "      <td>LAP3</td>\n",
       "      <td>LAP3</td>\n",
       "    </tr>\n",
       "    <tr>\n",
       "      <th>...</th>\n",
       "      <td>...</td>\n",
       "      <td>...</td>\n",
       "      <td>...</td>\n",
       "    </tr>\n",
       "    <tr>\n",
       "      <th>2915</th>\n",
       "      <td>ENSG00000161133</td>\n",
       "      <td>ENSG00000161133</td>\n",
       "      <td>USP41</td>\n",
       "    </tr>\n",
       "    <tr>\n",
       "      <th>2916</th>\n",
       "      <td>ENSG00000263464</td>\n",
       "      <td>ENSG00000263464</td>\n",
       "      <td>ENSG00000263464</td>\n",
       "    </tr>\n",
       "    <tr>\n",
       "      <th>2917</th>\n",
       "      <td>ENSG00000189366</td>\n",
       "      <td>ENSG00000189366</td>\n",
       "      <td>ALG1L1P</td>\n",
       "    </tr>\n",
       "    <tr>\n",
       "      <th>2918</th>\n",
       "      <td>ENSG00000133475</td>\n",
       "      <td>ENSG00000133475</td>\n",
       "      <td>GGT2P</td>\n",
       "    </tr>\n",
       "    <tr>\n",
       "      <th>2919</th>\n",
       "      <td>ENSG00000112096</td>\n",
       "      <td>ENSG00000112096</td>\n",
       "      <td>ENSG00000112096</td>\n",
       "    </tr>\n",
       "  </tbody>\n",
       "</table>\n",
       "<p>2920 rows × 3 columns</p>\n",
       "</div>"
      ],
      "text/plain": [
       "          geneEnsembl         Toulouse        Gene_name\n",
       "0     ENSG00000000419             DPM1             DPM1\n",
       "1     ENSG00000001036            FUCA2            FUCA2\n",
       "2     ENSG00000001084             GCLC             GCLC\n",
       "3     ENSG00000001630          CYP51A1          CYP51A1\n",
       "4     ENSG00000002549             LAP3             LAP3\n",
       "...               ...              ...              ...\n",
       "2915  ENSG00000161133  ENSG00000161133            USP41\n",
       "2916  ENSG00000263464  ENSG00000263464  ENSG00000263464\n",
       "2917  ENSG00000189366  ENSG00000189366          ALG1L1P\n",
       "2918  ENSG00000133475  ENSG00000133475            GGT2P\n",
       "2919  ENSG00000112096  ENSG00000112096  ENSG00000112096\n",
       "\n",
       "[2920 rows x 3 columns]"
      ]
     },
     "execution_count": 118,
     "metadata": {},
     "output_type": "execute_result"
    }
   ],
   "source": [
    "## add missing genes\n",
    "gene1 = {'geneEnsembl': 'ENSG00000161133', 'Toulouse': 'ENSG00000161133', 'Gene_name': 'USP41'}\n",
    "gene2 = {'geneEnsembl': 'ENSG00000263464', 'Toulouse': 'ENSG00000263464', 'Gene_name': 'ENSG00000263464'}\n",
    "gene3 = {'geneEnsembl': 'ENSG00000189366', 'Toulouse': 'ENSG00000189366', 'Gene_name': 'ALG1L1P'}\n",
    "gene4 = {'geneEnsembl': 'ENSG00000133475', 'Toulouse': 'ENSG00000133475', 'Gene_name': 'GGT2P'}\n",
    "gene5 = {'geneEnsembl': 'ENSG00000112096', 'Toulouse': 'ENSG00000112096', 'Gene_name': 'ENSG00000112096'}\n",
    "\n",
    "merged_df = merged_df.append(gene1, ignore_index = True)\n",
    "merged_df = merged_df.append(gene2, ignore_index = True)\n",
    "merged_df = merged_df.append(gene3, ignore_index = True)\n",
    "merged_df = merged_df.append(gene4, ignore_index = True)\n",
    "merged_df = merged_df.append(gene5, ignore_index = True)\n",
    "\n",
    "merged_df"
   ]
  },
  {
   "cell_type": "code",
   "execution_count": 122,
   "id": "f9af9fa4",
   "metadata": {
    "vscode": {
     "languageId": "r"
    }
   },
   "outputs": [
    {
     "data": {
      "text/plain": [
       "0                  DPM1\n",
       "1                 FUCA2\n",
       "2                  GCLC\n",
       "3               CYP51A1\n",
       "4                  LAP3\n",
       "             ...       \n",
       "2915              USP41\n",
       "2916    ENSG00000263464\n",
       "2917            ALG1L1P\n",
       "2918              GGT2P\n",
       "2919    ENSG00000112096\n",
       "Name: Gene_name, Length: 2920, dtype: object"
      ]
     },
     "execution_count": 122,
     "metadata": {},
     "output_type": "execute_result"
    }
   ],
   "source": [
    "merged_df['Gene_name'].str.replace(\"_\", '-')"
   ]
  },
  {
   "cell_type": "markdown",
   "id": "ae6b7cfb",
   "metadata": {},
   "source": [
    "## See differences in genes names convention"
   ]
  },
  {
   "cell_type": "code",
   "execution_count": 120,
   "id": "7b29ec8e",
   "metadata": {
    "scrolled": true,
    "vscode": {
     "languageId": "r"
    }
   },
   "outputs": [
    {
     "name": "stdout",
     "output_type": "stream",
     "text": [
      "          geneEnsembl         Toulouse        Gene_name\n",
      "440   ENSG00000100101              NaN  ENSG00000100101\n",
      "526   ENSG00000102125              TAZ         TAFAZZIN\n",
      "2074  ENSG00000166986          mars-01            MARS1\n",
      "2388  ENSG00000177628              GBA             GBA1\n",
      "2423  ENSG00000180011            ZADH2            PTGR3\n",
      "2498  ENSG00000184154           LRTOMT           LRRC51\n",
      "2857  ENSG00000247626          mars-02            MARS2\n",
      "2871  ENSG00000255730              NaN  ENSG00000255730\n",
      "2884  ENSG00000259916              NaN            AQP7B\n",
      "2895  ENSG00000272916              NaN  ENSG00000272916\n",
      "2910  ENSG00000284844              NaN             TOMT\n",
      "2911  ENSG00000285043              NaN  ENSG00000285043\n",
      "2912  ENSG00000285269              NaN  ENSG00000285269\n",
      "2915  ENSG00000161133  ENSG00000161133            USP41\n",
      "2917  ENSG00000189366  ENSG00000189366          ALG1L1P\n",
      "2918  ENSG00000133475  ENSG00000133475            GGT2P\n"
     ]
    }
   ],
   "source": [
    "# filter rows where column Gene_name has different values compared to Toulouse\n",
    "different_rows = merged_df[(merged_df['Toulouse'] != merged_df['Gene_name'])]\n",
    "print(different_rows)"
   ]
  },
  {
   "attachments": {},
   "cell_type": "markdown",
   "id": "6c6c6ef9",
   "metadata": {},
   "source": [
    "### Store the results"
   ]
  },
  {
   "cell_type": "code",
   "execution_count": 75,
   "id": "4e11ea77",
   "metadata": {
    "vscode": {
     "languageId": "r"
    }
   },
   "outputs": [],
   "source": [
    "merged_df.to_csv('all_metabo.tsv',\n",
    "                 sep=\"\\t\", header=True,\n",
    "                 index=False)"
   ]
  }
 ],
 "metadata": {
  "kernelspec": {
   "display_name": "R",
   "language": "R",
   "name": "ir"
  },
  "language_info": {
   "codemirror_mode": "r",
   "file_extension": ".r",
   "mimetype": "text/x-r-source",
   "name": "R",
   "pygments_lexer": "r",
   "version": "4.2.2"
  }
 },
 "nbformat": 4,
 "nbformat_minor": 5
}
